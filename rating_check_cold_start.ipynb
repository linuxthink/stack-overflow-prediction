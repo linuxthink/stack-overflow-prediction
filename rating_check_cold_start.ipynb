{
 "cells": [
  {
   "cell_type": "code",
   "execution_count": 1,
   "metadata": {
    "collapsed": true
   },
   "outputs": [],
   "source": [
    "from __future__ import print_function\n",
    "from collections import defaultdict\n",
    "import numpy as np\n",
    "import scipy as sp\n",
    "import cPickle as pickle\n",
    "import time\n",
    "from collections import defaultdict"
   ]
  },
  {
   "cell_type": "code",
   "execution_count": 2,
   "metadata": {
    "collapsed": false
   },
   "outputs": [
    {
     "name": "stdout",
     "output_type": "stream",
     "text": [
      "42.4425520897\n"
     ]
    }
   ],
   "source": [
    "# laod raw data\n",
    "start_time = time.time() \n",
    "all_data = pickle.load(open(\"all_data.pickle\", \"rb\"))\n",
    "print(time.time() - start_time)"
   ]
  },
  {
   "cell_type": "code",
   "execution_count": 3,
   "metadata": {
    "collapsed": true
   },
   "outputs": [],
   "source": [
    "# get user and item ides from all data\n",
    "item_ids = set([d['itemID'] for d in all_data])\n",
    "user_ids = set([d['reviewerID'] for d in all_data])"
   ]
  },
  {
   "cell_type": "code",
   "execution_count": 4,
   "metadata": {
    "collapsed": false
   },
   "outputs": [],
   "source": [
    "# get header_str and user_item_ids to predict\n",
    "with open('pairs_Rating.txt') as f:\n",
    "    # read and strip lines\n",
    "    lines = [l.strip() for l in f.readlines()]\n",
    "    # stirip out the headers\n",
    "    header_str = lines.pop(0)\n",
    "    # get a list of user_item_ids\n",
    "    user_item_ids = [l.split('-') for l in lines]\n",
    "    \n",
    "for u, i in user_item_ids:\n",
    "    if u not in user_ids:\n",
    "        print(u)\n",
    "    if i not in item_ids:\n",
    "        print(i)\n",
    "\n",
    "# result: no code start problem"
   ]
  },
  {
   "cell_type": "code",
   "execution_count": 11,
   "metadata": {
    "collapsed": false
   },
   "outputs": [],
   "source": [
    "# whether train_data and valid_data has cold start problem\n",
    "train_data = all_data[:900000]\n",
    "valid_data = all_data[900000:]\n",
    "\n",
    "train_item_ids = set([d['itemID'] for d in train_data])\n",
    "train_user_ids = set([d['reviewerID'] for d in train_data])\n",
    "\n",
    "valid_item_ids = set([d['itemID'] for d in valid_data])\n",
    "valid_user_ids = set([d['reviewerID'] for d in valid_data])\n",
    "\n",
    "for i in valid_item_ids:\n",
    "    if i not in train_item_ids:\n",
    "        print(i)\n",
    "        \n",
    "for u in valid_user_ids:\n",
    "    if u not in train_user_ids:\n",
    "        print(u)\n",
    "        \n",
    "# result: luckily, no code start problem"
   ]
  }
 ],
 "metadata": {
  "kernelspec": {
   "display_name": "Python 2",
   "language": "python",
   "name": "python2"
  },
  "language_info": {
   "codemirror_mode": {
    "name": "ipython",
    "version": 2
   },
   "file_extension": ".py",
   "mimetype": "text/x-python",
   "name": "python",
   "nbconvert_exporter": "python",
   "pygments_lexer": "ipython2",
   "version": "2.7.6"
  }
 },
 "nbformat": 4,
 "nbformat_minor": 0
}
