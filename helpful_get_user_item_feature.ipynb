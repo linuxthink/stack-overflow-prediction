{
 "cells": [
  {
   "cell_type": "code",
   "execution_count": null,
   "metadata": {
    "collapsed": false
   },
   "outputs": [],
   "source": [
    "from __future__ import print_function\n",
    "from collections import defaultdict\n",
    "import numpy as np\n",
    "import scipy as sp\n",
    "import cPickle as pickle\n",
    "import time\n",
    "from pprint import pprint\n",
    "import os\n",
    "import datetime"
   ]
  },
  {
   "cell_type": "code",
   "execution_count": null,
   "metadata": {
    "collapsed": false
   },
   "outputs": [],
   "source": [
    "start_time = time.time()\n",
    "all_data = pickle.load(open(\"all_data.pickle\", \"rb\"))\n",
    "test_data = pickle.load(open(\"helpful_data.pickle\", \"rb\"))\n",
    "print(time.time() - start_time)"
   ]
  },
  {
   "cell_type": "code",
   "execution_count": null,
   "metadata": {
    "collapsed": false
   },
   "outputs": [],
   "source": [
    "# remove the outlier\n",
    "for i in reversed(range(len(all_data))):\n",
    "    d = all_data[i]\n",
    "    if d['helpful']['outOf'] > 3000:\n",
    "        all_data.pop(i)\n",
    "    elif d['helpful']['outOf'] < d['helpful']['nHelpful']:\n",
    "        all_data.pop(i)"
   ]
  },
  {
   "cell_type": "code",
   "execution_count": null,
   "metadata": {
    "collapsed": false
   },
   "outputs": [],
   "source": [
    "# global feature\n",
    "global_feature = dict()\n",
    "\n",
    "# ratio a: global average\n",
    "train_helpfuls = np.array([d['helpful']['nHelpful']\n",
    "                           for d in train_data]).astype(float)\n",
    "train_outofs = np.array([d['helpful']['outOf']\n",
    "                         for d in train_data]).astype(float)\n",
    "global_ratio_a = np.sum(train_helpfuls) / np.sum(train_outofs.astype(float))\n",
    "\n",
    "# ratio b: average of individual ratios\n",
    "pure_helpfuls = np.copy(train_helpfuls)\n",
    "pure_outofs = np.copy(train_outofs)\n",
    "pure_helpfuls = pure_helpfuls[pure_outofs != 0]\n",
    "pure_outofs = pure_outofs[pure_outofs != 0]\n",
    "global_ratio_b = np.mean(pure_helpfuls / pure_outofs)\n",
    "\n",
    "# ratio c: linear search best ratio\n",
    "def linear_search_ratio(helpfuls, outofs, search_range=(0.3, 1.0, 0.001)):\n",
    "    alphas = np.arange(*search_range)\n",
    "    errors = [get_mae(helpfuls, outofs * alpha) for alpha in alphas]\n",
    "    optimal_alpha = alphas[np.argmin(errors)]\n",
    "    return optimal_alpha\n",
    "\n",
    "global_ratio_c = linear_search_ratio(\n",
    "    train_helpfuls, train_outofs, search_range=(0.3, 1.0, 0.001))\n",
    "\n",
    "# avg review length and summary length\n",
    "avg_review_length = np.mean(\n",
    "    [float(len(d['reviewText'].split())) for d in all_data + test_data])\n",
    "avg_summary_length = np.mean(\n",
    "    [float(len(d['summary'].split())) for d in all_data + test_data])\n",
    "\n",
    "global_feature['global_ratio_a'] = global_ratio_a\n",
    "global_feature['global_ratio_b'] = global_ratio_b\n",
    "global_feature['global_ratio_c'] = global_ratio_c\n",
    "global_feature['avg_review_length'] = avg_review_length\n",
    "global_feature['avg_summary_length'] = avg_summary_length\n",
    "pprint(global_feature)"
   ]
  },
  {
   "cell_type": "code",
   "execution_count": null,
   "metadata": {
    "collapsed": false
   },
   "outputs": [],
   "source": [
    "# user feature\n",
    "user_ids = list(set([d['reviewerID'] for d in all_data + test_data]))\n",
    "users_feature = dict()\n",
    "for user_id in user_ids:\n",
    "    users_feature[user_id] = dict()\n",
    "\n",
    "# 1. compute ratios\n",
    "users_outofs = defaultdict(list)\n",
    "users_helpfuls = defaultdict(list)\n",
    "\n",
    "for d in train_data:\n",
    "    user_id = d['reviewerID']\n",
    "    users_helpfuls[user_id].append(float(d['helpful']['nHelpful']))\n",
    "    users_outofs[user_id].append(float(d['helpful']['outOf']))\n",
    "\n",
    "# ratio_a\n",
    "for user_id in users_outofs:\n",
    "    if np.sum(users_outofs[user_id]) != 0:\n",
    "        users_feature[user_id]['ratio_a'] = np.sum(\n",
    "            users_helpfuls[user_id]) / np.sum(users_outofs[user_id])\n",
    "    else:\n",
    "        users_feature[user_id]['ratio_a'] = global_feature['global_ratio_a']\n",
    "\n",
    "# ratio_b\n",
    "for user_id in users_outofs:\n",
    "    if np.sum(users_outofs[user_id]) != 0:\n",
    "        helpfuls = np.array(users_helpfuls[user_id])\n",
    "        outofs = np.array(users_outofs[user_id])\n",
    "        # remove zero outofs\n",
    "        helpfuls = helpfuls[outofs != 0]\n",
    "        outofs = outofs[outofs != 0]\n",
    "        # ratios\n",
    "        ratios = helpfuls / outofs\n",
    "        users_feature[user_id]['ratio_b'] = np.mean(ratios)\n",
    "    else:\n",
    "        users_feature[user_id]['ratio_b'] = global_feature['global_ratio_b']\n",
    "\n",
    "# 2. number of reviews by the user\n",
    "users_num_review = defaultdict(float)\n",
    "for d in all_data + test_data:\n",
    "    user_id = d['reviewerID']\n",
    "    users_num_review[user_id] += 1.0\n",
    "for user_id in users_feature:\n",
    "    users_feature[user_id]['num_reviews'] = users_num_review[user_id]\n",
    "\n",
    "# 3. time line ratio and time spot ratio (store all review_times for usage)\n",
    "users_review_times = defaultdict(list)\n",
    "for d in all_data + test_data:\n",
    "    user_id = d['reviewerID']\n",
    "    users_review_times[user_id].append(d['unixReviewTime'])\n",
    "    users_review_times[user_id] = sorted(users_review_times[user_id])\n",
    "for user_id in users_feature:\n",
    "    users_feature[user_id]['review_times'] = users_review_times[user_id]\n",
    "\n",
    "# 4. average review length and summary length by the user\n",
    "users_review_lengths = defaultdict(list)\n",
    "users_summary_lengths = defaultdict(list)\n",
    "for d in all_data + test_data:\n",
    "    user_id = d['reviewerID']\n",
    "    users_review_lengths[user_id].append(float(len(d['reviewText'].split())))\n",
    "    users_summary_lengths[user_id].append(float(len(d['summary'].split())))\n",
    "\n",
    "for user_id in users_feature:\n",
    "    if users_feature[user_id]['num_reviews'] == 0:\n",
    "        users_feature[user_id]['avg_review_length'] = global_feature[\n",
    "            'avg_review_length']\n",
    "        users_feature[user_id]['avg_summary_length'] = global_feature[\n",
    "            'avg_summary_length']\n",
    "    else:\n",
    "        assert len(users_review_lengths[user_id]) > 0\n",
    "        assert len(users_summary_lengths[user_id]) > 0\n",
    "        users_feature[user_id]['avg_review_length'] = np.mean(\n",
    "            users_review_lengths[user_id])\n",
    "        users_feature[user_id]['avg_summary_length'] = np.mean(\n",
    "            users_summary_lengths[user_id])"
   ]
  },
  {
   "cell_type": "code",
   "execution_count": null,
   "metadata": {
    "collapsed": false
   },
   "outputs": [],
   "source": [
    "# print(users_feature['U805524026'])\n",
    "collect = [d for d in train_data +\n",
    "           test_data if d['reviewerID'] == 'U805524026']\n",
    "print(len(collect))\n",
    "avg_review_lengths = np.mean(\n",
    "    [float(len(d['reviewText'].split())) for d in collect])\n",
    "avg_summary_lengths = np.mean(\n",
    "    [float(len(d['summary'].split())) for d in collect])\n",
    "print(avg_review_lengths, avg_summary_lengths)"
   ]
  },
  {
   "cell_type": "code",
   "execution_count": null,
   "metadata": {
    "collapsed": false
   },
   "outputs": [],
   "source": [
    "# item feature\n",
    "item_ids = list(set([d['itemID'] for d in all_data + test_data]))\n",
    "items_feature = dict()\n",
    "for item_id in item_ids:\n",
    "    items_feature[item_id] = dict()\n",
    "\n",
    "# 1. compute ratios\n",
    "items_outofs = defaultdict(list)\n",
    "items_helpfuls = defaultdict(list)\n",
    "\n",
    "for d in train_data:\n",
    "    item_id = d['itemID']\n",
    "    items_helpfuls[item_id].append(float(d['helpful']['nHelpful']))\n",
    "    items_outofs[item_id].append(float(d['helpful']['outOf']))\n",
    "\n",
    "# ratio_a\n",
    "for item_id in items_outofs:\n",
    "    if np.sum(items_outofs[item_id]) != 0:\n",
    "        items_feature[item_id]['ratio_a'] = np.sum(\n",
    "            items_helpfuls[item_id]) / np.sum(items_outofs[item_id])\n",
    "    else:\n",
    "        items_feature[item_id]['ratio_a'] = global_feature['global_ratio_a']\n",
    "\n",
    "# ratio_b\n",
    "for item_id in items_outofs:\n",
    "    if np.sum(items_outofs[item_id]) != 0:\n",
    "        helpfuls = np.array(items_helpfuls[item_id])\n",
    "        outofs = np.array(items_outofs[item_id])\n",
    "        # remove zero outofs\n",
    "        helpfuls = helpfuls[outofs != 0]\n",
    "        outofs = outofs[outofs != 0]\n",
    "        # ratios\n",
    "        ratios = helpfuls / outofs\n",
    "        items_feature[item_id]['ratio_b'] = np.mean(ratios)\n",
    "    else:\n",
    "        items_feature[item_id]['ratio_b'] = global_feature['global_ratio_b']\n",
    "\n",
    "# 2. number of reviews to the item\n",
    "items_num_review = defaultdict(float)\n",
    "for d in all_data + test_data:\n",
    "    item_id = d['itemID']\n",
    "    items_num_review[item_id] += 1.0\n",
    "for item_id in items_feature:\n",
    "    items_feature[item_id]['num_reviews'] = items_num_review[item_id]\n",
    "\n",
    "# 3. time line ratio and time spot ratio (store all review_times for usage)\n",
    "items_review_times = defaultdict(list)\n",
    "for d in all_data + test_data:\n",
    "    item_id = d['itemID']\n",
    "    items_review_times[item_id].append(d['unixReviewTime'])\n",
    "    items_review_times[item_id] = sorted(items_review_times[item_id])\n",
    "for item_id in items_feature:\n",
    "    items_feature[item_id]['review_times'] = items_review_times[item_id]\n",
    "\n",
    "# 4. average review length and summary length for the item\n",
    "items_review_lengths = defaultdict(list)\n",
    "items_summary_lengths = defaultdict(list)\n",
    "for d in all_data + test_data:\n",
    "    item_id = d['itemID']\n",
    "    items_review_lengths[item_id].append(float(len(d['reviewText'].split())))\n",
    "    items_summary_lengths[item_id].append(float(len(d['summary'].split())))\n",
    "\n",
    "for item_id in items_feature:\n",
    "    if items_feature[item_id]['num_reviews'] == 0:\n",
    "        items_feature[item_id]['avg_review_length'] = global_feature[\n",
    "            'avg_review_length']\n",
    "        items_feature[item_id]['avg_summary_length'] = global_feature[\n",
    "            'avg_summary_length']\n",
    "    else:\n",
    "        assert len(items_review_lengths[item_id]) > 0\n",
    "        assert len(items_summary_lengths[item_id]) > 0\n",
    "        items_feature[item_id]['avg_review_length'] = np.mean(\n",
    "            items_review_lengths[item_id])\n",
    "        items_feature[item_id]['avg_summary_length'] = np.mean(\n",
    "            items_summary_lengths[item_id]"
   ]
  },
  {
   "cell_type": "code",
   "execution_count": null,
   "metadata": {
    "collapsed": true
   },
   "outputs": [],
   "source": [
    "print(items_feature['I063511736'])"
   ]
  },
  {
   "cell_type": "code",
   "execution_count": null,
   "metadata": {
    "collapsed": true
   },
   "outputs": [],
   "source": [
    "# pickle.dump((global_feature, users_feature, items_feature), \n",
    "#              open(\"global_users_items_feature.feature\", \"wb\"), \n",
    "#              protocol = pickle.HIGHEST_PROTOCOL)\n",
    "# global_feature, users_feature, items_feature = pickle.load(open(\"global_users_items_feature.feature\", \"rb\"))"
   ]
  }
 ],
 "metadata": {
  "kernelspec": {
   "display_name": "Python 2",
   "language": "python",
   "name": "python2"
  },
  "language_info": {
   "codemirror_mode": {
    "name": "ipython",
    "version": 2
   },
   "file_extension": ".py",
   "mimetype": "text/x-python",
   "name": "python",
   "nbconvert_exporter": "python",
   "pygments_lexer": "ipython2",
   "version": "2.7.6"
  }
 },
 "nbformat": 4,
 "nbformat_minor": 0
}
