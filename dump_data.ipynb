{
 "cells": [
  {
   "cell_type": "code",
   "execution_count": null,
   "metadata": {
    "collapsed": true
   },
   "outputs": [],
   "source": [
    "# read train.json and output all_data.pickle\n",
    "from collections import defaultdict\n",
    "import numpy as np\n",
    "import cPickle as pickle\n",
    "import time\n",
    "import os\n",
    "from __future__ import print_function\n",
    "\n",
    "data_root = os.path.expanduser(\"~\") + '/data/CSE255/'\n",
    "\n",
    "def read_file(f):\n",
    "    for l in open(f):\n",
    "        yield eval(l)"
   ]
  },
  {
   "cell_type": "code",
   "execution_count": null,
   "metadata": {
    "collapsed": false
   },
   "outputs": [],
   "source": [
    "# read train data\n",
    "train_data = []\n",
    "for l in read_file(\"train.json\"):\n",
    "    train_data.append(l)\n",
    "\n",
    "# dump to pickle\n",
    "pickle.dump(train_data, open(data_root + \"all_data.pickle\", \"wb\"), \n",
    "            protocol = pickle.HIGHEST_PROTOCOL)\n",
    "\n",
    "# read from pickle\n",
    "start_time = time.time()\n",
    "all_data = pickle.load(open(data_root + \"all_data.pickle\", \"rb\"))\n",
    "print(time.time() - start_time)\n",
    "\n",
    "# print original data\n",
    "print(train_data[100])\n",
    "\n",
    "# print data from pickle\n",
    "print(all_data[100])"
   ]
  },
  {
   "cell_type": "code",
   "execution_count": null,
   "metadata": {
    "collapsed": false
   },
   "outputs": [],
   "source": [
    "# read train data\n",
    "train_data = []\n",
    "for l in read_file(\"helpful.json\"):\n",
    "    train_data.append(l)\n",
    "\n",
    "# dump to pickle\n",
    "pickle.dump(train_data, open(data_root + \"helpful_data.pickle\", \"wb\"), \n",
    "            protocol = pickle.HIGHEST_PROTOCOL)\n",
    "\n",
    "# read from pickle\n",
    "start_time = time.time()\n",
    "all_data = pickle.load(open(data_root + \"helpful_data.pickle\", \"rb\"))\n",
    "print(time.time() - start_time)\n",
    "\n",
    "# print original data\n",
    "print(train_data[100])\n",
    "\n",
    "# print data from pickle\n",
    "print(all_data[100])"
   ]
  }
 ],
 "metadata": {
  "kernelspec": {
   "display_name": "Python 2",
   "language": "python",
   "name": "python2"
  },
  "language_info": {
   "codemirror_mode": {
    "name": "ipython",
    "version": 2
   },
   "file_extension": ".py",
   "mimetype": "text/x-python",
   "name": "python",
   "nbconvert_exporter": "python",
   "pygments_lexer": "ipython2",
   "version": "2.7.6"
  }
 },
 "nbformat": 4,
 "nbformat_minor": 0
}
