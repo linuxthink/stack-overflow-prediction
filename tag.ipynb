{
 "cells": [
  {
   "cell_type": "code",
   "execution_count": 1,
   "metadata": {
    "collapsed": false
   },
   "outputs": [],
   "source": [
    "from __future__ import print_function\n",
    "import numpy as np\n",
    "import os\n",
    "import csv\n",
    "from pprint import pprint\n",
    "\n",
    "data_path = os.path.join(os.path.expanduser(\".\"), 'data')"
   ]
  },
  {
   "cell_type": "code",
   "execution_count": 3,
   "metadata": {
    "collapsed": false
   },
   "outputs": [
    {
     "ename": "NameError",
     "evalue": "name 'datum' is not defined",
     "output_type": "error",
     "traceback": [
      "\u001b[0;31m---------------------------------------------------------------------------\u001b[0m",
      "\u001b[0;31mNameError\u001b[0m                                 Traceback (most recent call last)",
      "\u001b[0;32m<ipython-input-3-55f956ef35d9>\u001b[0m in \u001b[0;36m<module>\u001b[0;34m()\u001b[0m\n\u001b[1;32m      1\u001b[0m \u001b[0;31m# print datum\u001b[0m\u001b[0;34m\u001b[0m\u001b[0;34m\u001b[0m\u001b[0m\n\u001b[0;32m----> 2\u001b[0;31m \u001b[0mpprint\u001b[0m\u001b[0;34m(\u001b[0m\u001b[0mdatum\u001b[0m\u001b[0;34m)\u001b[0m\u001b[0;34m\u001b[0m\u001b[0m\n\u001b[0m",
      "\u001b[0;31mNameError\u001b[0m: name 'datum' is not defined"
     ]
    }
   ],
   "source": [
    "# print datum\n",
    "pprint(datum)"
   ]
  },
  {
   "cell_type": "code",
   "execution_count": 4,
   "metadata": {
    "collapsed": false
   },
   "outputs": [
    {
     "name": "stdout",
     "output_type": "stream",
     "text": [
      "What are the adverse effects of having too many lookup tables in the database?\r\n",
      "\r\n",
      " I have to incorportate too many Enumerations, based on the applications. \r\n",
      "\r\n",
      "What would experts advice?\n"
     ]
    }
   ],
   "source": [
    "# print the question body\n",
    "print(datum['BodyMarkdown'])"
   ]
  },
  {
   "cell_type": "code",
   "execution_count": 5,
   "metadata": {
    "collapsed": false
   },
   "outputs": [],
   "source": [
    "feature_dict = gen_datum_feature_dict(datum)\n",
    "label = gen_datum_label(datum)"
   ]
  },
  {
   "cell_type": "code",
   "execution_count": 10,
   "metadata": {
    "collapsed": true
   },
   "outputs": [],
   "source": []
  },
  {
   "cell_type": "code",
   "execution_count": 1,
   "metadata": {
    "collapsed": true
   },
   "outputs": [],
   "source": []
  },
  {
   "cell_type": "code",
   "execution_count": 5,
   "metadata": {
    "collapsed": false
   },
   "outputs": [],
   "source": [
    "reader = csv.DictReader(open(os.path.join(data_path, 'visualData.csv')))\n",
    "tagCount = dict()\n",
    "for datum in reader:\n",
    "    tags = []\n",
    "    if datum['Tag1'] != '':\n",
    "        tags.append(datum['Tag1'])\n",
    "    if datum['Tag2'] != '':\n",
    "        tags.append(datum['Tag2'])\n",
    "    if datum['Tag3'] != '':\n",
    "        tags.append(datum['Tag3'])\n",
    "    if datum['Tag4'] != '':\n",
    "        tags.append(datum['Tag4'])\n",
    "    if datum['Tag5'] != '':\n",
    "        tags.append(datum['Tag5'])\n",
    "    for t in tags:\n",
    "        if t in tagCount:\n",
    "            tagCount[t] += 1\n",
    "        else:\n",
    "            tagCount[t] = 1"
   ]
  },
  {
   "cell_type": "code",
   "execution_count": 6,
   "metadata": {
    "collapsed": true
   },
   "outputs": [],
   "source": [
    "listofTag = []\n",
    "for tag in tagCount:\n",
    "    listofTag.append((tag, tagCount[tag]))"
   ]
  },
  {
   "cell_type": "code",
   "execution_count": 7,
   "metadata": {
    "collapsed": true
   },
   "outputs": [],
   "source": [
    "listofTag.sort(key = lambda x:x[1])"
   ]
  },
  {
   "cell_type": "code",
   "execution_count": 25,
   "metadata": {
    "collapsed": false
   },
   "outputs": [],
   "source": [
    "upper300 = listofTag[-20:]"
   ]
  },
  {
   "cell_type": "code",
   "execution_count": 26,
   "metadata": {
    "collapsed": true
   },
   "outputs": [],
   "source": [
    "upperDict = dict()\n",
    "for t in upper300:\n",
    "    upperDict[t[0]] = t[1]"
   ]
  },
  {
   "cell_type": "code",
   "execution_count": 80,
   "metadata": {
    "collapsed": false,
    "scrolled": true
   },
   "outputs": [],
   "source": [
    "reader = csv.DictReader(open(os.path.join(data_path, 'visualData.csv')))\n",
    "tagDict = dict() \n",
    "for datum in reader:\n",
    "    tags = []\n",
    "    if datum['Tag1'] != '':\n",
    "        tags.append(datum['Tag1'])\n",
    "    if datum['Tag2'] != '':\n",
    "        tags.append(datum['Tag2'])\n",
    "    if datum['Tag3'] != '':\n",
    "        tags.append(datum['Tag3'])\n",
    "    if datum['Tag4'] != '':\n",
    "        tags.append(datum['Tag4'])\n",
    "    if datum['Tag5'] != '':\n",
    "        tags.append(datum['Tag5'])\n",
    "    tagsFilter = []\n",
    "    for t in tags:\n",
    "        if t in upperDict:\n",
    "            tagsFilter.append(t)\n",
    "    for index in xrange(len(tagsFilter)):\n",
    "        if tagsFilter[index] in tagDict:\n",
    "            tagDict[tagsFilter[index]].extend(tagsFilter[:index] + tagsFilter[index+1:])\n",
    "        else:\n",
    "            tagDict[tagsFilter[index]] = tagsFilter[:index] + tagsFilter[index+1:]"
   ]
  },
  {
   "cell_type": "code",
   "execution_count": 81,
   "metadata": {
    "collapsed": false
   },
   "outputs": [],
   "source": [
    "for t in tagDict:\n",
    "    tagDict[t] = list(set(tagDict[t]))"
   ]
  },
  {
   "cell_type": "code",
   "execution_count": 13,
   "metadata": {
    "collapsed": true
   },
   "outputs": [],
   "source": [
    "import json"
   ]
  },
  {
   "cell_type": "code",
   "execution_count": 24,
   "metadata": {
    "collapsed": false
   },
   "outputs": [
    {
     "data": {
      "text/plain": [
       "16798"
      ]
     },
     "execution_count": 24,
     "metadata": {},
     "output_type": "execute_result"
    }
   ],
   "source": [
    "len(tagDict.keys())"
   ]
  },
  {
   "cell_type": "code",
   "execution_count": 69,
   "metadata": {
    "collapsed": false
   },
   "outputs": [
    {
     "name": "stdout",
     "output_type": "stream",
     "text": [
      "542\n"
     ]
    }
   ],
   "source": [
    "index = 0\n",
    "for tag in tagDict:\n",
    "    for t in tagDict[tag]:\n",
    "        if t not in tagDict:\n",
    "            print (tag)\n",
    "            print (t)\n",
    "            break\n",
    "        index += 1\n",
    "print (index)"
   ]
  },
  {
   "cell_type": "code",
   "execution_count": 83,
   "metadata": {
    "collapsed": false
   },
   "outputs": [],
   "source": [
    "f = open(\"./data/tagConnect.json\", \"w\")\n",
    "f.write(\"[\\n\")\n",
    "for tag in tagDict:\n",
    "    f.write(\"{\")\n",
    "    f.write(\"\\\"name\\\":\" + \"\\\"\" + tag + \"\\\"\" + \",\" + \"\\\"imports\\\":\" + json.dumps(tagDict[tag]))\n",
    "    f.write(\"},\\n\")\n",
    "f.write(\"]\")"
   ]
  },
  {
   "cell_type": "code",
   "execution_count": 13,
   "metadata": {
    "collapsed": false
   },
   "outputs": [],
   "source": [
    "with open('mydata.txt', 'w') as f:\n",
    "    for word in tags:\n",
    "        f.write(word+\"\\t\")"
   ]
  },
  {
   "cell_type": "code",
   "execution_count": 12,
   "metadata": {
    "collapsed": false
   },
   "outputs": [
    {
     "name": "stdout",
     "output_type": "stream",
     "text": [
      "da\n"
     ]
    }
   ],
   "source": [
    "print (\"da\")"
   ]
  },
  {
   "cell_type": "code",
   "execution_count": 27,
   "metadata": {
    "collapsed": false
   },
   "outputs": [],
   "source": [
    "# tag vs close ratio\n",
    "reader = csv.DictReader(open(os.path.join(data_path, 'visualData.csv')))\n",
    "tagcloseDict = dict() \n",
    "for datum in reader:\n",
    "    tags = []\n",
    "    if datum['Tag1'] != '':\n",
    "        tags.append(datum['Tag1'])\n",
    "    if datum['Tag2'] != '':\n",
    "        tags.append(datum['Tag2'])\n",
    "    if datum['Tag3'] != '':\n",
    "        tags.append(datum['Tag3'])\n",
    "    if datum['Tag4'] != '':\n",
    "        tags.append(datum['Tag4'])\n",
    "    if datum['Tag5'] != '':\n",
    "        tags.append(datum['Tag5'])\n",
    "    for t in tags:\n",
    "        if t in upperDict:\n",
    "            status = 0\n",
    "            if datum['OpenStatus'] != \"open\":\n",
    "                status = 1\n",
    "            if t not in tagcloseDict:\n",
    "                tagcloseDict[t] = [status]\n",
    "            else:\n",
    "                tagcloseDict[t].append(status)"
   ]
  },
  {
   "cell_type": "code",
   "execution_count": 28,
   "metadata": {
    "collapsed": false
   },
   "outputs": [],
   "source": [
    "# compute close rate\n",
    "for t in tagcloseDict:\n",
    "    tagcloseDict[t] = tagcloseDict[t].count(1) * 1.0 / len(tagcloseDict[t])"
   ]
  },
  {
   "cell_type": "code",
   "execution_count": 30,
   "metadata": {
    "collapsed": false
   },
   "outputs": [],
   "source": [
    "# sort\n",
    "sortclost = []\n",
    "for t in tagcloseDict:\n",
    "    sortclost.append((t, tagcloseDict[t]))\n",
    "sortclost.sort(key = lambda x: x[1], reverse = True)\n",
    "# wirte the file\n",
    "f = open(\"./data/tagvsratio.csv\", \"w\")\n",
    "for t in sortclost:\n",
    "    f.write(t[0])\n",
    "    f.write(\",\")\n",
    "    f.write(str(t[1]))\n",
    "    f.write(\"\\n\")"
   ]
  }
 ],
 "metadata": {
  "kernelspec": {
   "display_name": "Python 2",
   "language": "python",
   "name": "python2"
  },
  "language_info": {
   "codemirror_mode": {
    "name": "ipython",
    "version": 2
   },
   "file_extension": ".py",
   "mimetype": "text/x-python",
   "name": "python",
   "nbconvert_exporter": "python",
   "pygments_lexer": "ipython2",
   "version": "2.7.10"
  }
 },
 "nbformat": 4,
 "nbformat_minor": 0
}
