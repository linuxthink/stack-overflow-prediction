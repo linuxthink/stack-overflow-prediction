{
 "cells": [
  {
   "cell_type": "code",
   "execution_count": 1,
   "metadata": {
    "collapsed": false
   },
   "outputs": [],
   "source": [
    "from __future__ import print_function\n",
    "from collections import defaultdict\n",
    "import numpy as np\n",
    "import scipy as sp\n",
    "import cPickle as pickle\n",
    "import time\n",
    "from pprint import pprint\n",
    "import os\n",
    "import datetime"
   ]
  },
  {
   "cell_type": "code",
   "execution_count": 2,
   "metadata": {
    "collapsed": false
   },
   "outputs": [
    {
     "name": "stdout",
     "output_type": "stream",
     "text": [
      "17.9939420223\n"
     ]
    }
   ],
   "source": [
    "# load all_data and test_data\n",
    "start_time = time.time()\n",
    "all_data = pickle.load(open(\"all_data.pickle\", \"rb\"))\n",
    "test_data = pickle.load(open(\"helpful_data.pickle\", \"rb\"))\n",
    "print(time.time() - start_time)"
   ]
  },
  {
   "cell_type": "code",
   "execution_count": 121,
   "metadata": {
    "collapsed": false
   },
   "outputs": [],
   "source": [
    "# add global_feature['level_cats'] to global_feature\n",
    "raw_cats = [d['category'] for d in all_data + test_data]\n",
    "\n",
    "level_cats = list()\n",
    "for level in range(7):\n",
    "    level_cats.append(set())\n",
    "    for cat_list_list in raw_cats:\n",
    "        for cat_list in cat_list_list:\n",
    "            if len(cat_list) > level:\n",
    "                level_cats[level].add(cat_list[level])\n",
    "# convert set to list\n",
    "for i in range(len(level_cats)):\n",
    "    level_cats[i] = sorted(list(level_cats[i]))\n",
    "global_feature['level_cats'] = level_cats\n",
    "\n",
    "def get_level_zero_feature(d):\n",
    "    def is_kindle(d):\n",
    "        is_kindle = False\n",
    "        cat_list_list = d['category']\n",
    "        for cat_list in cat_list_list:\n",
    "            if (cat_list[0] == 'Kindle Store'):\n",
    "                return True\n",
    "        return False\n",
    "    if is_kindle(d):\n",
    "        return [1.0]\n",
    "    else:\n",
    "        return [0.0]\n",
    "\n",
    "def get_level_one_feature(d):\n",
    "    cat_list_list = d['category']\n",
    "    level_one_cats = set()\n",
    "    for cat_list in cat_list_list:\n",
    "        if len(cat_list) > 1:\n",
    "            level_one_cats.add(cat_list[1])\n",
    "    # gen binary feature of length 33\n",
    "    feature = [0.] * len(cat_feature['level_cats'][1])\n",
    "    for cat in level_one_cats:\n",
    "        index = cat_feature['level_cats'][1].index(cat)\n",
    "        feature[index] = 1.0\n",
    "    return feature\n",
    "\n",
    "def get_cat_feature(d):\n",
    "    feature = []\n",
    "    # how many cats\n",
    "    feature += [float(len(d['category']))]\n",
    "    # 2 level feature\n",
    "    feature += get_level_zero_feature(d)\n",
    "    feature += get_level_one_feature(d)\n",
    "    return feature"
   ]
  }
 ],
 "metadata": {
  "kernelspec": {
   "display_name": "Python 2",
   "language": "python",
   "name": "python2"
  },
  "language_info": {
   "codemirror_mode": {
    "name": "ipython",
    "version": 2
   },
   "file_extension": ".py",
   "mimetype": "text/x-python",
   "name": "python",
   "nbconvert_exporter": "python",
   "pygments_lexer": "ipython2",
   "version": "2.7.6"
  }
 },
 "nbformat": 4,
 "nbformat_minor": 0
}
