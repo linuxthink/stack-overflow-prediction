{
 "cells": [
  {
   "cell_type": "code",
   "execution_count": 1,
   "metadata": {
    "collapsed": false
   },
   "outputs": [],
   "source": [
    "from __future__ import print_function\n",
    "from pprint import pprint\n",
    "import os\n",
    "import csv\n",
    "import cPickle as pickle\n",
    "from dateutil import parser as dateparser\n",
    "import datetime, time\n",
    "\n",
    "import numpy as np\n",
    "import scipy as sp\n",
    "\n",
    "from feature_label_builder import FeatureLabelBuilder, get_feature_keys\n",
    "from feature_label_builder import data_path, full_path, status_map_label, all_status"
   ]
  },
  {
   "cell_type": "code",
   "execution_count": 2,
   "metadata": {
    "collapsed": false
   },
   "outputs": [
    {
     "data": {
      "text/plain": [
       "{'not a real question': 1,\n",
       " 'not constructive': 2,\n",
       " 'off topic': 3,\n",
       " 'open': 4,\n",
       " 'too localized': 5}"
      ]
     },
     "execution_count": 2,
     "metadata": {},
     "output_type": "execute_result"
    }
   ],
   "source": [
    "status_map_label"
   ]
  },
  {
   "cell_type": "code",
   "execution_count": 3,
   "metadata": {
    "collapsed": false
   },
   "outputs": [
    {
     "name": "stdout",
     "output_type": "stream",
     "text": [
      "2012-10-10 00:00:01\n",
      "2012-10-23 23:59:55\n"
     ]
    }
   ],
   "source": [
    "reader = csv.DictReader(open(os.path.join(data_path, 'private_leaderboard.csv')))\n",
    "\n",
    "post_times = [dateparser.parse(datum['PostCreationDate']) for datum in reader]\n",
    "post_times = sorted(post_times)\n",
    "print(post_times[0])\n",
    "print(post_times[-1])"
   ]
  },
  {
   "cell_type": "code",
   "execution_count": 4,
   "metadata": {
    "collapsed": false
   },
   "outputs": [
    {
     "name": "stdout",
     "output_type": "stream",
     "text": [
      "2012-08-01 00:00:17\n",
      "2012-08-14 23:59:04\n"
     ]
    }
   ],
   "source": [
    "reader = csv.DictReader(open(os.path.join(data_path, 'public_leaderboard.csv')))\n",
    "\n",
    "post_times = [dateparser.parse(datum['PostCreationDate']) for datum in reader]\n",
    "post_times = sorted(post_times)\n",
    "print(post_times[0])\n",
    "print(post_times[-1])"
   ]
  },
  {
   "cell_type": "code",
   "execution_count": 5,
   "metadata": {
    "collapsed": false
   },
   "outputs": [
    {
     "name": "stdout",
     "output_type": "stream",
     "text": [
      "2008-07-31 21:42:52\n",
      "2012-10-09 23:59:11\n"
     ]
    }
   ],
   "source": [
    "# train_October_9_2012.csv\n",
    "post_times_sec = pickle.load(open(full_path('post_times.p'), 'rb'))\n",
    "post_times = [datetime.datetime.fromtimestamp(stamp) for stamp in post_times_sec]\n",
    "post_times = sorted(post_times)\n",
    "print(post_times[0])\n",
    "print(post_times[-1])"
   ]
  },
  {
   "cell_type": "code",
   "execution_count": 6,
   "metadata": {
    "collapsed": false
   },
   "outputs": [
    {
     "name": "stdout",
     "output_type": "stream",
     "text": [
      "2008-07-31 21:42:52\n",
      "2012-07-31 23:59:57\n"
     ]
    }
   ],
   "source": [
    "# original train.csv\n",
    "post_times_sec = pickle.load(open(full_path('post_times_37.p'), 'rb'))\n",
    "post_times = [datetime.datetime.fromtimestamp(stamp) for stamp in post_times_sec]\n",
    "post_times = sorted(post_times)\n",
    "print(post_times[0])\n",
    "print(post_times[-1])"
   ]
  },
  {
   "cell_type": "code",
   "execution_count": 7,
   "metadata": {
    "collapsed": false
   },
   "outputs": [],
   "source": [
    "(all_xs, all_ys) = pickle.load(open(full_path(\"train_37_xs_ys_np_sorted.p\"), \"rb\"))"
   ]
  },
  {
   "cell_type": "code",
   "execution_count": 8,
   "metadata": {
    "collapsed": false
   },
   "outputs": [
    {
     "name": "stdout",
     "output_type": "stream",
     "text": [
      "not a real question 0.009134770576\n",
      "not constructive 0.0046458596398\n",
      "off topic 0.00520096554605\n",
      "open 0.979191390785\n",
      "too localized 0.00182701345309\n"
     ]
    }
   ],
   "source": [
    "for y in range(5):\n",
    "    y += 1\n",
    "    count = np.sum(all_ys == y)\n",
    "    print(all_status[y-1], count / float(len(all_ys)))"
   ]
  }
 ],
 "metadata": {
  "kernelspec": {
   "display_name": "Python 2",
   "language": "python",
   "name": "python2"
  },
  "language_info": {
   "codemirror_mode": {
    "name": "ipython",
    "version": 2
   },
   "file_extension": ".py",
   "mimetype": "text/x-python",
   "name": "python",
   "nbconvert_exporter": "python",
   "pygments_lexer": "ipython2",
   "version": "2.7.6"
  }
 },
 "nbformat": 4,
 "nbformat_minor": 0
}
