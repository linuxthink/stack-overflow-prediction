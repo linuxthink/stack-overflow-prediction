{
 "cells": [
  {
   "cell_type": "code",
   "execution_count": 1,
   "metadata": {
    "collapsed": true
   },
   "outputs": [],
   "source": [
    "from __future__ import print_function\n",
    "from collections import defaultdict\n",
    "import numpy as np\n",
    "import scipy as sp\n",
    "import cPickle as pickle\n",
    "import time\n",
    "from collections import defaultdict\n",
    "\n",
    "from util_gradient import *"
   ]
  },
  {
   "cell_type": "code",
   "execution_count": 2,
   "metadata": {
    "collapsed": true
   },
   "outputs": [],
   "source": [
    "def init_theta(K, num_users, num_items):\n",
    "    init_file = \"alpha_beta_init_lam0.5_iter50.feature\"\n",
    "    alpha, beta_users, beta_items = pickle.load(open(init_file, \"rb\"))\n",
    "    # alpha = np.mean(train_rating_array[:, 2])\n",
    "    # beta_users = np.random.normal(0, 0.5, (num_users, ))\n",
    "    # beta_items = np.random.normal(0, 0.5, (num_items, ))\n",
    "    gamma_users = np.random.normal(0, 0.005, (num_users, K))\n",
    "    gamma_items = np.random.normal(0, 0.005, (num_items, K))\n",
    "    \n",
    "    theta_length = (1 + \n",
    "                    beta_users.size + \n",
    "                    beta_items.size +\n",
    "                    gamma_users.size + \n",
    "                    gamma_items.size)\n",
    "    \n",
    "    theta = np.empty((theta_length, ))\n",
    "    return pack(theta, K, alpha, beta_users, beta_items, gamma_users, gamma_items)"
   ]
  },
  {
   "cell_type": "code",
   "execution_count": 3,
   "metadata": {
    "collapsed": true
   },
   "outputs": [],
   "source": [
    "def progress_callback(theta):\n",
    "    def test_and_get_mse(rating_array, theta, K):\n",
    "        ratings_predict = [predict_one_rating(user_index, item_index, theta, K) \n",
    "                           for user_index, item_index in rating_array[:, :2]]\n",
    "        ratings = rating_array[:, 2]\n",
    "        return get_mse(ratings_predict, ratings)\n",
    "    \n",
    "    print(\"train mse:\", test_and_get_mse(train_rating_array, theta, K))\n",
    "    print(\"valid mse:\", test_and_get_mse(valid_rating_array, theta, K))"
   ]
  },
  {
   "cell_type": "code",
   "execution_count": 4,
   "metadata": {
    "collapsed": false
   },
   "outputs": [],
   "source": [
    "from scipy.optimize import minimize, fmin_l_bfgs_b\n",
    "\n",
    "# load preprocessed data\n",
    "# id <-> index infastructure\n",
    "\n",
    "(user_id_map_index, \n",
    " user_index_map_id,\n",
    " item_id_map_index,\n",
    " item_index_map_id) = pickle.load(open(\"id_index_map.feature\", \"rb\"))\n",
    "# train_rating_array, valid_rating_array\n",
    "(train_rating_array, \n",
    " valid_rating_array, \n",
    " all_rating_array) = pickle.load(open(\"train_valid_all_rating_array.feature\", \"rb\"))"
   ]
  },
  {
   "cell_type": "code",
   "execution_count": 5,
   "metadata": {
    "collapsed": false
   },
   "outputs": [],
   "source": [
    "# global variableds\n",
    "K = 1\n",
    "lam = 3.0\n",
    "num_users = len(user_index_map_id)\n",
    "num_items = len(item_index_map_id)\n",
    "assert num_users == 35736\n",
    "assert num_items == 37801\n",
    "\n",
    "# init theta and grad_buffer\n",
    "theta = init_theta(K, num_users, num_items)\n",
    "grad_buffer = np.zeros_like(theta)"
   ]
  },
  {
   "cell_type": "code",
   "execution_count": 6,
   "metadata": {
    "collapsed": false
   },
   "outputs": [
    {
     "name": "stdout",
     "output_type": "stream",
     "text": [
      "train mse: 0.589261292349\n",
      "valid mse: 0.594184786861\n",
      "train mse: 0.592709422534\n",
      "valid mse: 0.598084162845\n",
      "train mse: 0.595521090093\n",
      "valid mse: 0.601137187476\n",
      "train mse: 0.595403784941\n",
      "valid mse: 0.601135611784\n"
     ]
    }
   ],
   "source": [
    "res = minimize(objective, theta, \n",
    "               args       = (grad_buffer, all_rating_array, lam, K), # train_rating_array\n",
    "               method     = 'L-BFGS-B',\n",
    "               jac        = gradient_only_alpha,\n",
    "               options    = {'disp': True, 'maxiter': 3},\n",
    "               callback   = progress_callback)\n",
    "theta = res.x"
   ]
  },
  {
   "cell_type": "code",
   "execution_count": 7,
   "metadata": {
    "collapsed": false
   },
   "outputs": [
    {
     "name": "stdout",
     "output_type": "stream",
     "text": [
      "train mse: 0.595090117605\n",
      "valid mse: 0.600947951824\n",
      "train mse: 0.594681511978\n",
      "valid mse: 0.600430495571\n",
      "train mse: 0.594430304263\n",
      "valid mse: 0.600073818457\n",
      "train mse: 0.594272487606\n",
      "valid mse: 0.599848498429\n"
     ]
    }
   ],
   "source": [
    "res = minimize(objective, theta, \n",
    "               args       = (grad_buffer, all_rating_array, lam, K), # train_rating_array\n",
    "               method     = 'L-BFGS-B',\n",
    "               jac        = gradient_only_beta,\n",
    "               options    = {'disp': True, 'maxiter': 3},\n",
    "               callback   = progress_callback)\n",
    "theta = res.x"
   ]
  },
  {
   "cell_type": "code",
   "execution_count": 8,
   "metadata": {
    "collapsed": true
   },
   "outputs": [],
   "source": [
    "res = minimize(objective, theta, \n",
    "               args       = (grad_buffer, all_rating_array, lam, K), # train_rating_array\n",
    "               method     = 'L-BFGS-B',\n",
    "               jac        = gradient_only_gamma_user,\n",
    "               options    = {'disp': True, 'maxiter': 3},\n",
    "               callback   = progress_callback)\n",
    "theta = res.x"
   ]
  },
  {
   "cell_type": "code",
   "execution_count": 9,
   "metadata": {
    "collapsed": false
   },
   "outputs": [
    {
     "name": "stdout",
     "output_type": "stream",
     "text": [
      "train mse: 0.594031201327\n",
      "valid mse: 0.599496402573\n",
      "train mse: 0.595274475932\n",
      "valid mse: 0.600819950508\n",
      "train mse: 0.59525307036\n",
      "valid mse: 0.600845021752\n"
     ]
    }
   ],
   "source": [
    "res = minimize(objective, theta, \n",
    "               args       = (grad_buffer, all_rating_array, lam, K), # train_rating_array\n",
    "               method     = 'L-BFGS-B',\n",
    "               jac        = gradient_only_alpha,\n",
    "               options    = {'disp': True, 'maxiter': 3},\n",
    "               callback   = progress_callback)\n",
    "theta = res.x"
   ]
  },
  {
   "cell_type": "code",
   "execution_count": 10,
   "metadata": {
    "collapsed": false
   },
   "outputs": [
    {
     "name": "stdout",
     "output_type": "stream",
     "text": [
      "train mse: 0.595197730304\n",
      "valid mse: 0.600841402184\n",
      "train mse: 0.59509309265\n",
      "valid mse: 0.600753467609\n",
      "train mse: 0.59491426745\n",
      "valid mse: 0.600652956129\n",
      "train mse: 0.594807754123\n",
      "valid mse: 0.600460552263\n"
     ]
    }
   ],
   "source": [
    "res = minimize(objective, theta, \n",
    "               args       = (grad_buffer, all_rating_array, lam, K), # train_rating_array\n",
    "               method     = 'L-BFGS-B',\n",
    "               jac        = gradient_only_beta,\n",
    "               options    = {'disp': True, 'maxiter': 3},\n",
    "               callback   = progress_callback)\n",
    "theta = res.x"
   ]
  },
  {
   "cell_type": "code",
   "execution_count": 11,
   "metadata": {
    "collapsed": true
   },
   "outputs": [],
   "source": [
    "res = minimize(objective, theta, \n",
    "               args       = (grad_buffer, all_rating_array, lam, K), # train_rating_array\n",
    "               method     = 'L-BFGS-B',\n",
    "               jac        = gradient_only_gamma_item,\n",
    "               options    = {'disp': True, 'maxiter': 3},\n",
    "               callback   = progress_callback)\n",
    "theta = res.x"
   ]
  },
  {
   "cell_type": "code",
   "execution_count": 12,
   "metadata": {
    "collapsed": true
   },
   "outputs": [],
   "source": [
    "# get header_str and user_item_ids to predict\n",
    "with open('pairs_Rating.txt') as f:\n",
    "    # read and strip lines\n",
    "    lines = [l.strip() for l in f.readlines()]\n",
    "    # stirip out the headers\n",
    "    header_str = lines.pop(0)\n",
    "    # get a list of user_item_ids\n",
    "    user_item_ids = [l.split('-') for l in lines]\n",
    "\n",
    "# write to output file\n",
    "f = open('predictions_Rating.txt', 'w')\n",
    "print(header_str, file=f)\n",
    "for user_id, item_id in user_item_ids:\n",
    "    rating = predict_one_rating(user_id_map_index[user_id], \n",
    "                                item_id_map_index[item_id], \n",
    "                                theta, K)\n",
    "    rating = min(5.0, rating)\n",
    "    rating = max(0.0, rating)\n",
    "    print('%s-%s,%s' % (user_id, item_id, rating), file=f)\n",
    "f.close()"
   ]
  },
  {
   "cell_type": "code",
   "execution_count": null,
   "metadata": {
    "collapsed": true
   },
   "outputs": [],
   "source": []
  }
 ],
 "metadata": {
  "kernelspec": {
   "display_name": "Python 2",
   "language": "python",
   "name": "python2"
  },
  "language_info": {
   "codemirror_mode": {
    "name": "ipython",
    "version": 2
   },
   "file_extension": ".py",
   "mimetype": "text/x-python",
   "name": "python",
   "nbconvert_exporter": "python",
   "pygments_lexer": "ipython2",
   "version": "2.7.6"
  }
 },
 "nbformat": 4,
 "nbformat_minor": 0
}
