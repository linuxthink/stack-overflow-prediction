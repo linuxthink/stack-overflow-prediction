{
 "cells": [
  {
   "cell_type": "code",
   "execution_count": 1,
   "metadata": {
    "collapsed": true
   },
   "outputs": [],
   "source": [
    "from feature_label_builder import FeatureLabelBuilder"
   ]
  },
  {
   "cell_type": "code",
   "execution_count": 2,
   "metadata": {
    "collapsed": true
   },
   "outputs": [],
   "source": [
    "from __future__ import print_function\n",
    "import numpy as np\n",
    "import os\n",
    "import csv\n",
    "data_path = os.path.join(os.path.expanduser(\".\"), 'data')"
   ]
  },
  {
   "cell_type": "code",
   "execution_count": 6,
   "metadata": {
    "collapsed": true
   },
   "outputs": [],
   "source": [
    "from pprint import pprint"
   ]
  },
  {
   "cell_type": "code",
   "execution_count": 8,
   "metadata": {
    "collapsed": false
   },
   "outputs": [],
   "source": [
    "# generate day vs ratio\n",
    "reader = csv.DictReader(open(os.path.join(data_path, 'visualData.csv')))\n",
    "f = open(\"./data/dayFeature.txt\", \"w\")\n",
    "for datum in reader:\n",
    "    flb = FeatureLabelBuilder(datum)\n",
    "    f.write(str(flb.feature_dict['time-day']) + \" \")\n",
    "    f.write(str(flb.label))\n",
    "    f.write(\"\\n\")"
   ]
  },
  {
   "cell_type": "code",
   "execution_count": 21,
   "metadata": {
    "collapsed": false
   },
   "outputs": [],
   "source": [
    "# generate user information\n",
    "reader = csv.DictReader(open(os.path.join(data_path, 'visualData.csv')))\n",
    "f = open(\"./data/user.csv\", \"w\")\n",
    "index = 250\n",
    "for datum in reader:\n",
    "    flb = FeatureLabelBuilder(datum)\n",
    "    f.write(str(index) + \",\")\n",
    "    f.write(str(flb.feature_dict['user-age']) + \",\")\n",
    "    f.write(str(flb.feature_dict['user-good_posts']) + \",\")\n",
    "    f.write(str(flb.feature_dict['user-reputation']) + \"\")\n",
    "    f.write(\"\\n\")\n",
    "    index -= 1\n",
    "    if index < 0:\n",
    "        break"
   ]
  }
 ],
 "metadata": {
  "kernelspec": {
   "display_name": "Python 2",
   "language": "python",
   "name": "python2"
  },
  "language_info": {
   "codemirror_mode": {
    "name": "ipython",
    "version": 2
   },
   "file_extension": ".py",
   "mimetype": "text/x-python",
   "name": "python",
   "nbconvert_exporter": "python",
   "pygments_lexer": "ipython2",
   "version": "2.7.10"
  }
 },
 "nbformat": 4,
 "nbformat_minor": 0
}
