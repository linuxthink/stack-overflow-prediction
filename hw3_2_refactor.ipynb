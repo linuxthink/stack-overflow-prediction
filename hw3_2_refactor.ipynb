{
 "cells": [
  {
   "cell_type": "code",
   "execution_count": 1,
   "metadata": {
    "collapsed": true
   },
   "outputs": [],
   "source": [
    "from collections import defaultdict\n",
    "import numpy as np\n",
    "import scipy as sp\n",
    "import cPickle as pickle\n",
    "import time\n",
    "from __future__ import print_function\n",
    "from collections import defaultdict\n",
    "\n",
    "data_root = '/home/linuxthink/data/CSE255/'"
   ]
  },
  {
   "cell_type": "code",
   "execution_count": 2,
   "metadata": {
    "collapsed": false
   },
   "outputs": [
    {
     "name": "stdout",
     "output_type": "stream",
     "text": [
      "17.6534459591\n"
     ]
    }
   ],
   "source": [
    "# laod raw data\n",
    "start_time = time.time()\n",
    "all_data = pickle.load(open(data_root + \"all_data.pickle\", \"rb\"))\n",
    "print(time.time() - start_time)"
   ]
  },
  {
   "cell_type": "code",
   "execution_count": 3,
   "metadata": {
    "collapsed": true
   },
   "outputs": [],
   "source": [
    "# get train and test set\n",
    "num_all = len(all_data)\n",
    "num_train = 900000\n",
    "num_valid = 100000\n",
    "assert num_train + num_valid == num_all\n",
    "\n",
    "train_data = all_data[:num_train]\n",
    "valid_data = all_data[num_train:]"
   ]
  },
  {
   "cell_type": "code",
   "execution_count": 4,
   "metadata": {
    "collapsed": true
   },
   "outputs": [],
   "source": [
    "# pre-process 0: build id <-> index infastructure\n",
    "\n",
    "# get all items and users\n",
    "item_ids = sorted(list(set([d['itemID'] for d in all_data])))\n",
    "user_ids = sorted(list(set([d['reviewerID'] for d in all_data])))\n",
    "\n",
    "# user and item numbers\n",
    "num_items = len(item_ids)\n",
    "num_users = len(user_ids)\n",
    "\n",
    "# build id <-> index map\n",
    "item_id_map_index = dict()\n",
    "item_index_map_id = dict()\n",
    "for index, item_id in enumerate(item_ids):\n",
    "    item_id_map_index[item_id] = index\n",
    "    item_index_map_id[index] = item_id\n",
    "    \n",
    "user_id_map_index = dict()\n",
    "user_index_map_id = dict()\n",
    "for index, user_id in enumerate(user_ids):\n",
    "    user_id_map_index[user_id] = index\n",
    "    user_index_map_id[index] = user_id"
   ]
  },
  {
   "cell_type": "code",
   "execution_count": 5,
   "metadata": {
    "collapsed": true
   },
   "outputs": [],
   "source": [
    "# pre-process 1: build train_rating_array, valid_rating_array\n",
    "\n",
    "# build array [user_index, item_index, rating]\n",
    "train_rating_array = []\n",
    "for d in train_data:\n",
    "    user_index = user_id_map_index[d['reviewerID']]\n",
    "    item_index = item_id_map_index[d['itemID']]\n",
    "    rating = d['rating']\n",
    "    train_rating_array.append([user_index, item_index, rating])\n",
    "train_rating_array = np.array(train_rating_array).astype(int)\n",
    "\n",
    "# build array [user_index, item_index, rating]\n",
    "valid_rating_array = []\n",
    "for d in valid_data:\n",
    "    user_index = user_id_map_index[d['reviewerID']]\n",
    "    item_index = item_id_map_index[d['itemID']]\n",
    "    rating = d['rating']\n",
    "    valid_rating_array.append([user_index, item_index, rating])\n",
    "valid_rating_array = np.array(valid_rating_array).astype(int)\n",
    "\n",
    "# build array [user_index, item_index, rating]\n",
    "all_rating_array = []\n",
    "for d in all_data:\n",
    "    user_index = user_id_map_index[d['reviewerID']]\n",
    "    item_index = item_id_map_index[d['itemID']]\n",
    "    rating = d['rating']\n",
    "    all_rating_array.append([user_index, item_index, rating])\n",
    "all_rating_array = np.array(all_rating_array).astype(int)"
   ]
  },
  {
   "cell_type": "code",
   "execution_count": 6,
   "metadata": {
    "collapsed": true
   },
   "outputs": [],
   "source": [
    "# pre-process 2: # utility and update functions\n",
    "def get_valid_mse(lam, alpha, beta_us, beta_is, rating_array, valid_rating_array):\n",
    "    predicts = alpha + beta_us[valid_rating_array[:, 0]] + beta_is[valid_rating_array[:, 1]]\n",
    "    ratings = valid_rating_array[:, 2].astype(float)\n",
    "    return (1. / valid_rating_array.shape[0]) * np.sum((predicts - ratings) ** 2.0)\n",
    "\n",
    "def get_cost(lam, alpha, beta_us, beta_is, rating_array, Ruis, Rius):\n",
    "    predicts = alpha + beta_us[rating_array[:, 0]] + beta_is[rating_array[:, 1]]\n",
    "    ratings = rating_array[:, 2].astype(float)\n",
    "    return np.sum((predicts - ratings) ** 2.) + lam * (np.sum(beta_us ** 2.) + np.sum(beta_is ** 2.))\n",
    "    \n",
    "def alpha_update(lam, alpha, beta_us, beta_is, rating_array, Ruis, Rius):\n",
    "    sum_Rui = np.sum(rating_array[:, 2])\n",
    "    sum_beta_u = np.sum(beta_us[rating_array[:, 0]]) # fancy indexing\n",
    "    sum_beta_i = np.sum(beta_is[rating_array[:, 1]]) # fancy indexing\n",
    "    return (sum_Rui - sum_beta_u - sum_beta_i) / rating_array.shape[0]\n",
    "\n",
    "def beta_us_update(lam, alpha, beta_us, beta_is, rating_array, Ruis, Rius):\n",
    "    new_beta_us = np.zeros_like(beta_us)\n",
    "    for user_index in xrange(num_users):\n",
    "        # [the set of items] reviewed by user u\n",
    "        Iu = Ruis[user_index].keys()\n",
    "        Iu_size = len(Iu)\n",
    "        # sums\n",
    "        sum_Rui = np.sum(Ruis[user_index].values())\n",
    "        sum_alpha = Iu_size * alpha\n",
    "        sum_beta_i = np.sum(beta_is[Iu])\n",
    "        # write result\n",
    "        new_beta_us[user_index] = float(sum_Rui - sum_alpha - sum_beta_i) / (lam + Iu_size)\n",
    "    return new_beta_us\n",
    "\n",
    "def beta_is_update(lam, alpha, beta_us, beta_is, rating_array, Ruis, Rius):\n",
    "    new_beta_is = np.zeros_like(beta_is)\n",
    "    for item_index in xrange(num_items):\n",
    "        # [the set of users] reviewd item i\n",
    "        Ui = Rius[item_index].keys()\n",
    "        Ui_size = len(Ui)\n",
    "        # sums\n",
    "        sum_Rui = np.sum(Rius[item_index].values())\n",
    "        sum_alpha = Ui_size * alpha\n",
    "        sum_beta_u = np.sum(beta_us[Ui])\n",
    "        # write result\n",
    "        new_beta_is[item_index] = float(sum_Rui - sum_alpha - sum_beta_u) / (lam + Ui_size)\n",
    "    return new_beta_is\n",
    "\n",
    "def train_and_eval(max_iter, \n",
    "                   lam, alpha, beta_us, beta_is, \n",
    "                   rating_array, valid_rating_array,\n",
    "                   print_step = False):\n",
    "    \n",
    "    # build Mapping of Ruis and Rius\n",
    "    Ruis = defaultdict(dict)\n",
    "    Rius = defaultdict(dict)\n",
    "    # Iu = Ruis[user_index].keys() # [the set of items] reviewed by user u\n",
    "    # Ui = Ruis[item_index].keys() # [the set of users] reviewed item i\n",
    "    for t in rating_array:\n",
    "        user_index = t[0]\n",
    "        item_index = t[1]\n",
    "        rating = t[2]\n",
    "        Ruis[user_index][item_index] = rating\n",
    "        Rius[item_index][user_index] = rating\n",
    "    \n",
    "    # train on this dataset\n",
    "    for i in xrange(max_iter):\n",
    "        alpha = alpha_update(lam, alpha, beta_us, beta_is, rating_array, Ruis, Rius)\n",
    "        beta_us = beta_us_update(lam, alpha, beta_us, beta_is, rating_array, Ruis, Rius)\n",
    "        beta_is = beta_is_update(lam, alpha, beta_us, beta_is, rating_array, Ruis, Rius)\n",
    "        if print_step:\n",
    "            cost = get_cost(lam, alpha, beta_us, beta_is, rating_array, Ruis, Rius)\n",
    "            valid_mse = get_valid_mse(lam, alpha, beta_us, beta_is, \n",
    "                                      rating_array, valid_rating_array)\n",
    "            print(i, cost, valid_mse)\n",
    "    \n",
    "    cost = get_cost(lam, alpha, beta_us, beta_is, rating_array, Ruis, Rius)\n",
    "    valid_mse = get_valid_mse(lam, alpha, beta_us, beta_is, rating_array, valid_rating_array)\n",
    "    \n",
    "    return(cost, valid_mse, alpha, beta_us, beta_is)"
   ]
  },
  {
   "cell_type": "code",
   "execution_count": 7,
   "metadata": {
    "collapsed": false
   },
   "outputs": [
    {
     "name": "stdout",
     "output_type": "stream",
     "text": [
      "alpha 4.21898777778\n",
      "valid_mse 0.969062751573\n"
     ]
    }
   ],
   "source": [
    "# 3.5 average predictor (using index based sorted list)\n",
    "# get averaged rating\n",
    "alpha = np.mean(train_rating_array[:, 2])\n",
    "print('alpha', alpha)\n",
    "\n",
    "# calculate mse\n",
    "valid_ratings = valid_rating_array[:, 2]\n",
    "valid_mse = (1. / valid_rating_array.shape[0]) * np.sum((valid_ratings - alpha) ** 2.0)\n",
    "print('valid_mse', valid_mse)"
   ]
  },
  {
   "cell_type": "code",
   "execution_count": 8,
   "metadata": {
    "collapsed": false
   },
   "outputs": [
    {
     "name": "stdout",
     "output_type": "stream",
     "text": [
      "541296.35229 0.696105601655\n"
     ]
    }
   ],
   "source": [
    "# 3.6 fit baseline model: rating(u, i) = alpha + beta_u + beta_i\n",
    "\n",
    "# set training\n",
    "max_iter = 30\n",
    "\n",
    "# parameters\n",
    "lam = 1.0\n",
    "alpha = 0.0\n",
    "beta_us = np.random.normal(0, 0.5, (num_users,))\n",
    "beta_is = np.random.normal(0, 0.5, (num_items,))\n",
    "\n",
    "cost, valid_mse, alpha, beta_us, beta_is = train_and_eval(max_iter, \n",
    "                                                          lam, alpha, beta_us, beta_is, \n",
    "                                                          train_rating_array, valid_rating_array)\n",
    "print(cost, valid_mse)"
   ]
  },
  {
   "cell_type": "code",
   "execution_count": 9,
   "metadata": {
    "collapsed": false
   },
   "outputs": [
    {
     "name": "stdout",
     "output_type": "stream",
     "text": [
      "user, largest U516357151\n",
      "user, smallest U512598315\n",
      "item, largest I245219975\n",
      "item, smallest I502194676\n"
     ]
    }
   ],
   "source": [
    "# 3.7 report the user and item id that have the largest and smallest values of beta\n",
    "\n",
    "print('user, largest', user_index_map_id[np.argmax(beta_us)])\n",
    "print('user, smallest', user_index_map_id[np.argmin(beta_us)])\n",
    "\n",
    "print('item, largest', item_index_map_id[np.argmax(beta_is)])\n",
    "print('item, smallest', item_index_map_id[np.argmin(beta_is)])"
   ]
  },
  {
   "cell_type": "code",
   "execution_count": 14,
   "metadata": {
    "collapsed": false
   },
   "outputs": [
    {
     "name": "stdout",
     "output_type": "stream",
     "text": [
      "0 543896.54433 0.723961695045\n",
      "1 526572.731338 0.70393245252\n",
      "2 525668.626963 0.702914565381\n",
      "3 525438.612197 0.702628598207\n",
      "4 525333.533065 0.702493376457\n",
      "0.001 525333.533065 0.702493376457\n",
      "0 544029.732673 0.723867236496\n",
      "1 526724.287813 0.703853891159\n",
      "2 525824.308863 0.702835321306\n",
      "3 525596.466341 0.702549130787\n",
      "4 525492.898336 0.702413849679\n",
      "0.01 525492.898336 0.702413849679\n",
      "0 545351.452044 0.722947810314\n",
      "1 528226.56025 0.703093833002\n",
      "2 527366.068988 0.702069722033\n",
      "3 527158.548716 0.701782183375\n",
      "4 527068.879616 0.701647061074\n",
      "0.1 527068.879616 0.701647061074\n",
      "0 557644.914298 0.715816342586\n",
      "1 542059.664452 0.697566930949\n",
      "2 541460.043697 0.696577855493\n",
      "3 541358.998663 0.696331851468\n",
      "4 541330.796481 0.69623980295\n",
      "1.0 541330.796481 0.69623980295\n",
      "0 631988.894214 0.712959217448\n",
      "1 622444.409306 0.705048976336\n",
      "2 622082.110368 0.704993200664\n",
      "3 621988.45544 0.705102238726\n",
      "4 621954.555876 0.705171230736\n",
      "10 621954.555876 0.705171230736\n",
      "0 773136.843633 0.83047997195\n",
      "1 770869.120736 0.831323486804\n",
      "2 770845.550549 0.831345194318\n",
      "3 770843.06568 0.831328265271\n",
      "4 770842.773183 0.831320726264\n",
      "100 770842.773183 0.831320726264\n"
     ]
    }
   ],
   "source": [
    "# 3.8 search for the best lam\n",
    "lams = [0.001, 0.01, 0.1, 1.0, 10, 100]\n",
    "max_iter = 5\n",
    "\n",
    "# init variables\n",
    "alpha = 0.0\n",
    "beta_us = np.random.normal(0, 0.5, (num_users,))\n",
    "beta_is = np.random.normal(0, 0.5, (num_items,))\n",
    "\n",
    "results = []\n",
    "for lam in lams:\n",
    "    cost, mse, _, _, _ = train_and_eval(max_iter, \n",
    "                                        lam, alpha, beta_us, beta_is, \n",
    "                                        train_rating_array, valid_rating_array,\n",
    "                                        print_step=True)\n",
    "    print(lam, cost, mse)\n",
    "    results.append([lam, cost, mse])"
   ]
  },
  {
   "cell_type": "code",
   "execution_count": 11,
   "metadata": {
    "collapsed": false
   },
   "outputs": [
    {
     "name": "stdout",
     "output_type": "stream",
     "text": [
      "0 622816.089258 0.613274152121\n",
      "1 606236.848759 0.59678518209\n",
      "2 605576.314146 0.595889007411\n",
      "3 605459.396885 0.595666116224\n",
      "4 605422.610479 0.595570767595\n",
      "5 605406.385868 0.595516986107\n",
      "6 605397.36772 0.595481607055\n",
      "7 605391.546075 0.595456252701\n",
      "8 605387.424419 0.595437189332\n",
      "9 605384.32894 0.595422454129\n",
      "10 605381.906159 0.595410872406\n",
      "11 605379.949232 0.595401670881\n",
      "12 605378.328211 0.595394306019\n",
      "13 605376.957651 0.595388378804\n",
      "14 605375.779558 0.595383587824\n",
      "15 605374.753551 0.59537970101\n",
      "16 605373.850839 0.595376537341\n",
      "17 605373.050392 0.5953739543\n",
      "18 605372.336456 0.595371838929\n",
      "19 605371.69692 0.595370101236\n",
      "20 605371.122221 0.595368669248\n",
      "21 605370.604625 0.595367485215\n",
      "22 605370.137722 0.595366502686\n",
      "23 605369.716101 0.595365684216\n",
      "24 605369.335106 0.595364999567\n",
      "25 605368.990684 0.595364424281\n",
      "26 605368.679261 0.59536393855\n",
      "27 605368.397663 0.595363526308\n",
      "28 605368.143051 0.595363174515\n",
      "29 605367.912873 0.595362872568\n",
      "605367.912873 0.595362872568\n"
     ]
    }
   ],
   "source": [
    "# now train on all data\n",
    "max_iter = 30\n",
    "\n",
    "# init variables\n",
    "lam = 1.0\n",
    "alpha = 0.0\n",
    "beta_us = np.random.normal(0, 0.5, (num_users,))\n",
    "beta_is = np.random.normal(0, 0.5, (num_items,))\n",
    "\n",
    "cost, mse, alpha, beta_us, beta_is = train_and_eval(max_iter, \n",
    "                                                    lam, alpha, beta_us, beta_is, \n",
    "                                                    all_rating_array, valid_rating_array,\n",
    "                                                    print_step=True)\n",
    "print(cost, mse)"
   ]
  },
  {
   "cell_type": "code",
   "execution_count": 13,
   "metadata": {
    "collapsed": true
   },
   "outputs": [],
   "source": [
    "# get header_str and user_item_ids to predict\n",
    "with open('pairs_Rating.txt') as f:\n",
    "    # read and strip lines\n",
    "    lines = [l.strip() for l in f.readlines()]\n",
    "    # stirip out the headers\n",
    "    header_str = lines.pop(0)\n",
    "    # get a list of user_item_ids\n",
    "    user_item_ids = [l.split('-') for l in lines]\n",
    "    \n",
    "# write to output file\n",
    "f = open('predictions_Rating.txt', 'w')\n",
    "print(header_str, file=f)\n",
    "for user_id, item_id in user_item_ids:\n",
    "    rating = alpha + beta_us[user_id_map_index[user_id]] + beta_is[item_id_map_index[item_id]]\n",
    "    rating = min(5.0, rating)\n",
    "    rating = max(0.0, rating)\n",
    "    print('%s-%s,%s' % (user_id, item_id, rating), file=f)\n",
    "f.close()"
   ]
  }
 ],
 "metadata": {
  "kernelspec": {
   "display_name": "Python 2",
   "language": "python",
   "name": "python2"
  },
  "language_info": {
   "codemirror_mode": {
    "name": "ipython",
    "version": 2
   },
   "file_extension": ".py",
   "mimetype": "text/x-python",
   "name": "python",
   "nbconvert_exporter": "python",
   "pygments_lexer": "ipython2",
   "version": "2.7.6"
  }
 },
 "nbformat": 4,
 "nbformat_minor": 0
}
