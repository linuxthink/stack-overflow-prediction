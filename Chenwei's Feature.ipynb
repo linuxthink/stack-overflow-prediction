{
 "cells": [
  {
   "cell_type": "code",
   "execution_count": 25,
   "metadata": {
    "collapsed": false
   },
   "outputs": [],
   "source": [
    "from collections import defaultdict"
   ]
  },
  {
   "cell_type": "code",
   "execution_count": 26,
   "metadata": {
    "collapsed": true
   },
   "outputs": [],
   "source": [
    "# generate day-ratio feature\n",
    "dayDict = defaultdict(list)"
   ]
  },
  {
   "cell_type": "code",
   "execution_count": 27,
   "metadata": {
    "collapsed": false
   },
   "outputs": [],
   "source": [
    "f = open(\"./data/dayFeature.txt\", \"r\")\n",
    "for line in f:\n",
    "    day, status = line.split()\n",
    "    day = int(day)\n",
    "    status = int(status)\n",
    "    if status == 4:\n",
    "        dayDict[day].append(0)\n",
    "    else:\n",
    "        dayDict[day].append(1)"
   ]
  },
  {
   "cell_type": "code",
   "execution_count": 28,
   "metadata": {
    "collapsed": false
   },
   "outputs": [],
   "source": [
    "for day in dayDict:\n",
    "    dayDict[day] = dayDict[day].count(1) * 1.0 / len(dayDict[day])"
   ]
  },
  {
   "cell_type": "code",
   "execution_count": 31,
   "metadata": {
    "collapsed": false
   },
   "outputs": [
    {
     "name": "stdout",
     "output_type": "stream",
     "text": [
      "defaultdict(<type 'list'>, {1: 0.03118797845194216, 2: 0.032624113475177303, 3: 0.029904848210240146, 4: 0.026502170436371944, 5: 0.02857770938667839, 6: 0.031085604973696796, 7: 0.03554641598119859, 8: 0.030913216108905274, 9: 0.033641317223406776, 10: 0.02704752275025278, 11: 0.024508406953548018, 12: 0.026585943669386682, 13: 0.02725538293813028, 14: 0.028334925183062718, 15: 0.0379979035639413, 16: 0.032292330571489274, 17: 0.030491599253266957, 18: 0.04211511464670098, 19: 0.035214446952595936, 20: 0.02802637776731041, 21: 0.03132595193086687, 22: 0.035540782408591154, 23: 0.029899607158446095, 24: 0.02615278733654508, 25: 0.029584221748400853, 26: 0.0326975476839237, 27: 0.028395061728395062, 28: 0.030498041410184668, 29: 0.03191188929680881, 30: 0.02772020725388601, 31: 0.026563364692861097})\n"
     ]
    }
   ],
   "source": [
    "print dayDict"
   ]
  },
  {
   "cell_type": "code",
   "execution_count": 32,
   "metadata": {
    "collapsed": false
   },
   "outputs": [],
   "source": [
    "f = open(\"./data/dayvsratio.json\", \"w\")\n",
    "f.write(\"[\\n\")\n",
    "for day in xrange(1, 32):\n",
    "    f.write(\"\\t\" + \"{\" + \"\\n\" + \"\\t\")\n",
    "    f.write(\"\\\"\" + str(day) + \"\\\"\" + \":\" + \" \" + str(dayDict[day]) + \"\\n\")\n",
    "    f.write(\"\\t\" + \"}\" + \",\" + \"\\n\")\n",
    "f.write(\"]\")"
   ]
  },
  {
   "cell_type": "code",
   "execution_count": null,
   "metadata": {
    "collapsed": true
   },
   "outputs": [],
   "source": [
    "\"\""
   ]
  }
 ],
 "metadata": {
  "kernelspec": {
   "display_name": "Python 2",
   "language": "python",
   "name": "python2"
  },
  "language_info": {
   "codemirror_mode": {
    "name": "ipython",
    "version": 2
   },
   "file_extension": ".py",
   "mimetype": "text/x-python",
   "name": "python",
   "nbconvert_exporter": "python",
   "pygments_lexer": "ipython2",
   "version": "2.7.10"
  }
 },
 "nbformat": 4,
 "nbformat_minor": 0
}
