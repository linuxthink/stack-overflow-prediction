{
 "cells": [
  {
   "cell_type": "code",
   "execution_count": 1,
   "metadata": {
    "collapsed": false
   },
   "outputs": [],
   "source": [
    "from collections import defaultdict"
   ]
  },
  {
   "cell_type": "code",
   "execution_count": 2,
   "metadata": {
    "collapsed": true
   },
   "outputs": [],
   "source": [
    "# generate day-ratio feature\n",
    "dayDict = defaultdict(list)"
   ]
  },
  {
   "cell_type": "code",
   "execution_count": 3,
   "metadata": {
    "collapsed": false
   },
   "outputs": [],
   "source": [
    "f = open(\"./data/dayFeature.txt\", \"r\")\n",
    "for line in f:\n",
    "    day, status = line.split()\n",
    "    day = int(day)\n",
    "    status = int(status)\n",
    "    if status == 4:\n",
    "        dayDict[day].append(0)\n",
    "    else:\n",
    "        dayDict[day].append(1)"
   ]
  },
  {
   "cell_type": "code",
   "execution_count": 4,
   "metadata": {
    "collapsed": false
   },
   "outputs": [],
   "source": [
    "for day in dayDict:\n",
    "    dayDict[day] = dayDict[day].count(1) * 1.0 / len(dayDict[day])"
   ]
  },
  {
   "cell_type": "code",
   "execution_count": 5,
   "metadata": {
    "collapsed": false
   },
   "outputs": [
    {
     "name": "stdout",
     "output_type": "stream",
     "text": [
      "defaultdict(<type 'list'>, {1: 0.02230971128608924, 2: 0.02649804275820536, 3: 0.023173951305368142, 4: 0.027492447129909364, 5: 0.030829093085902426, 6: 0.0226928895612708, 7: 0.022525192649673977, 8: 0.02848575712143928, 9: 0.029644848840622247, 10: 0.01920146296860713, 11: 0.02289584005159626, 12: 0.02010852218321098, 13: 0.02144133412745682, 14: 0.029239766081871343, 15: 0.02411873840445269, 16: 0.018964479229379893, 17: 0.020514390691977955, 18: 0.020433058859408357, 19: 0.02476780185758514, 20: 0.017506142506142505, 21: 0.019506248095092958, 22: 0.024213075060532687, 23: 0.027136618839675608, 24: 0.027556644213104716, 25: 0.02931701030927835, 26: 0.025257249766136577, 27: 0.026386006522383636, 28: 0.026695305308376802, 29: 0.021794871794871794, 30: 0.021882598124348732, 31: 0.021654636313159357})\n"
     ]
    }
   ],
   "source": [
    "print dayDict"
   ]
  },
  {
   "cell_type": "code",
   "execution_count": 7,
   "metadata": {
    "collapsed": false
   },
   "outputs": [],
   "source": [
    "f = open(\"./data/dayvsratio.json\", \"w\")\n",
    "f.write(\"[\\n\")\n",
    "for day in xrange(1, 32):\n",
    "    f.write(\"\\t\" + \"{\" + \"\\n\" + \"\\t\")\n",
    "    f.write(\"\\\"\" + str(day) + \"\\\"\" + \":\" + \" \" + str(dayDict[day]) + \"\\n\")\n",
    "    f.write(\"\\t\" + \"}\" + \",\" + \"\\n\")\n",
    "f.write(\"]\")"
   ]
  },
  {
   "cell_type": "code",
   "execution_count": 8,
   "metadata": {
    "collapsed": true
   },
   "outputs": [],
   "source": [
    "f = open(\"./data/dayFeature.txt\", \"r\")\n",
    "labels = [0, 0, 0, 0, 0]\n",
    "for line in f:\n",
    "    day, status = line.split()\n",
    "    status = int(status)\n",
    "    labels[status-1] += 1"
   ]
  },
  {
   "cell_type": "code",
   "execution_count": 10,
   "metadata": {
    "collapsed": false
   },
   "outputs": [],
   "source": [
    "mySum = sum(labels)\n",
    "for index in xrange(len(labels)):\n",
    "    labels[index] = labels[index] * 1.0 / mySum"
   ]
  },
  {
   "cell_type": "code",
   "execution_count": 11,
   "metadata": {
    "collapsed": false
   },
   "outputs": [
    {
     "name": "stdout",
     "output_type": "stream",
     "text": [
      "[0.01059, 0.00582, 0.00546, 0.97588, 0.00225]\n"
     ]
    }
   ],
   "source": [
    "print labels"
   ]
  }
 ],
 "metadata": {
  "kernelspec": {
   "display_name": "Python 2",
   "language": "python",
   "name": "python2"
  },
  "language_info": {
   "codemirror_mode": {
    "name": "ipython",
    "version": 2
   },
   "file_extension": ".py",
   "mimetype": "text/x-python",
   "name": "python",
   "nbconvert_exporter": "python",
   "pygments_lexer": "ipython2",
   "version": "2.7.10"
  }
 },
 "nbformat": 4,
 "nbformat_minor": 0
}
