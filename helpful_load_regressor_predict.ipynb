{
 "cells": [
  {
   "cell_type": "code",
   "execution_count": null,
   "metadata": {
    "collapsed": false
   },
   "outputs": [],
   "source": [
    "from __future__ import print_function\n",
    "from collections import defaultdict\n",
    "import numpy as np\n",
    "import scipy as sp\n",
    "import cPickle as pickle\n",
    "import time\n",
    "from pprint import pprint\n",
    "\n",
    "from util_feature import predict_helpful\n",
    "\n",
    "# load regressor\n",
    "opt_regressor_name = './models/opt_0.005_6_9_0.5_0.05_0.50532'\n",
    "opt_regressor = pickle.load(open(opt_regressor_name + '.pickle', 'rb'))\n",
    "\n",
    "# load helpful_data.json\n",
    "test_data = pickle.load(open('helpful_data.pickle', 'rb'))\n",
    "\n",
    "# on test set\n",
    "test_helpfuls_predict = [\n",
    "    predict_helpful(d, opt_regressor.predict) for d in test_data]\n",
    "\n",
    "# load 'pairs_Helpful.txt'\n",
    "# get header_str and user_item_outofs\n",
    "with open('pairs_Helpful.txt') as f:\n",
    "    # read and strip lines\n",
    "    lines = [l.strip() for l in f.readlines()]\n",
    "    # stirip out the headers\n",
    "    header_str = lines.pop(0)\n",
    "    # get a list of user_item_ids\n",
    "    user_item_outofs = [l.split('-') for l in lines]\n",
    "    user_item_outofs = [[d[0], d[1], float(d[2])] for d in user_item_outofs]\n",
    "\n",
    "# make sure `data.json` and `pairs_Helpful.txt` the same order\n",
    "for (user_id, item_id, outof), d in zip(user_item_outofs, test_data):\n",
    "    assert d['reviewerID'] == user_id\n",
    "    assert d['itemID'] == item_id\n",
    "    assert d['helpful']['outOf'] == outof\n",
    "\n",
    "# write to output file\n",
    "f = open('predictions_Helpful.txt', 'w')\n",
    "print(header_str, file=f)\n",
    "for (user_id, item_id, outof), helpful_predict in zip(user_item_outofs,\n",
    "                                                      test_helpfuls_predict):\n",
    "    print('%s-%s-%s,%s' %\n",
    "          (user_id, item_id, int(outof), round(helpful_predict)), file=f)\n",
    "f.close()\n",
    "\n",
    "print('done')"
   ]
  }
 ],
 "metadata": {
  "kernelspec": {
   "display_name": "Python 2",
   "language": "python",
   "name": "python2"
  },
  "language_info": {
   "codemirror_mode": {
    "name": "ipython",
    "version": 2
   },
   "file_extension": ".py",
   "mimetype": "text/x-python",
   "name": "python",
   "nbconvert_exporter": "python",
   "pygments_lexer": "ipython2",
   "version": "2.7.6"
  }
 },
 "nbformat": 4,
 "nbformat_minor": 0
}
