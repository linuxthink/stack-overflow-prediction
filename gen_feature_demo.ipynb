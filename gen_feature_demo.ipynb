{
 "cells": [
  {
   "cell_type": "code",
   "execution_count": 1,
   "metadata": {
    "collapsed": false
   },
   "outputs": [],
   "source": [
    "from __future__ import print_function\n",
    "import numpy as np\n",
    "import os\n",
    "import csv\n",
    "from pprint import pprint\n",
    "\n",
    "from feature_label_builder import FeatureLabelBuilder\n",
    "data_path = os.path.join(os.path.expanduser(\"~\"), 'data/stack_overflow')"
   ]
  },
  {
   "cell_type": "code",
   "execution_count": 2,
   "metadata": {
    "collapsed": false
   },
   "outputs": [],
   "source": [
    "# get a sample datum\n",
    "reader = csv.DictReader(open(os.path.join(data_path, 'train-sample.csv')))\n",
    "\n",
    "count = 0\n",
    "for datum in reader:\n",
    "    count += 1\n",
    "    if count == 2:\n",
    "        break"
   ]
  },
  {
   "cell_type": "code",
   "execution_count": 3,
   "metadata": {
    "collapsed": false
   },
   "outputs": [
    {
     "name": "stdout",
     "output_type": "stream",
     "text": [
      "{'BodyMarkdown': 'i create a xml document with JAXP and search a way to insert the schemalocation.\\r\\nAt the moment my application produces:\\r\\n\\r\\n    <?xml version=\"1.0\" encoding=\"UTF-8\"?>\\r\\n    <root>\\r\\n    ...\\r\\n    </root>\\r\\n\\r\\nBut i need:\\r\\n\\r\\n    <?xml version=\"1.0\" encoding=\"UTF-8\"?>\\r\\n    <root xmlns=\"namespaceURL\" \\r\\n    xmlns:xs=\"http://www.w3.org/2001/XMLSchema-instance\"\\r\\n    xs:schemaLocation=\"namespaceURL pathToMySchema.xsd\">\\r\\n    ...\\r\\n    </root>\\r\\n\\r\\nMy code:\\r\\n\\r\\n    StreamResult result = new StreamResult(writer);\\r\\n    Document doc = getDocument();\\r\\n\\r\\n    Transformer trans = transfac.newTransformer();\\r\\n    trans.setOutputProperty(OutputKeys.INDENT, \"yes\");\\r\\n    trans.setOutputProperty(OutputKeys.METHOD, \"xml\");\\r\\n    trans.setOutputProperty(OutputKeys.VERSION, \"1.0\");\\r\\n    trans.setOutputProperty(OutputKeys.ENCODING, \"UTF-8\");\\r\\n\\r\\n    DOMSource source = new DOMSource(depl.getAsElement(doc));\\r\\n    trans.transform(source, result);\\r\\n\\r\\n\\r\\nThanks for your time,  \\r\\nKasten',\n",
      " 'OpenStatus': 'open',\n",
      " 'OwnerCreationDate': '10/03/2010 09:30:58',\n",
      " 'OwnerUndeletedAnswerCountAtPostTime': '24',\n",
      " 'OwnerUserId': '465076',\n",
      " 'PostClosedDate': '',\n",
      " 'PostCreationDate': '02/02/2011 11:30:10',\n",
      " 'PostId': '4873911',\n",
      " 'ReputationAtPostCreation': '192',\n",
      " 'Tag1': 'dom',\n",
      " 'Tag2': 'xsd',\n",
      " 'Tag3': 'jaxp',\n",
      " 'Tag4': '',\n",
      " 'Tag5': '',\n",
      " 'Title': 'How to insert schemalocation in a xml document via DOM'}\n"
     ]
    }
   ],
   "source": [
    "pprint(datum)"
   ]
  },
  {
   "cell_type": "code",
   "execution_count": 4,
   "metadata": {
    "collapsed": false
   },
   "outputs": [],
   "source": [
    "flb = FeatureLabelBuilder(datum)"
   ]
  },
  {
   "cell_type": "code",
   "execution_count": 5,
   "metadata": {
    "collapsed": false
   },
   "outputs": [
    {
     "name": "stdout",
     "output_type": "stream",
     "text": [
      "[739, 73, 120, 98, 32, 175, 54, 147.80000000000001, 33.399999999999999, 29.166666666666668, 5, 0, 0, 1, 0, 4, 34, 6, 1, 0, 5, 3, 6, 0, 0.0, 0.09878213802435724, 1.643835616438356, 0.6857142857142857, 0.2, 0.0, 0.2368064952638701, 2, 2, 2, 2011, 10547952.0, 24, 192]\n",
      "4\n",
      "{'mean-code': 147.80000000000001, 'num-period': 1, 'ratio-first_text_first_code': 1.643835616438356, 'user-reputation': 192, 'time-weekday': 2, 'len-title': 54, 'ratio-text_code': 0.2368064952638701, 'num-url': 0, 'mean-text': 29.166666666666668, 'user-good_posts': 24, 'num-text_block': 6, 'num-non_word': 6, 'num-code_block': 5, 'num-sentence': 5, 'ratio-first_text_text': 0.6857142857142857, 'time-year': 2011, 'len-code': 739, 'time-day': 2, 'user-age': 10547952.0, 'ratio-question_sentence': 0.0, 'num-lines': 34, 'num-init_cap': 4, 'num-tags': 3, 'len-text': 175, 'num-exclam': 0, 'time-month': 2, 'len-last_text': 32, 'len-first_code': 73, 'num-digit': 0, 'num-question': 0, 'ratio-first_code_code': 0.09878213802435724, 'ratio-period_sentence': 0.2, 'num-i_start': 0, 'len-first_text': 120, 'num-final_thanks': 1, 'mean-sentence': 33.399999999999999, 'ratio-exclam_sentence': 0.0, 'len-last_code': 98}\n"
     ]
    }
   ],
   "source": [
    "print(flb.feature)\n",
    "print(flb.label)\n",
    "print(flb.feature_dict)"
   ]
  },
  {
   "cell_type": "code",
   "execution_count": 6,
   "metadata": {
    "collapsed": false
   },
   "outputs": [
    {
     "ename": "NameError",
     "evalue": "name 'feature_dict' is not defined",
     "output_type": "error",
     "traceback": [
      "\u001b[1;31m---------------------------------------------------------------------------\u001b[0m",
      "\u001b[1;31mNameError\u001b[0m                                 Traceback (most recent call last)",
      "\u001b[1;32m<ipython-input-6-7744848db5fc>\u001b[0m in \u001b[0;36m<module>\u001b[1;34m()\u001b[0m\n\u001b[0;32m      1\u001b[0m \u001b[0mTfeature_dict\u001b[0m \u001b[1;33m=\u001b[0m \u001b[0mflb\u001b[0m\u001b[1;33m.\u001b[0m\u001b[0mfeature_dict\u001b[0m\u001b[1;33m\u001b[0m\u001b[0m\n\u001b[1;32m----> 2\u001b[1;33m \u001b[0mfeature_dict\u001b[0m\u001b[1;33m.\u001b[0m\u001b[0mkeys\u001b[0m\u001b[1;33m(\u001b[0m\u001b[1;33m)\u001b[0m\u001b[1;33m\u001b[0m\u001b[0m\n\u001b[0m",
      "\u001b[1;31mNameError\u001b[0m: name 'feature_dict' is not defined"
     ]
    }
   ],
   "source": [
    "feature_dict = flb.feature_dict\n",
    "feature_dict.keys()"
   ]
  }
 ],
 "metadata": {
  "kernelspec": {
   "display_name": "Python 2",
   "language": "python",
   "name": "python2"
  },
  "language_info": {
   "codemirror_mode": {
    "name": "ipython",
    "version": 2
   },
   "file_extension": ".py",
   "mimetype": "text/x-python",
   "name": "python",
   "nbconvert_exporter": "python",
   "pygments_lexer": "ipython2",
   "version": "2.7.6"
  }
 },
 "nbformat": 4,
 "nbformat_minor": 0
}
