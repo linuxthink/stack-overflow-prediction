{
 "cells": [
  {
   "cell_type": "code",
   "execution_count": 1,
   "metadata": {
    "collapsed": false
   },
   "outputs": [],
   "source": [
    "from __future__ import print_function\n",
    "import numpy as np\n",
    "import os\n",
    "import csv\n",
    "from pprint import pprint\n",
    "\n",
    "from gen_feature import gen_datum_feature_dict, gen_datum_label\n",
    "data_path = os.path.join(os.path.expanduser(\"~\"), 'data/stack_overflow')"
   ]
  },
  {
   "cell_type": "code",
   "execution_count": 2,
   "metadata": {
    "collapsed": false
   },
   "outputs": [],
   "source": [
    "# get a sample datum\n",
    "reader = csv.DictReader(open(os.path.join(data_path, 'train-sample.csv')))\n",
    "\n",
    "count = 0\n",
    "for datum in reader:\n",
    "    count += 1\n",
    "    if count == 2:\n",
    "        break"
   ]
  },
  {
   "cell_type": "code",
   "execution_count": 3,
   "metadata": {
    "collapsed": false
   },
   "outputs": [
    {
     "name": "stdout",
     "output_type": "stream",
     "text": [
      "{'BodyMarkdown': 'i create a xml document with JAXP and search a way to insert the schemalocation.\\r\\nAt the moment my application produces:\\r\\n\\r\\n    <?xml version=\"1.0\" encoding=\"UTF-8\"?>\\r\\n    <root>\\r\\n    ...\\r\\n    </root>\\r\\n\\r\\nBut i need:\\r\\n\\r\\n    <?xml version=\"1.0\" encoding=\"UTF-8\"?>\\r\\n    <root xmlns=\"namespaceURL\" \\r\\n    xmlns:xs=\"http://www.w3.org/2001/XMLSchema-instance\"\\r\\n    xs:schemaLocation=\"namespaceURL pathToMySchema.xsd\">\\r\\n    ...\\r\\n    </root>\\r\\n\\r\\nMy code:\\r\\n\\r\\n    StreamResult result = new StreamResult(writer);\\r\\n    Document doc = getDocument();\\r\\n\\r\\n    Transformer trans = transfac.newTransformer();\\r\\n    trans.setOutputProperty(OutputKeys.INDENT, \"yes\");\\r\\n    trans.setOutputProperty(OutputKeys.METHOD, \"xml\");\\r\\n    trans.setOutputProperty(OutputKeys.VERSION, \"1.0\");\\r\\n    trans.setOutputProperty(OutputKeys.ENCODING, \"UTF-8\");\\r\\n\\r\\n    DOMSource source = new DOMSource(depl.getAsElement(doc));\\r\\n    trans.transform(source, result);\\r\\n\\r\\n\\r\\nThanks for your time,  \\r\\nKasten',\n",
      " 'OpenStatus': 'open',\n",
      " 'OwnerCreationDate': '10/03/2010 09:30:58',\n",
      " 'OwnerUndeletedAnswerCountAtPostTime': '24',\n",
      " 'OwnerUserId': '465076',\n",
      " 'PostClosedDate': '',\n",
      " 'PostCreationDate': '02/02/2011 11:30:10',\n",
      " 'PostId': '4873911',\n",
      " 'ReputationAtPostCreation': '192',\n",
      " 'Tag1': 'dom',\n",
      " 'Tag2': 'xsd',\n",
      " 'Tag3': 'jaxp',\n",
      " 'Tag4': '',\n",
      " 'Tag5': '',\n",
      " 'Title': 'How to insert schemalocation in a xml document via DOM'}\n"
     ]
    }
   ],
   "source": [
    "# print datum\n",
    "pprint(datum)"
   ]
  },
  {
   "cell_type": "code",
   "execution_count": 4,
   "metadata": {
    "collapsed": false
   },
   "outputs": [
    {
     "name": "stdout",
     "output_type": "stream",
     "text": [
      "i create a xml document with JAXP and search a way to insert the schemalocation.\r\n",
      "At the moment my application produces:\r\n",
      "\r\n",
      "    <?xml version=\"1.0\" encoding=\"UTF-8\"?>\r\n",
      "    <root>\r\n",
      "    ...\r\n",
      "    </root>\r\n",
      "\r\n",
      "But i need:\r\n",
      "\r\n",
      "    <?xml version=\"1.0\" encoding=\"UTF-8\"?>\r\n",
      "    <root xmlns=\"namespaceURL\" \r\n",
      "    xmlns:xs=\"http://www.w3.org/2001/XMLSchema-instance\"\r\n",
      "    xs:schemaLocation=\"namespaceURL pathToMySchema.xsd\">\r\n",
      "    ...\r\n",
      "    </root>\r\n",
      "\r\n",
      "My code:\r\n",
      "\r\n",
      "    StreamResult result = new StreamResult(writer);\r\n",
      "    Document doc = getDocument();\r\n",
      "\r\n",
      "    Transformer trans = transfac.newTransformer();\r\n",
      "    trans.setOutputProperty(OutputKeys.INDENT, \"yes\");\r\n",
      "    trans.setOutputProperty(OutputKeys.METHOD, \"xml\");\r\n",
      "    trans.setOutputProperty(OutputKeys.VERSION, \"1.0\");\r\n",
      "    trans.setOutputProperty(OutputKeys.ENCODING, \"UTF-8\");\r\n",
      "\r\n",
      "    DOMSource source = new DOMSource(depl.getAsElement(doc));\r\n",
      "    trans.transform(source, result);\r\n",
      "\r\n",
      "\r\n",
      "Thanks for your time,  \r\n",
      "Kasten\n"
     ]
    }
   ],
   "source": [
    "# print the question body\n",
    "print(datum['BodyMarkdown'])"
   ]
  },
  {
   "cell_type": "code",
   "execution_count": 5,
   "metadata": {
    "collapsed": false
   },
   "outputs": [],
   "source": [
    "feature_dict = gen_datum_feature_dict(datum)\n",
    "label = gen_datum_label(datum)"
   ]
  },
  {
   "cell_type": "code",
   "execution_count": 6,
   "metadata": {
    "collapsed": false
   },
   "outputs": [
    {
     "name": "stdout",
     "output_type": "stream",
     "text": [
      "label 4\n",
      "{'len': {'code': 739,\n",
      "         'firstcode': 73,\n",
      "         'firsttext': 120,\n",
      "         'lastcode': 98,\n",
      "         'lasttext': 32,\n",
      "         'text': 175,\n",
      "         'title': 54},\n",
      " 'mean': {'code': 147.80000000000001,\n",
      "          'sent': 33.399999999999999,\n",
      "          'text': 29.166666666666668},\n",
      " 'num': {'codeblock': 5,\n",
      "         'digit': 0,\n",
      "         'exclam': 0,\n",
      "         'finalthanks': 1,\n",
      "         'initcap': 4,\n",
      "         'istart': 0,\n",
      "         'lines': 34,\n",
      "         'nonword': 6,\n",
      "         'period': 1,\n",
      "         'question': 0,\n",
      "         'sent': 5,\n",
      "         'tags': 3,\n",
      "         'textblock': 6,\n",
      "         'url': 0},\n",
      " 'ratio': {'esent': 0.0,\n",
      "           'fcode': 0.09878213802435724,\n",
      "           'ftc': 1.643835616438356,\n",
      "           'ftext': 0.6857142857142857,\n",
      "           'psent': 0.2,\n",
      "           'qsent': 0.0,\n",
      "           'tc': 0.2368064952638701},\n",
      " 'user': {'age': 10547952.0, 'good_posts': 24, 'reputation': 192}}\n"
     ]
    }
   ],
   "source": [
    "print(\"label\", label)\n",
    "pprint(feature_dict)"
   ]
  }
 ],
 "metadata": {
  "kernelspec": {
   "display_name": "Python 2",
   "language": "python",
   "name": "python2"
  },
  "language_info": {
   "codemirror_mode": {
    "name": "ipython",
    "version": 2
   },
   "file_extension": ".py",
   "mimetype": "text/x-python",
   "name": "python",
   "nbconvert_exporter": "python",
   "pygments_lexer": "ipython2",
   "version": "2.7.6"
  }
 },
 "nbformat": 4,
 "nbformat_minor": 0
}
