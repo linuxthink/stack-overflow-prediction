{
 "cells": [
  {
   "cell_type": "code",
   "execution_count": 1,
   "metadata": {
    "collapsed": false
   },
   "outputs": [],
   "source": [
    "from __future__ import print_function\n",
    "import numpy as np\n",
    "import os\n",
    "import csv\n",
    "from pprint import pprint\n",
    "\n",
    "from feature_label_builder import FeatureLabelBuilder\n",
    "data_path = os.path.join(os.path.expanduser(\"~\"), 'data/stack_overflow')"
   ]
  },
  {
   "cell_type": "code",
   "execution_count": 2,
   "metadata": {
    "collapsed": false
   },
   "outputs": [],
   "source": [
    "# get a sample datum\n",
    "reader = csv.DictReader(open(os.path.join(data_path, 'train-sample.csv')))\n",
    "datum = reader.next()\n",
    "\n",
    "# or, to use all data\n",
    "# for datum in reader:\n",
    "#     do something"
   ]
  },
  {
   "cell_type": "code",
   "execution_count": 2,
   "metadata": {
    "collapsed": false
   },
   "outputs": [
    {
     "ename": "NameError",
     "evalue": "name 'FeatureLabelBuilder' is not defined",
     "output_type": "error",
     "traceback": [
      "\u001b[0;31m---------------------------------------------------------------------------\u001b[0m",
      "\u001b[0;31mNameError\u001b[0m                                 Traceback (most recent call last)",
      "\u001b[0;32m<ipython-input-2-75c1609d63af>\u001b[0m in \u001b[0;36m<module>\u001b[0;34m()\u001b[0m\n\u001b[1;32m      1\u001b[0m \u001b[0;31m# for each datum, init class instance\u001b[0m\u001b[0;34m\u001b[0m\u001b[0;34m\u001b[0m\u001b[0m\n\u001b[0;32m----> 2\u001b[0;31m \u001b[0mflb\u001b[0m \u001b[0;34m=\u001b[0m \u001b[0mFeatureLabelBuilder\u001b[0m\u001b[0;34m(\u001b[0m\u001b[0mdatum\u001b[0m\u001b[0;34m)\u001b[0m\u001b[0;34m\u001b[0m\u001b[0m\n\u001b[0m",
      "\u001b[0;31mNameError\u001b[0m: name 'FeatureLabelBuilder' is not defined"
     ]
    }
   ],
   "source": [
    "# for each datum, init class instance\n",
    "flb = FeatureLabelBuilder(datum)"
   ]
  },
  {
   "cell_type": "code",
   "execution_count": 4,
   "metadata": {
    "collapsed": false
   },
   "outputs": [
    {
     "name": "stdout",
     "output_type": "stream",
     "text": [
      "[0, 0, 495, 0, 495, 495, 76, 0, 122.75, 495.0, 0, 0, 0, 0, 3, 4, 10, 12, 2, 2, 4, 1, 1, 0, 0.0, 0, 0, 1.0, 0.5, 0.5, 0, 18, 5, 2, 2011, 21009539.0, 2, 1]\n",
      "4\n"
     ]
    }
   ],
   "source": [
    "# usually, use flb.feature, fib.label\n",
    "print(flb.feature)\n",
    "print(flb.label)\n",
    "\n",
    "# there are 5 types of labels\n",
    "# 'not a real question', # 1\n",
    "# 'not constructive',    # 2\n",
    "# 'off topic',           # 3\n",
    "# 'open',                # 4\n",
    "# 'too localized'        # 5"
   ]
  },
  {
   "cell_type": "code",
   "execution_count": 5,
   "metadata": {
    "collapsed": false
   },
   "outputs": [
    {
     "name": "stdout",
     "output_type": "stream",
     "text": [
      "{'len-code': 0,\n",
      " 'len-first_code': 0,\n",
      " 'len-first_text': 495,\n",
      " 'len-last_code': 0,\n",
      " 'len-last_text': 495,\n",
      " 'len-text': 495,\n",
      " 'len-title': 76,\n",
      " 'mean-code': 0,\n",
      " 'mean-sentence': 122.75,\n",
      " 'mean-text': 495.0,\n",
      " 'num-code_block': 0,\n",
      " 'num-digit': 0,\n",
      " 'num-exclam': 0,\n",
      " 'num-final_thanks': 0,\n",
      " 'num-i_start': 3,\n",
      " 'num-init_cap': 4,\n",
      " 'num-lines': 10,\n",
      " 'num-non_word': 12,\n",
      " 'num-period': 2,\n",
      " 'num-question': 2,\n",
      " 'num-sentence': 4,\n",
      " 'num-tags': 1,\n",
      " 'num-text_block': 1,\n",
      " 'num-url': 0,\n",
      " 'ratio-exclam_sentence': 0.0,\n",
      " 'ratio-first_code_code': 0,\n",
      " 'ratio-first_text_first_code': 0,\n",
      " 'ratio-first_text_text': 1.0,\n",
      " 'ratio-period_sentence': 0.5,\n",
      " 'ratio-question_sentence': 0.5,\n",
      " 'ratio-text_code': 0,\n",
      " 'time-day': 18,\n",
      " 'time-month': 5,\n",
      " 'time-weekday': 2,\n",
      " 'time-year': 2011,\n",
      " 'user-age': 21009539.0,\n",
      " 'user-good_posts': 2,\n",
      " 'user-reputation': 1}\n"
     ]
    }
   ],
   "source": [
    "# also provides feature dict (slower)\n",
    "pprint(flb.feature_dict)"
   ]
  },
  {
   "cell_type": "code",
   "execution_count": 6,
   "metadata": {
    "collapsed": false
   },
   "outputs": [
    {
     "data": {
      "text/plain": [
       "2011"
      ]
     },
     "execution_count": 6,
     "metadata": {},
     "output_type": "execute_result"
    }
   ],
   "source": [
    "# for example, get the year feature\n",
    "flb.feature_dict['time-year']"
   ]
  }
 ],
 "metadata": {
  "kernelspec": {
   "display_name": "Python 2",
   "language": "python",
   "name": "python2"
  },
  "language_info": {
   "codemirror_mode": {
    "name": "ipython",
    "version": 2
   },
   "file_extension": ".py",
   "mimetype": "text/x-python",
   "name": "python",
   "nbconvert_exporter": "python",
   "pygments_lexer": "ipython2",
   "version": "2.7.10"
  }
 },
 "nbformat": 4,
 "nbformat_minor": 0
}
