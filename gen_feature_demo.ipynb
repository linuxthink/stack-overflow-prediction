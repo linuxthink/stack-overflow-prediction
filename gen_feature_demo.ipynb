{
 "cells": [
  {
   "cell_type": "code",
   "execution_count": 1,
   "metadata": {
    "collapsed": false
   },
   "outputs": [],
   "source": [
    "from __future__ import print_function\n",
    "import numpy as np\n",
    "import os\n",
    "import csv\n",
    "from pprint import pprint\n",
    "\n",
    "from feature_label_builder import FeatureLabelBuilder\n",
    "data_path = os.path.join(os.path.expanduser(\"~\"), 'data/stack_overflow')"
   ]
  },
  {
   "cell_type": "code",
   "execution_count": 2,
   "metadata": {
    "collapsed": false
   },
   "outputs": [],
   "source": [
    "# get a sample datum\n",
    "reader = csv.DictReader(open(os.path.join(data_path, 'train-sample.csv')))\n",
    "\n",
    "count = 0\n",
    "for datum in reader:\n",
    "    count += 1\n",
    "    if count == 2:\n",
    "        break"
   ]
  },
  {
   "cell_type": "code",
   "execution_count": 3,
   "metadata": {
    "collapsed": false
   },
   "outputs": [],
   "source": [
    "# for each datum, init class instance\n",
    "flb = FeatureLabelBuilder(datum)"
   ]
  },
  {
   "cell_type": "code",
   "execution_count": 4,
   "metadata": {
    "collapsed": false
   },
   "outputs": [
    {
     "name": "stdout",
     "output_type": "stream",
     "text": [
      "[739, 73, 120, 98, 32, 175, 54, 147.80000000000001, 33.399999999999999, 29.166666666666668, 5, 0, 0, 1, 0, 4, 34, 6, 1, 0, 5, 3, 6, 0, 0.0, 0.09878213802435724, 1.643835616438356, 0.6857142857142857, 0.2, 0.0, 0.2368064952638701, 2, 2, 2, 2011, 10547952.0, 24, 192]\n",
      "4\n"
     ]
    }
   ],
   "source": [
    "# usually, use flb.feature, fib.label\n",
    "print(flb.feature)\n",
    "print(flb.label)\n",
    "\n",
    "# there are 5 types of labels\n",
    "# 'not a real question', # 1\n",
    "# 'not constructive',    # 2\n",
    "# 'off topic',           # 3\n",
    "# 'open',                # 4\n",
    "# 'too localized'        # 5"
   ]
  },
  {
   "cell_type": "code",
   "execution_count": 5,
   "metadata": {
    "collapsed": false
   },
   "outputs": [
    {
     "name": "stdout",
     "output_type": "stream",
     "text": [
      "{'len-code': 739,\n",
      " 'len-first_code': 73,\n",
      " 'len-first_text': 120,\n",
      " 'len-last_code': 98,\n",
      " 'len-last_text': 32,\n",
      " 'len-text': 175,\n",
      " 'len-title': 54,\n",
      " 'mean-code': 147.80000000000001,\n",
      " 'mean-sentence': 33.399999999999999,\n",
      " 'mean-text': 29.166666666666668,\n",
      " 'num-code_block': 5,\n",
      " 'num-digit': 0,\n",
      " 'num-exclam': 0,\n",
      " 'num-final_thanks': 1,\n",
      " 'num-i_start': 0,\n",
      " 'num-init_cap': 4,\n",
      " 'num-lines': 34,\n",
      " 'num-non_word': 6,\n",
      " 'num-period': 1,\n",
      " 'num-question': 0,\n",
      " 'num-sentence': 5,\n",
      " 'num-tags': 3,\n",
      " 'num-text_block': 6,\n",
      " 'num-url': 0,\n",
      " 'ratio-exclam_sentence': 0.0,\n",
      " 'ratio-first_code_code': 0.09878213802435724,\n",
      " 'ratio-first_text_first_code': 1.643835616438356,\n",
      " 'ratio-first_text_text': 0.6857142857142857,\n",
      " 'ratio-period_sentence': 0.2,\n",
      " 'ratio-question_sentence': 0.0,\n",
      " 'ratio-text_code': 0.2368064952638701,\n",
      " 'time-day': 2,\n",
      " 'time-month': 2,\n",
      " 'time-weekday': 2,\n",
      " 'time-year': 2011,\n",
      " 'user-age': 10547952.0,\n",
      " 'user-good_posts': 24,\n",
      " 'user-reputation': 192}\n"
     ]
    }
   ],
   "source": [
    "# also provides feature dict (slower)\n",
    "pprint(flb.feature_dict)"
   ]
  },
  {
   "cell_type": "code",
   "execution_count": 6,
   "metadata": {
    "collapsed": false
   },
   "outputs": [
    {
     "data": {
      "text/plain": [
       "2011"
      ]
     },
     "execution_count": 6,
     "metadata": {},
     "output_type": "execute_result"
    }
   ],
   "source": [
    "# for example, get the year feature\n",
    "flb.feature_dict['time-year']"
   ]
  }
 ],
 "metadata": {
  "kernelspec": {
   "display_name": "Python 2",
   "language": "python",
   "name": "python2"
  },
  "language_info": {
   "codemirror_mode": {
    "name": "ipython",
    "version": 2
   },
   "file_extension": ".py",
   "mimetype": "text/x-python",
   "name": "python",
   "nbconvert_exporter": "python",
   "pygments_lexer": "ipython2",
   "version": "2.7.6"
  }
 },
 "nbformat": 4,
 "nbformat_minor": 0
}
