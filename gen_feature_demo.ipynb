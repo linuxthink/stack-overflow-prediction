{
 "cells": [
  {
   "cell_type": "code",
   "execution_count": 1,
   "metadata": {
    "collapsed": false
   },
   "outputs": [],
   "source": [
    "from __future__ import print_function\n",
    "import numpy as np\n",
    "import os\n",
    "import csv\n",
    "from pprint import pprint\n",
    "\n",
    "from gen_feature import gen_datum_feature_dict, gen_datum_label\n",
    "data_path = os.path.join(os.path.expanduser(\"~\"), 'data/stack_overflow')"
   ]
  },
  {
   "cell_type": "code",
   "execution_count": 2,
   "metadata": {
    "collapsed": true
   },
   "outputs": [],
   "source": [
    "# get a sample datum\n",
    "count = 0\n",
    "reader = csv.DictReader(open(os.path.join(data_path, 'train-sample.csv')))\n",
    "\n",
    "open_statuses = set()\n",
    "for datum in reader:\n",
    "    open_statuses.add(datum['OpenStatus'])\n",
    "    count += 1\n",
    "    if count == 2:\n",
    "        break"
   ]
  },
  {
   "cell_type": "code",
   "execution_count": 3,
   "metadata": {
    "collapsed": false
   },
   "outputs": [],
   "source": [
    "feature_dict = gen_datum_feature_dict(datum)\n",
    "label = gen_datum_label(datum)"
   ]
  },
  {
   "cell_type": "code",
   "execution_count": 4,
   "metadata": {
    "collapsed": false
   },
   "outputs": [
    {
     "name": "stdout",
     "output_type": "stream",
     "text": [
      "label 4\n",
      "{'len': {'code': 739,\n",
      "         'firstcode': 73,\n",
      "         'firsttext': 120,\n",
      "         'lastcode': 98,\n",
      "         'lasttext': 32,\n",
      "         'text': 175,\n",
      "         'title': 54},\n",
      " 'mean': {'code': 147.80000000000001,\n",
      "          'sent': 33.399999999999999,\n",
      "          'text': 29.166666666666668},\n",
      " 'num': {'codeblock': 5,\n",
      "         'digit': 0,\n",
      "         'exclam': 0,\n",
      "         'finalthanks': 1,\n",
      "         'initcap': 4,\n",
      "         'istart': 0,\n",
      "         'lines': 34,\n",
      "         'nonword': 6,\n",
      "         'period': 1,\n",
      "         'question': 0,\n",
      "         'sent': 5,\n",
      "         'tags': 3,\n",
      "         'textblock': 6,\n",
      "         'url': 0},\n",
      " 'ratio': {'esent': 0.0,\n",
      "           'fcode': 0.09878213802435724,\n",
      "           'ftc': 1.643835616438356,\n",
      "           'ftext': 0.6857142857142857,\n",
      "           'psent': 0.2,\n",
      "           'qsent': 0.0,\n",
      "           'tc': 0.2368064952638701},\n",
      " 'user': {'age': 10547952.0, 'good_posts': 24, 'reputation': 192}}\n"
     ]
    }
   ],
   "source": [
    "print(\"label\", label)\n",
    "pprint(feature_dict)"
   ]
  }
 ],
 "metadata": {
  "kernelspec": {
   "display_name": "Python 2",
   "language": "python",
   "name": "python2"
  },
  "language_info": {
   "codemirror_mode": {
    "name": "ipython",
    "version": 2
   },
   "file_extension": ".py",
   "mimetype": "text/x-python",
   "name": "python",
   "nbconvert_exporter": "python",
   "pygments_lexer": "ipython2",
   "version": "2.7.6"
  }
 },
 "nbformat": 4,
 "nbformat_minor": 0
}
