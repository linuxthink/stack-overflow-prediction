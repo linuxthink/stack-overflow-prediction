{
 "cells": [
  {
   "cell_type": "code",
   "execution_count": 2,
   "metadata": {
    "collapsed": false
   },
   "outputs": [],
   "source": [
    "from __future__ import print_function\n",
    "from collections import defaultdict\n",
    "import numpy as np\n",
    "import scipy as sp\n",
    "import cPickle as pickle\n",
    "import time\n",
    "import os\n",
    "\n",
    "data_root = os.path.expanduser(\"~\") + '/data/CSE255/'\n",
    "%matplotlib inline\n",
    "import matplotlib.pyplot as plt"
   ]
  },
  {
   "cell_type": "code",
   "execution_count": 3,
   "metadata": {
    "collapsed": false
   },
   "outputs": [
    {
     "name": "stdout",
     "output_type": "stream",
     "text": [
      "17.0889589787\n"
     ]
    }
   ],
   "source": [
    "start_time = time.time()\n",
    "all_data = pickle.load(open(data_root + \"all_data.pickle\", \"rb\"))\n",
    "print(time.time() - start_time)"
   ]
  },
  {
   "cell_type": "code",
   "execution_count": 4,
   "metadata": {
    "collapsed": false
   },
   "outputs": [],
   "source": [
    "all_size = len(all_data)\n",
    "train_size = 900000\n",
    "train_data = all_data[:train_size]\n",
    "valid_data = all_data[train_size:]"
   ]
  },
  {
   "cell_type": "code",
   "execution_count": 5,
   "metadata": {
    "collapsed": false
   },
   "outputs": [
    {
     "name": "stdout",
     "output_type": "stream",
     "text": [
      "{'itemID': 'I572782694', 'rating': 5.0, 'helpful': {'nHelpful': 0, 'outOf': 0}, 'reviewText': 'favorite of the series...May not have been as steamy as some of the others...but the characters, their depth, and believability were amazing.  wanted to curl up with Devlin and make it all better(wink wink). an amazing series...found Laura Kate when I stumbled onto Hearts in Darkness(one of my all time faves)...this series ranks up there with my Kresley Cole and Gena Showalter favorites.', 'reviewerID': 'U243261361', 'summary': 'Loved it', 'unixReviewTime': 1399075200, 'category': [['Books']], 'reviewTime': '05 3, 2014'}\n"
     ]
    }
   ],
   "source": [
    "datum = train_data[0]\n",
    "print(datum)"
   ]
  },
  {
   "cell_type": "code",
   "execution_count": 56,
   "metadata": {
    "collapsed": true
   },
   "outputs": [],
   "source": [
    "def get_mae(helpfuls, helpfuls_predict):\n",
    "    return np.sum(np.fabs(helpfuls_predict - helpfuls.astype(float))) / helpfuls.shape[0]"
   ]
  },
  {
   "cell_type": "code",
   "execution_count": 58,
   "metadata": {
    "collapsed": false
   },
   "outputs": [
    {
     "name": "stdout",
     "output_type": "stream",
     "text": [
      "optimal helpfulness ratio 0.857\n",
      "valid mean_abs_error 0.6626407\n"
     ]
    }
   ],
   "source": [
    "# linear search best ratio\n",
    "def linear_search_ratio(helpfuls, outofs, search_range=(0.3, 1.0, 0.001)):\n",
    "    alphas = np.arange(*search_range)\n",
    "    errors = [get_mae(helpfuls, outofs * alpha) for alpha in alphas]\n",
    "    optimal_alpha = alphas[np.argmin(errors)]\n",
    "    return optimal_alpha\n",
    "\n",
    "# training set global\n",
    "train_helpfuls = np.array([d['helpful']['nHelpful'] for d in train_data])\n",
    "train_outofs =  np.array([d['helpful']['outOf'] for d in train_data])\n",
    "train_avg_ratio = linear_search_ratio(train_helpfuls, train_outofs, search_range=(0.3, 1.0, 0.001))\n",
    "print('optimal helpfulness ratio', train_avg_ratio)\n",
    "\n",
    "# mean absolute error in validation set\n",
    "valid_helpfuls = np.array([d['helpful']['nHelpful'] for d in valid_data])\n",
    "valid_outofs =  np.array([d['helpful']['outOf'] for d in valid_data])\n",
    "valid_helpfuls_predict = valid_outofs * alpha\n",
    "print('valid mean_abs_error', get_mean_abs_error(valid_helpfuls, valid_helpfuls_predict))"
   ]
  },
  {
   "cell_type": "code",
   "execution_count": 53,
   "metadata": {
    "collapsed": false
   },
   "outputs": [],
   "source": [
    "# user ratio\n",
    "users_outofs = defaultdict(list)\n",
    "users_helpfuls = defaultdict(list)\n",
    "for d in train_data:\n",
    "    user_id = d['reviewerID']\n",
    "    users_outofs[user_id].append(float(d['helpful']['outOf']))\n",
    "    users_helpfuls[user_id].append(float(d['helpful']['nHelpful']))\n",
    "    \n",
    "users_ratio = dict()\n",
    "for user_id in users_outofs:\n",
    "    if np.sum(users_outofs[user_id]) != 0:\n",
    "        ratio = linear_search_ratio(np.array(users_helpfuls[user_id]), \n",
    "                                    np.array(users_outofs[user_id]), \n",
    "                                    search_range=(0.0, 1.01, 0.01))\n",
    "        if ratio < 0.1:\n",
    "            ratio = train_avg_ratio\n",
    "    else:\n",
    "        ratio = train_avg_ratio\n",
    "    users_ratio[user_id] = ratio\n",
    "    \n",
    "print('finish users ratio')\n",
    "    \n",
    "# item ratio\n",
    "items_outofs = defaultdict(list)\n",
    "items_helpfuls = defaultdict(list)\n",
    "for d in train_data:\n",
    "    item_id = d['itemID']\n",
    "    items_outofs[item_id].append(float(d['helpful']['outOf']))\n",
    "    items_helpfuls[item_id].append(float(d['helpful']['nHelpful']))\n",
    "    \n",
    "items_ratio = dict()\n",
    "for item_id in items_outofs:\n",
    "    if np.sum(items_outofs[item_id]) != 0:\n",
    "        ratio = linear_search_ratio(np.array(items_helpfuls[item_id]), \n",
    "                                    np.array(items_outofs[item_id]), \n",
    "                                    search_range=(0.0, 1.01, 0.01))\n",
    "        if ratio < 0.1:\n",
    "            ratio = train_avg_ratio\n",
    "    else:\n",
    "        ratio = train_avg_ratio\n",
    "    items_ratio[item_id] = ratio\n",
    "    \n",
    "print('finish items ratio')"
   ]
  }
 ],
 "metadata": {
  "kernelspec": {
   "display_name": "Python 2",
   "language": "python",
   "name": "python2"
  },
  "language_info": {
   "codemirror_mode": {
    "name": "ipython",
    "version": 2
   },
   "file_extension": ".py",
   "mimetype": "text/x-python",
   "name": "python",
   "nbconvert_exporter": "python",
   "pygments_lexer": "ipython2",
   "version": "2.7.6"
  }
 },
 "nbformat": 4,
 "nbformat_minor": 0
}
