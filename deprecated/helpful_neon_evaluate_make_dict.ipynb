{
 "cells": [
  {
   "cell_type": "code",
   "execution_count": 2,
   "metadata": {
    "collapsed": false
   },
   "outputs": [],
   "source": [
    "from __future__ import print_function\n",
    "from collections import defaultdict\n",
    "import numpy as np\n",
    "import scipy as sp\n",
    "import cPickle as pickle\n",
    "import time\n",
    "import os\n",
    "\n",
    "# data\n",
    "data_root = os.path.expanduser(\"~\") + '/data/CSE255/'\n",
    "\n",
    "# l1-norm\n",
    "import cvxopt as co\n",
    "from l1 import l1"
   ]
  },
  {
   "cell_type": "code",
   "execution_count": 5,
   "metadata": {
    "collapsed": false
   },
   "outputs": [
    {
     "name": "stdout",
     "output_type": "stream",
     "text": [
      "22.817912817\n"
     ]
    }
   ],
   "source": [
    "# load all_data\n",
    "start_time = time.time()\n",
    "all_data = pickle.load(open(data_root + \"all_data.pickle\", \"rb\"))\n",
    "test_data = pickle.load(open(data_root + \"helpful_data.pickle\", \"rb\"))\n",
    "print(time.time() - start_time)"
   ]
  },
  {
   "cell_type": "code",
   "execution_count": 12,
   "metadata": {
    "collapsed": false
   },
   "outputs": [],
   "source": [
    "# split training and valid set\n",
    "# all\n",
    "all_size = len(all_data)\n",
    "\n",
    "# train\n",
    "train_size = 900000\n",
    "# train_size = all_size # uncomment this to produce test\n",
    "train_data = all_data[:train_size]\n",
    "\n",
    "# valid\n",
    "valid_size = 100000\n",
    "valid_data = all_data[all_size - valid_size:]"
   ]
  },
  {
   "cell_type": "code",
   "execution_count": 13,
   "metadata": {
    "collapsed": true
   },
   "outputs": [],
   "source": [
    "# utility functions\n",
    "def get_mae(helpfuls, helpfuls_predict):\n",
    "    return np.sum(np.fabs(helpfuls_predict - helpfuls.astype(float))) / helpfuls.shape[0]"
   ]
  },
  {
   "cell_type": "code",
   "execution_count": 35,
   "metadata": {
    "collapsed": false
   },
   "outputs": [
    {
     "name": "stdout",
     "output_type": "stream",
     "text": [
      "1.02746001564\n",
      "0.336667277533\n",
      "0.500226021959\n"
     ]
    }
   ],
   "source": [
    "all_ratios_predict, test_ratios_predict = pickle.load(open(\"all_ratio_predict_test_ratio_predict.pickle\", \"rb\"))\n",
    "all_ratios_predict = np.array(all_ratios_predict)\n",
    "test_ratios_predict = np.array(test_ratios_predict)\n",
    "\n",
    "# train and valid accuracy\n",
    "all_helpfuls = np.array([d['helpful']['nHelpful'] for d in all_data]).astype(float)\n",
    "all_outofs = np.array([d['helpful']['outOf'] for d in all_data]).astype(float)\n",
    "\n",
    "# get mae\n",
    "all_helpfuls_predict = all_ratios_predict * all_outofs\n",
    "print(get_mae(all_helpfuls, all_helpfuls_predict))\n",
    "\n",
    "# get binary accuracy\n",
    "all_ratios_predict = all_ratios_predict[all_outofs != 0]\n",
    "all_helpfuls = all_helpfuls[all_outofs != 0]\n",
    "all_outofs =all_outofs[all_outofs != 0]\n",
    "all_ratios = all_helpfuls / all_outofs\n",
    "\n",
    "all_ratios_predict[all_ratios_predict >= 0.5] = 1.0\n",
    "all_ratios_predict[all_ratios_predict < 0.5] = 0\n",
    "\n",
    "all_ratios[all_ratios >= 0.5] = 1.0\n",
    "all_ratios[all_ratios < 0.5] = 0\n",
    "\n",
    "print(get_mae(all_ratios, all_ratios_predict))\n",
    "print(get_mae(all_ratios, np.random.uniform(0, 1, size=all_ratios.shape)))"
   ]
  },
  {
   "cell_type": "code",
   "execution_count": 22,
   "metadata": {
    "collapsed": false
   },
   "outputs": [
    {
     "data": {
      "text/plain": [
       "440326.0"
      ]
     },
     "execution_count": 22,
     "metadata": {},
     "output_type": "execute_result"
    }
   ],
   "source": [
    "np.sum(all_ratios)"
   ]
  },
  {
   "cell_type": "code",
   "execution_count": null,
   "metadata": {
    "collapsed": true
   },
   "outputs": [],
   "source": [
    "np.sum(all_ratios)"
   ]
  },
  {
   "cell_type": "code",
   "execution_count": 33,
   "metadata": {
    "collapsed": false
   },
   "outputs": [
    {
     "name": "stdout",
     "output_type": "stream",
     "text": [
      "1.28863464737\n",
      "0.446496815287\n",
      "0.498787837755\n"
     ]
    }
   ],
   "source": [
    "all_ratios_predict, test_ratios_predict = pickle.load(open(\"all_ratio_predict_test_ratio_predict.pickle\", \"rb\"))\n",
    "all_ratios_predict = np.array(all_ratios_predict)\n",
    "test_ratios_predict = np.array(test_ratios_predict)\n",
    "\n",
    "# test accuracy\n",
    "data_root = os.path.expanduser(\"~\") + '/data/CSE255/'\n",
    "user_item_outofs_helpfuls_gt = pickle.load(open(data_root + \"user_item_outofs_helpfuls_gt.pvt\", \"rb\"))\n",
    "\n",
    "test_outofs = np.array([i[2] for i in user_item_outofs_helpfuls_gt])\n",
    "test_helpfuls = np.array([i[3] for i in user_item_outofs_helpfuls_gt])\n",
    "\n",
    "# get mae\n",
    "test_helpfuls_predict = test_ratios_predict * test_outofs\n",
    "print(get_mae(test_helpfuls, test_helpfuls_predict))\n",
    "\n",
    "# get binary accuracy\n",
    "test_ratios_predict = test_ratios_predict[test_outofs != 0]\n",
    "test_helpfuls = test_helpfuls[test_outofs != 0]\n",
    "test_outofs =test_outofs[test_outofs != 0]\n",
    "test_ratios = test_helpfuls / test_outofs\n",
    "\n",
    "test_ratios_predict[test_ratios_predict >= 0.5] = 1.0\n",
    "test_ratios_predict[test_ratios_predict < 0.5] = 0\n",
    "\n",
    "test_ratios[test_ratios >= 0.5] = 1.0\n",
    "test_ratios[test_ratios < 0.5] = 0\n",
    "\n",
    "print(get_mae(test_ratios, test_ratios_predict))\n",
    "print(get_mae(test_ratios, np.random.uniform(0, 1, size=test_ratios.shape)))"
   ]
  }
 ],
 "metadata": {
  "kernelspec": {
   "display_name": "Python 2",
   "language": "python",
   "name": "python2"
  },
  "language_info": {
   "codemirror_mode": {
    "name": "ipython",
    "version": 2
   },
   "file_extension": ".py",
   "mimetype": "text/x-python",
   "name": "python",
   "nbconvert_exporter": "python",
   "pygments_lexer": "ipython2",
   "version": "2.7.6"
  }
 },
 "nbformat": 4,
 "nbformat_minor": 0
}
