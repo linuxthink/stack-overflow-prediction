{
 "cells": [
  {
   "cell_type": "code",
   "execution_count": 1,
   "metadata": {
    "collapsed": true
   },
   "outputs": [],
   "source": [
    "from collections import defaultdict"
   ]
  },
  {
   "cell_type": "code",
   "execution_count": 2,
   "metadata": {
    "collapsed": true
   },
   "outputs": [],
   "source": [
    "def read_file(f):\n",
    "    for l in open(f):\n",
    "        yield eval(l)"
   ]
  },
  {
   "cell_type": "code",
   "execution_count": 3,
   "metadata": {
    "collapsed": false
   },
   "outputs": [],
   "source": [
    "# Helpfulness baseline: similar to the above. Compute the global average\n",
    "# helpfulness rate, and the average helpfulness rate for each user\n",
    "\n",
    "allHelpful = []\n",
    "userHelpful = defaultdict(list)\n",
    "\n",
    "for l in read_file(\"train.json\"):\n",
    "    user, item = l['reviewerID'], l['itemID']\n",
    "    allHelpful.append(l['helpful'])\n",
    "    userHelpful[user].append(l['helpful'])\n",
    "\n",
    "averageRate = sum([x['nHelpful'] for x in allHelpful]) * \\\n",
    "    1.0 / sum([x['outOf'] for x in allHelpful])\n",
    "userRate = {}\n",
    "for u in userHelpful:\n",
    "    totalU = sum([x['outOf'] for x in userHelpful[u]])\n",
    "    if totalU > 0:\n",
    "        userRate[u] = sum([x['nHelpful']\n",
    "                           for x in userHelpful[u]]) * 1.0 / totalU\n",
    "    else:\n",
    "        userRate[u] = averageRate\n",
    "\n",
    "predictions = open(\"predictions_Helpful.txt\", 'w')\n",
    "for l in open(\"pairs_Helpful.txt\"):\n",
    "    if l.startswith(\"userID\"):\n",
    "        # header\n",
    "        predictions.write(l)\n",
    "        continue\n",
    "    u, i, outOf = l.strip().split('-')\n",
    "    outOf = int(outOf)\n",
    "    if u in userRate:\n",
    "        predictions.write(\n",
    "            u + '-' + i + '-' + str(outOf) + ',' + str(outOf * userRate[u]) + '\\n')\n",
    "    else:\n",
    "        predictions.write(\n",
    "            u + '-' + i + '-' + str(outOf) + ',' + str(outOf * averageRate) + '\\n')\n",
    "\n",
    "predictions.close()"
   ]
  },
  {
   "cell_type": "code",
   "execution_count": 6,
   "metadata": {
    "collapsed": false
   },
   "outputs": [
    {
     "data": {
      "text/plain": [
       "0.7699832887534643"
      ]
     },
     "execution_count": 6,
     "metadata": {},
     "output_type": "execute_result"
    }
   ],
   "source": [
    "averageRate"
   ]
  },
  {
   "cell_type": "code",
   "execution_count": 4,
   "metadata": {
    "collapsed": true
   },
   "outputs": [],
   "source": [
    "# Rating baseline: compute averages for each user, or return the global\n",
    "# average if we've never seen the user before\n",
    "\n",
    "allRatings = []\n",
    "userRatings = defaultdict(list)\n",
    "for l in read_file(\"train.json\"):\n",
    "    user, item = l['reviewerID'], l['itemID']\n",
    "    allRatings.append(l['rating'])\n",
    "    userRatings[user].append(l['rating'])\n",
    "\n",
    "globalAverage = sum(allRatings) / len(allRatings)\n",
    "userAverage = {}\n",
    "for u in userRatings:\n",
    "    userAverage[u] = sum(userRatings[u]) / len(userRatings[u])\n",
    "\n",
    "predictions = open(\"predictions_Rating.txt\", 'w')\n",
    "for l in open(\"pairs_Rating.txt\"):\n",
    "    if l.startswith(\"userID\"):\n",
    "        # header\n",
    "        predictions.write(l)\n",
    "        continue\n",
    "    u, i = l.strip().split('-')\n",
    "    if u in userAverage:\n",
    "        predictions.write(u + '-' + i + ',' + str(userAverage[u]) + '\\n')\n",
    "    else:\n",
    "        predictions.write(u + '-' + i + ',' + str(globalAverage) + '\\n')\n",
    "\n",
    "predictions.close()"
   ]
  },
  {
   "cell_type": "code",
   "execution_count": 5,
   "metadata": {
    "collapsed": true
   },
   "outputs": [],
   "source": [
    "# # Purchasing baseline: just rank which items are popular and which are\n",
    "# # not, and return '1' if an item is among the top-ranked\n",
    "\n",
    "# itemCount = defaultdict(int)\n",
    "# totalPurchases = 0\n",
    "\n",
    "# for l in read_file(\"train.json\"):\n",
    "#     user, item = l['reviewerID'], l['itemID']\n",
    "#     itemCount[item] += 1\n",
    "#     totalPurchases += 1\n",
    "\n",
    "# mostPopular = [(itemCount[x], x) for x in itemCount]\n",
    "# mostPopular.sort()\n",
    "# mostPopular.reverse()\n",
    "\n",
    "# return1 = set()\n",
    "# count = 0\n",
    "# for ic, i in mostPopular:\n",
    "#     count += ic\n",
    "#     return1.add(i)\n",
    "#     if count > totalPurchases / 2:\n",
    "#         break\n",
    "\n",
    "# predictions = open(\"predictions_Purchase.txt\", 'w')\n",
    "# for l in open(\"pairs_Purchase.txt\"):\n",
    "#     if l.startswith(\"userID\"):\n",
    "#         # header\n",
    "#         predictions.write(l)\n",
    "#         continue\n",
    "#     u, i = l.strip().split('-')\n",
    "#     if i in return1:\n",
    "#         predictions.write(u + '-' + i + \",1\\n\")\n",
    "#     else:\n",
    "#         predictions.write(u + '-' + i + \",0\\n\")\n",
    "\n",
    "# predictions.close()"
   ]
  }
 ],
 "metadata": {
  "kernelspec": {
   "display_name": "Python 2",
   "language": "python",
   "name": "python2"
  },
  "language_info": {
   "codemirror_mode": {
    "name": "ipython",
    "version": 2
   },
   "file_extension": ".py",
   "mimetype": "text/x-python",
   "name": "python",
   "nbconvert_exporter": "python",
   "pygments_lexer": "ipython2",
   "version": "2.7.6"
  }
 },
 "nbformat": 4,
 "nbformat_minor": 0
}
