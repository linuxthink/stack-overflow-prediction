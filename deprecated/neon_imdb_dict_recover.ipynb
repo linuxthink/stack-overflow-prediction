{
 "cells": [
  {
   "cell_type": "code",
   "execution_count": 10,
   "metadata": {
    "collapsed": true
   },
   "outputs": [],
   "source": [
    "from neon.backends import gen_backend\n",
    "from neon.data import DataIterator, Text, load_text\n",
    "from neon.initializers import Uniform, GlorotUniform\n",
    "from neon.layers import GeneralizedCost, LSTM, Affine, Dropout, LookupTable, RecurrentSum\n",
    "from neon.models import Model\n",
    "from neon.optimizers import Adagrad\n",
    "from neon.transforms import Logistic, Tanh, Softmax, CrossEntropyMulti, MeanSquaredMetric, MeanSquared\n",
    "from neon.callbacks.callbacks import Callbacks\n",
    "from neon.util.argparser import NeonArgparser\n",
    "import numpy as np\n",
    "import os\n",
    "import cPickle as pickle\n",
    "data_root = os.path.expanduser(\"~\") + '/data/CSE255/'"
   ]
  },
  {
   "cell_type": "code",
   "execution_count": 2,
   "metadata": {
    "collapsed": true
   },
   "outputs": [],
   "source": [
    "# dummy class for arguments\n",
    "class Args():\n",
    "    pass\n",
    "args = Args()\n",
    "\n",
    "# the command line arguments \n",
    "args.backend         = 'gpu'\n",
    "args.batch_size      = 128\n",
    "args.epochs          = 2\n",
    "\n",
    "args.config          = None\n",
    "args.data_dir        = '/home/linuxthink/nervana/data'\n",
    "args.datatype        = np.float32\n",
    "args.device_id       = 0\n",
    "args.evaluation_freq = 1\n",
    "args.history         = 1\n",
    "args.log_thresh      = 40\n",
    "args.logfile         = None\n",
    "args.model_file      = None\n",
    "args.no_progress_bar = False\n",
    "args.output_file     = '/home/linuxthink/nervana/data/neonlog.hd5'\n",
    "args.progress_bar    = True\n",
    "args.rng_seed        = 0\n",
    "args.rounding        = False\n",
    "args.save_path       = None\n",
    "args.serialize       = 0\n",
    "args.verbose         = 0"
   ]
  },
  {
   "cell_type": "code",
   "execution_count": 3,
   "metadata": {
    "collapsed": true
   },
   "outputs": [],
   "source": [
    "num_epochs = args.epochs\n",
    "\n",
    "# hyperparameters from the reference\n",
    "batch_size = 128\n",
    "clip_gradients = True\n",
    "gradient_limit = 15\n",
    "vocab_size = 20000\n",
    "sentence_length = 100\n",
    "embedding_dim = 128\n",
    "hidden_size = 128\n",
    "reset_cells = True\n",
    "\n",
    "# setup backend\n",
    "be = gen_backend(backend=args.backend,\n",
    "                 batch_size=batch_size,\n",
    "                 rng_seed=args.rng_seed,\n",
    "                 device_id=args.device_id,\n",
    "                 default_dtype=args.datatype)"
   ]
  },
  {
   "cell_type": "code",
   "execution_count": 4,
   "metadata": {
    "collapsed": false,
    "scrolled": true
   },
   "outputs": [
    {
     "name": "stdout",
     "output_type": "stream",
     "text": [
      "Vocab size -  20000\n",
      "Sentence Length -  100\n",
      "# of train sentences 20000\n",
      "# of test sentence 5000\n"
     ]
    }
   ],
   "source": [
    "# make dataset\n",
    "path = load_text('imdb', path=args.data_dir)\n",
    "(X_train, y_train), (X_test, y_test), nclass = Text.pad_data(\n",
    "    path, vocab_size=vocab_size, sentence_length=sentence_length)\n",
    "\n",
    "print \"Vocab size - \", vocab_size\n",
    "print \"Sentence Length - \", sentence_length\n",
    "print \"# of train sentences\", X_train.shape[0]\n",
    "print \"# of test sentence\", X_test.shape[0]\n",
    "\n",
    "train_set = DataIterator(X_train, y_train, nclass=1)\n",
    "valid_set = DataIterator(X_test, y_test, nclass=1)"
   ]
  },
  {
   "cell_type": "code",
   "execution_count": 40,
   "metadata": {
    "collapsed": false
   },
   "outputs": [],
   "source": [
    "raw_data = pickle.load(open(path, \"rb\"))"
   ]
  },
  {
   "cell_type": "code",
   "execution_count": 50,
   "metadata": {
    "collapsed": false
   },
   "outputs": [
    {
     "data": {
      "text/plain": [
       "tuple"
      ]
     },
     "execution_count": 50,
     "metadata": {},
     "output_type": "execute_result"
    }
   ],
   "source": [
    "type(raw_data)"
   ]
  },
  {
   "cell_type": "code",
   "execution_count": 41,
   "metadata": {
    "collapsed": false
   },
   "outputs": [
    {
     "name": "stdout",
     "output_type": "stream",
     "text": [
      "(25000, 25000)\n"
     ]
    }
   ],
   "source": [
    "print(len(raw_data[0]), len(raw_data[1]))"
   ]
  },
  {
   "cell_type": "code",
   "execution_count": 48,
   "metadata": {
    "collapsed": false
   },
   "outputs": [
    {
     "data": {
      "text/plain": [
       "330"
      ]
     },
     "execution_count": 48,
     "metadata": {},
     "output_type": "execute_result"
    }
   ],
   "source": [
    "len(raw_data[0][3]) "
   ]
  },
  {
   "cell_type": "code",
   "execution_count": 13,
   "metadata": {
    "collapsed": false
   },
   "outputs": [],
   "source": [
    "imdb_word_to_idx = pickle.load(open(data_root + \"imdb.dict.pkl\", \"rb\"))\n",
    "imdb_idx_to_word = dict()\n",
    "for word, idx in imdb_word_to_idx.iteritems():\n",
    "    imdb_idx_to_word[idx] = word"
   ]
  },
  {
   "cell_type": "code",
   "execution_count": 47,
   "metadata": {
    "collapsed": false
   },
   "outputs": [
    {
     "data": {
      "text/plain": [
       "'we really enjoyed grey owl : a simple tale well told in classic attenborough fashion : a little over-romanticized , with archetypes , humor , and a stress of dignity and values . &lt; br / &gt; &lt; br / &gt; beautifully shot and told at a nice pace this is the true story of archie , an englishman who turned native indian , and went to live and trap in canada . &lt; br / &gt; &lt; br / &gt; solid performances from all makes this film with a message easy viewing . &lt; br / &gt; &lt; br / &gt; two of the stars of the film are without a doubt the cutest we have ever seen - and the message is a good one with its ecoleanings . it must have been great to meet or read grey owl in the 1930s , a unique character and this is a fitting film tribute .'"
      ]
     },
     "execution_count": 47,
     "metadata": {},
     "output_type": "execute_result"
    }
   ],
   "source": [
    "idx_sentence = raw_data[0][0]\n",
    "word_sentence = [imdb_idx_to_word[word] for word in idx_sentence]\n",
    "' '.join(word_sentence)"
   ]
  }
 ],
 "metadata": {
  "kernelspec": {
   "display_name": "Python 2",
   "language": "python",
   "name": "python2"
  },
  "language_info": {
   "codemirror_mode": {
    "name": "ipython",
    "version": 2
   },
   "file_extension": ".py",
   "mimetype": "text/x-python",
   "name": "python",
   "nbconvert_exporter": "python",
   "pygments_lexer": "ipython2",
   "version": "2.7.6"
  }
 },
 "nbformat": 4,
 "nbformat_minor": 0
}
