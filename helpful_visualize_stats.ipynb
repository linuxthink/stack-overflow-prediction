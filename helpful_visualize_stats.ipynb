{
 "cells": [
  {
   "cell_type": "code",
   "execution_count": 2,
   "metadata": {
    "collapsed": false
   },
   "outputs": [],
   "source": [
    "from __future__ import print_function\n",
    "from collections import defaultdict\n",
    "import numpy as np\n",
    "import scipy as sp\n",
    "import cPickle as pickle\n",
    "import time\n",
    "import os\n",
    "\n",
    "data_root = os.path.expanduser(\"~\") + '/data/CSE255/'\n",
    "%matplotlib inline\n",
    "import matplotlib.pyplot as plt"
   ]
  },
  {
   "cell_type": "code",
   "execution_count": 10,
   "metadata": {
    "collapsed": false
   },
   "outputs": [
    {
     "name": "stdout",
     "output_type": "stream",
     "text": [
      "17.6460959911\n"
     ]
    }
   ],
   "source": [
    "start_time = time.time()\n",
    "all_data = pickle.load(open(data_root + \"all_data.pickle\", \"rb\"))\n",
    "print(time.time() - start_time)"
   ]
  },
  {
   "cell_type": "code",
   "execution_count": 3,
   "metadata": {
    "collapsed": false
   },
   "outputs": [],
   "source": [
    "all_size = len(all_data)\n",
    "train_size = 900000\n",
    "# train_size = all_size # uncomment this to produce test\n",
    "valid_size = 100000\n",
    "train_data = all_data[:train_size]\n",
    "valid_data = all_data[all_size - valid_size:]"
   ]
  },
  {
   "cell_type": "code",
   "execution_count": 4,
   "metadata": {
    "collapsed": true
   },
   "outputs": [],
   "source": [
    "train_helpfuls = np.array([d['helpful']['nHelpful'] for d in train_data])\n",
    "train_outofs =  np.array([d['helpful']['outOf'] for d in train_data])"
   ]
  },
  {
   "cell_type": "code",
   "execution_count": 18,
   "metadata": {
    "collapsed": true
   },
   "outputs": [],
   "source": [
    "# distribution of the ratios\n",
    "train_helpfuls_non_zero = train_helpfuls[train_outofs != 0].astype(float)\n",
    "train_outofs_non_zero = train_outofs[train_outofs != 0].astype(float)\n",
    "train_ratios_non_zero = train_helpfuls_non_zero / train_outofs_non_zero\n",
    "train_ratios_non_zero = train_ratios_non_zero[train_ratios_non_zero <= 1]"
   ]
  },
  {
   "cell_type": "code",
   "execution_count": 43,
   "metadata": {
    "collapsed": false
   },
   "outputs": [
    {
     "name": "stdout",
     "output_type": "stream",
     "text": [
      "0.168061829356\n",
      "0.831938170644\n"
     ]
    }
   ],
   "source": [
    "print(len(train_ratios_non_zero[train_ratios_non_zero < 0.5]) / float(len(train_ratios_non_zero)))\n",
    "print(len(train_ratios_non_zero[train_ratios_non_zero >= 0.5]) / float(len(train_ratios_non_zero)))"
   ]
  },
  {
   "cell_type": "code",
   "execution_count": 41,
   "metadata": {
    "collapsed": false
   },
   "outputs": [
    {
     "data": {
      "text/plain": [
       "(array([  50831.,     462.,    1121.,    1176.,    2111.,    4712.,\n",
       "          11127.,    1574.,    5745.,    1207.,   49536.,    4267.,\n",
       "          10265.,   28394.,    7588.,   21414.,   20042.,   13194.,\n",
       "          11463.,  230179.]),\n",
       " array([ 0.  ,  0.05,  0.1 ,  0.15,  0.2 ,  0.25,  0.3 ,  0.35,  0.4 ,\n",
       "         0.45,  0.5 ,  0.55,  0.6 ,  0.65,  0.7 ,  0.75,  0.8 ,  0.85,\n",
       "         0.9 ,  0.95,  1.  ]),\n",
       " <a list of 20 Patch objects>)"
      ]
     },
     "execution_count": 41,
     "metadata": {},
     "output_type": "execute_result"
    },
    {
     "data": {
      "image/png": "[encoded data removed]",
      "text/plain": [
       "<matplotlib.figure.Figure at 0x7f9174279e90>"
      ]
     },
     "metadata": {},
     "output_type": "display_data"
    }
   ],
   "source": [
    "plt.hist(train_ratios_non_zero, bins=20)"
   ]
  },
  {
   "cell_type": "code",
   "execution_count": 37,
   "metadata": {
    "collapsed": false
   },
   "outputs": [
    {
     "data": {
      "text/plain": [
       "2"
      ]
     },
     "execution_count": 37,
     "metadata": {},
     "output_type": "execute_result"
    }
   ],
   "source": [
    "# what are the outofs if helpfuls == 0?\n",
    "def count_occurance(the_list, key):\n",
    "    is_equals = [l == key for l in the_list]\n",
    "    return np.sum(is_equals)\n",
    "\n",
    "train_helpfuls_non_zero = train_helpfuls[train_outofs != 0].astype(float)\n",
    "train_outofs_non_zero = train_outofs[train_outofs != 0].astype(float)\n",
    "\n",
    "count_occurance(train_outofs_non_zero[train_helpfuls_non_zero == 0], 1)\n",
    "count_occurance(train_outofs_non_zero[train_helpfuls_non_zero == 0], 2)\n",
    "count_occurance(train_outofs_non_zero[train_helpfuls_non_zero == 0], 3)\n",
    "count_occurance(train_outofs_non_zero[train_helpfuls_non_zero == 0], 4)\n",
    "count_occurance(train_outofs_non_zero[train_helpfuls_non_zero == 0], 5)\n",
    "count_occurance(train_outofs_non_zero[train_helpfuls_non_zero == 0], 6)\n",
    "count_occurance(train_outofs_non_zero[train_helpfuls_non_zero == 0], 7)\n",
    "count_occurance(train_outofs_non_zero[train_helpfuls_non_zero == 0], 30)"
   ]
  },
  {
   "cell_type": "code",
   "execution_count": 5,
   "metadata": {
    "collapsed": false
   },
   "outputs": [],
   "source": [
    "outofs = sorted(list(set(train_outofs)))\n",
    "outofs = outofs[1:]\n",
    "outofs = np.array(outofs)\n",
    "\n",
    "mean_helpfuls = [np.mean(train_helpfuls[train_outofs == outof]) for outof in outofs]\n",
    "mean_helpfuls = np.array(mean_helpfuls)\n",
    "\n",
    "# stats\n",
    "ratios = mean_helpfuls / outofs\n",
    "outofs_counts = np.array([(train_helpfuls[train_outofs == outof]).shape[0] for outof in outofs])"
   ]
  },
  {
   "cell_type": "code",
   "execution_count": 100,
   "metadata": {
    "collapsed": false
   },
   "outputs": [
    {
     "data": {
      "text/plain": [
       "[<matplotlib.lines.Line2D at 0x7f0ff4ea1d10>]"
      ]
     },
     "execution_count": 100,
     "metadata": {},
     "output_type": "execute_result"
    },
    {
     "data": {
      "image/png": "[encoded data removed]",
      "text/plain": [
       "<matplotlib.figure.Figure at 0x7f0fcbf2d1d0>"
      ]
     },
     "metadata": {},
     "output_type": "display_data"
    }
   ],
   "source": [
    "plt.plot(outofs[outofs < 50], outofs_counts[outofs < 50])"
   ]
  },
  {
   "cell_type": "code",
   "execution_count": 6,
   "metadata": {
    "collapsed": false
   },
   "outputs": [
    {
     "data": {
      "text/plain": [
       "[<matplotlib.lines.Line2D at 0x7ff475c7a890>]"
      ]
     },
     "execution_count": 6,
     "metadata": {},
     "output_type": "execute_result"
    },
    {
     "data": {
      "image/png": "[encoded data removed]",
      "text/plain": [
       "<matplotlib.figure.Figure at 0x7ff453db7e90>"
      ]
     },
     "metadata": {},
     "output_type": "display_data"
    }
   ],
   "source": [
    "plt.plot(outofs[outofs < 500], mean_helpfuls[outofs < 500])"
   ]
  },
  {
   "cell_type": "code",
   "execution_count": 8,
   "metadata": {
    "collapsed": false
   },
   "outputs": [
    {
     "data": {
      "text/plain": [
       "[<matplotlib.lines.Line2D at 0x7ff475b34510>]"
      ]
     },
     "execution_count": 8,
     "metadata": {},
     "output_type": "execute_result"
    },
    {
     "data": {
      "image/png": "[encoded data removed]",
      "text/plain": [
       "<matplotlib.figure.Figure at 0x7ff475ba42d0>"
      ]
     },
     "metadata": {},
     "output_type": "display_data"
    }
   ],
   "source": [
    "plt.plot(outofs[outofs < 100], ratios[outofs < 100])"
   ]
  },
  {
   "cell_type": "code",
   "execution_count": 104,
   "metadata": {
    "collapsed": false
   },
   "outputs": [
    {
     "data": {
      "text/plain": [
       "[<matplotlib.lines.Line2D at 0x7f0ff4c30310>]"
      ]
     },
     "execution_count": 104,
     "metadata": {},
     "output_type": "execute_result"
    },
    {
     "data": {
      "image/png": "[encoded data removed]",
      "text/plain": [
       "<matplotlib.figure.Figure at 0x7f0faae3b110>"
      ]
     },
     "metadata": {},
     "output_type": "display_data"
    }
   ],
   "source": [
    "plt.plot(outofs[outofs < 2000], ratios[outofs < 2000])"
   ]
  },
  {
   "cell_type": "code",
   "execution_count": 105,
   "metadata": {
    "collapsed": false
   },
   "outputs": [
    {
     "data": {
      "text/plain": [
       "[<matplotlib.lines.Line2D at 0x7f0fab0c5cd0>]"
      ]
     },
     "execution_count": 105,
     "metadata": {},
     "output_type": "execute_result"
    },
    {
     "data": {
      "image/png": "[encoded data removed]",
      "text/plain": [
       "<matplotlib.figure.Figure at 0x7f0faadc6dd0>"
      ]
     },
     "metadata": {},
     "output_type": "display_data"
    }
   ],
   "source": [
    "plt.plot(outofs[outofs < 2000], mean_helpfuls[outofs < 2000])"
   ]
  },
  {
   "cell_type": "code",
   "execution_count": 110,
   "metadata": {
    "collapsed": false
   },
   "outputs": [
    {
     "data": {
      "text/plain": [
       "array([   1,    2,    3,    4,    5,    6,    7,    8,    9,   10,   11,\n",
       "         12,   13,   14,   15,   16,   17,   18,   19,   20,   21,   22,\n",
       "         23,   24,   25,   26,   27,   28,   29,   30,   31,   32,   33,\n",
       "         34,   35,   36,   37,   38,   39,   40,   41,   42,   43,   44,\n",
       "         45,   46,   47,   48,   49,   50,   51,   52,   53,   54,   55,\n",
       "         56,   57,   58,   59,   60,   61,   62,   63,   64,   65,   66,\n",
       "         67,   68,   69,   70,   71,   72,   73,   74,   75,   76,   77,\n",
       "         78,   79,   80,   81,   82,   83,   84,   85,   86,   87,   88,\n",
       "         89,   90,   91,   92,   93,   94,   95,   96,   97,   98,   99,\n",
       "        100,  101,  102,  103,  104,  105,  106,  107,  108,  109,  110,\n",
       "        111,  112,  113,  114,  115,  116,  117,  118,  119,  120,  121,\n",
       "        122,  123,  124,  125,  126,  127,  128,  129,  130,  131,  132,\n",
       "        133,  134,  135,  136,  137,  138,  139,  140,  141,  142,  143,\n",
       "        144,  145,  146,  147,  148,  149,  150,  151,  152,  153,  154,\n",
       "        155,  156,  157,  158,  159,  160,  161,  162,  163,  164,  165,\n",
       "        166,  167,  168,  169,  170,  171,  172,  173,  174,  175,  176,\n",
       "        177,  178,  179,  180,  181,  182,  183,  184,  185,  186,  187,\n",
       "        188,  189,  190,  191,  192,  193,  194,  195,  196,  197,  198,\n",
       "        199,  200,  201,  202,  203,  204,  205,  206,  207,  208,  209,\n",
       "        210,  211,  212,  213,  214,  215,  216,  217,  218,  219,  220,\n",
       "        221,  222,  223,  224,  225,  226,  227,  228,  229,  230,  231,\n",
       "        232,  233,  234,  235,  236,  237,  238,  239,  240,  241,  242,\n",
       "        243,  244,  245,  246,  247,  248,  249,  250,  251,  252,  253,\n",
       "        254,  255,  256,  257,  258,  259,  260,  261,  262,  263,  264,\n",
       "        265,  266,  267,  268,  269,  270,  271,  272,  273,  274,  275,\n",
       "        276,  277,  278,  279,  280,  281,  282,  283,  284,  285,  286,\n",
       "        287,  288,  289,  290,  291,  292,  293,  294,  295,  296,  297,\n",
       "        298,  299,  300,  301,  302,  303,  304,  305,  306,  307,  308,\n",
       "        309,  310,  311,  312,  313,  314,  315,  316,  317,  318,  319,\n",
       "        320,  321,  322,  324,  325,  326,  327,  328,  329,  330,  331,\n",
       "        333,  334,  335,  336,  337,  338,  339,  340,  341,  342,  343,\n",
       "        344,  345,  346,  347,  348,  349,  350,  351,  352,  353,  354,\n",
       "        355,  356,  357,  358,  359,  360,  361,  362,  363,  364,  365,\n",
       "        366,  367,  368,  369,  370,  371,  372,  373,  374,  375,  376,\n",
       "        378,  380,  381,  383,  384,  385,  386,  387,  388,  389,  390,\n",
       "        391,  392,  394,  398,  399,  400,  402,  403,  404,  405,  406,\n",
       "        407,  408,  409,  410,  414,  415,  416,  417,  419,  420,  421,\n",
       "        422,  423,  424,  425,  426,  428,  429,  431,  432,  436,  437,\n",
       "        438,  440,  441,  442,  443,  444,  445,  446,  448,  450,  451,\n",
       "        453,  454,  455,  456,  457,  458,  459,  462,  463,  464,  465,\n",
       "        466,  469,  470,  472,  473,  474,  475,  476,  477,  478,  479,\n",
       "        480,  481,  482,  483,  484,  485,  486,  487,  490,  491,  492,\n",
       "        493,  494,  495,  498,  499,  500,  501,  502,  503,  505,  506,\n",
       "        507,  510,  511,  512,  514,  516,  517,  519,  521,  522,  523,\n",
       "        525,  526,  527,  530,  534,  537,  539,  540,  542,  544,  545,\n",
       "        546,  547,  550,  551,  553,  556,  557,  558,  560,  561,  562,\n",
       "        563,  564,  565,  566,  568,  569,  570,  571,  573,  574,  575,\n",
       "        578,  582,  583,  584,  585,  586,  589,  590,  592,  595,  596,\n",
       "        597,  598,  599,  600,  601,  603,  605,  610,  615,  617,  622,\n",
       "        624,  628,  629,  630,  631,  632,  634,  638,  639,  641,  642,\n",
       "        648,  650,  652,  655,  664,  665,  668,  670,  672,  673,  675,\n",
       "        676,  677,  679,  680,  683,  684,  689,  690,  699,  700,  703,\n",
       "        707,  709,  710,  715,  717,  719,  723,  727,  736,  741,  745,\n",
       "        751,  754,  760,  762,  763,  766,  767,  770,  771,  775,  783,\n",
       "        784,  785,  792,  795,  798,  804,  812,  816,  820,  823,  826,\n",
       "        828,  830,  838,  841,  845,  846,  849,  853,  859,  861,  867,\n",
       "        869,  873,  880,  883,  886,  888,  898,  904,  913,  914,  918,\n",
       "        925,  926,  927,  932,  933,  941,  950,  951,  952,  956,  966,\n",
       "        967,  968,  980,  982,  985,  993,  999, 1000, 1007, 1008, 1012,\n",
       "       1021, 1028, 1048, 1054, 1055, 1056, 1059, 1066, 1089, 1093, 1100,\n",
       "       1108, 1137, 1153, 1165, 1170, 1171, 1173, 1175, 1176, 1200, 1252,\n",
       "       1263, 1277, 1279, 1293, 1319, 1338, 1377, 1392, 1399, 1415, 1419,\n",
       "       1423, 1428, 1454, 1455, 1458, 1462, 1467, 1519, 1548, 1549, 1597,\n",
       "       1624, 1698, 1805, 1845, 1964])"
      ]
     },
     "execution_count": 110,
     "metadata": {},
     "output_type": "execute_result"
    }
   ],
   "source": [
    "def get_occur_stats(valid_data, users_ratio, items_ratio):\n",
    "    stats = dict()\n",
    "    stats['in_user_in_item'] = 0\n",
    "    stats['in_user_not_in_item'] = 0\n",
    "    stats['not_in_user_in_item'] = 0\n",
    "    stats['not_in_user_not_in_item'] = 0\n",
    "    \n",
    "    for d in valid_data:\n",
    "        user_id = d['reviewerID']\n",
    "        item_id = d['itemID']\n",
    "\n",
    "        if (user_id in users_ratio) and (item_id in items_ratio):\n",
    "            stats['in_user_in_item'] += 1\n",
    "        elif (user_id in users_ratio) and (item_id not in items_ratio):\n",
    "            stats['in_user_not_in_item'] += 1\n",
    "        elif (user_id not in users_ratio) and (item_id in items_ratio):\n",
    "            stats['not_in_user_in_item'] += 1\n",
    "        else:\n",
    "            stats['not_in_user_not_in_item']\n",
    "    return stats"
   ]
  },
  {
   "cell_type": "code",
   "execution_count": 114,
   "metadata": {
    "collapsed": false
   },
   "outputs": [
    {
     "data": {
      "text/plain": [
       "array([ 0.26371191])"
      ]
     },
     "execution_count": 114,
     "metadata": {},
     "output_type": "execute_result"
    }
   ],
   "source": [
    "ratios[outofs == 1805]"
   ]
  },
  {
   "cell_type": "code",
   "execution_count": 115,
   "metadata": {
    "collapsed": true
   },
   "outputs": [],
   "source": [
    "for d in train_data:\n",
    "    if int(d['helpful']['outOf']) == 1805:\n",
    "        break"
   ]
  },
  {
   "cell_type": "code",
   "execution_count": 122,
   "metadata": {
    "collapsed": false
   },
   "outputs": [],
   "source": [
    "bad_collect = []\n",
    "for d in train_data:\n",
    "    if d['reviewerID'] == 'U690082877':\n",
    "        bad_collect.append(d)"
   ]
  },
  {
   "cell_type": "code",
   "execution_count": 127,
   "metadata": {
    "collapsed": false
   },
   "outputs": [],
   "source": [
    "bad_outofs = [d['helpful']['outOf'] for d in bad_collect]\n",
    "bad_helpfuls = [d['helpful']['nHelpful'] for d in bad_collect]"
   ]
  },
  {
   "cell_type": "code",
   "execution_count": 132,
   "metadata": {
    "collapsed": false
   },
   "outputs": [
    {
     "name": "stdout",
     "output_type": "stream",
     "text": [
      "[(7, 4), (12, 10), (43, 25), (43, 25), (39, 26), (97, 88), (5, 3), (276, 238), (4, 2), (86, 81), (1, 1), (31, 21), (17, 13), (66, 56), (5, 4), (8, 7), (17, 17), (1, 1), (21, 20), (3, 3), (5, 3), (4, 4), (1, 1), (11, 11), (4, 3), (171, 121), (5, 5), (44, 22), (40, 32), (6, 6), (37, 22), (2, 2), (5, 5), (1, 1), (7, 6), (7, 6), (7, 6), (29, 13), (5, 4), (44, 36), (16, 10), (9, 7), (10, 9), (4, 4), (22, 20), (26, 14), (148, 140), (3, 1), (10, 9), (13, 11), (32, 29), (14, 12), (9, 4), (12, 9), (1805, 476), (4, 3), (51, 28), (3, 2), (50, 37), (0, 0), (61, 44), (3, 2), (525, 451), (6, 6), (1, 1), (28, 17), (21, 13), (8, 5), (6, 6), (14, 9), (186, 66), (487, 425), (6, 3), (18, 12), (66, 63), (52, 28), (79, 49), (15, 14), (8, 8), (17, 11), (3, 3), (4, 2), (157, 150), (3, 2), (771, 646), (5, 5), (29, 20), (90, 87), (4, 4), (173, 110), (9, 5)]\n"
     ]
    }
   ],
   "source": [
    "print(zip(bad_outofs, bad_helpfuls))"
   ]
  },
  {
   "cell_type": "code",
   "execution_count": 125,
   "metadata": {
    "collapsed": false
   },
   "outputs": [
    {
     "data": {
      "text/plain": [
       "'U690082877'"
      ]
     },
     "execution_count": 125,
     "metadata": {},
     "output_type": "execute_result"
    }
   ],
   "source": []
  },
  {
   "cell_type": "code",
   "execution_count": 133,
   "metadata": {
    "collapsed": false
   },
   "outputs": [
    {
     "name": "stdout",
     "output_type": "stream",
     "text": [
      "[   1    2    3    4    5    6    7    8    9   10   11   12   13   14   15\n",
      "   16   17   18   19   20   21   22   23   24   25   26   27   28   29   30\n",
      "   31   32   33   34   35   36   37   38   39   40   41   42   43   44   45\n",
      "   46   47   48   49   50   51   52   53   54   55   56   57   58   59   60\n",
      "   61   62   63   64   65   66   67   68   69   70   71   72   73   74   75\n",
      "   76   77   78   79   80   81   82   83   84   85   86   87   88   89   90\n",
      "   91   92   93   94   95   96   97   98   99  100  101  104  105  106  107\n",
      "  108  109  111  112  114  116  117  118  119  120  121  122  123  124  125\n",
      "  126  127  128  129  130  131  132  133  134  135  136  137  139  140  141\n",
      "  142  143  144  146  147  148  149  151  153  154  155  156  157  158  160\n",
      "  161  163  164  165  166  168  170  171  174  175  177  178  179  186  187\n",
      "  188  189  191  192  195  197  200  201  202  203  204  206  209  210  212\n",
      "  214  218  221  222  224  227  230  238  239  241  244  246  248  255  259\n",
      "  269  272  274  276  280  281  291  294  298  308  310  311  316  320  329\n",
      "  333  338  340  344  354  363  375  378  385  398  412  439  452  456  459\n",
      "  497  523  525  527  545  618  648  672  724  789  866 1060 1336 1660 2386]\n"
     ]
    }
   ],
   "source": [
    "# the max outof in test set is 2386\n",
    "\n",
    "test_data = pickle.load(open(data_root + \"helpful_data.pickle\", \"rb\"))\n",
    "\n",
    "outofs =  np.array([d['helpful']['outOf'] for d in test_data])\n",
    "\n",
    "outofs = sorted(list(set(outofs)))\n",
    "outofs = outofs[1:]\n",
    "outofs = np.array(outofs)\n",
    "\n",
    "outofs_counts = np.array([(train_helpfuls[train_outofs == outof]).shape[0] for outof in outofs])\n",
    "\n",
    "print(outofs)"
   ]
  },
  {
   "cell_type": "code",
   "execution_count": 137,
   "metadata": {
    "collapsed": false
   },
   "outputs": [],
   "source": [
    "for d in test_data:\n",
    "    if d['reviewerID'] == 'U690082877':\n",
    "        break"
   ]
  },
  {
   "cell_type": "code",
   "execution_count": 3,
   "metadata": {
    "collapsed": false
   },
   "outputs": [],
   "source": [
    "test_data = pickle.load(open(data_root + \"helpful_data.pickle\", \"rb\"))"
   ]
  },
  {
   "cell_type": "code",
   "execution_count": null,
   "metadata": {
    "collapsed": true
   },
   "outputs": [],
   "source": []
  },
  {
   "cell_type": "code",
   "execution_count": 12,
   "metadata": {
    "collapsed": false
   },
   "outputs": [
    {
     "data": {
      "text/plain": [
       "42"
      ]
     },
     "execution_count": 12,
     "metadata": {},
     "output_type": "execute_result"
    }
   ],
   "source": [
    "a = np.array([len(d['reviewText']) for d in all_data])\n",
    "len(a[a == 0])"
   ]
  },
  {
   "cell_type": "code",
   "execution_count": 108,
   "metadata": {
    "collapsed": false
   },
   "outputs": [],
   "source": [
    "# outofs =  np.array([d['helpful']['outOf'] for d in valid_data])\n",
    "\n",
    "# outofs = sorted(list(set(outofs)))\n",
    "# outofs = outofs[1:]\n",
    "# outofs = np.array(outofs)\n",
    "\n",
    "# outofs_counts = np.array([(train_helpfuls[train_outofs == outof]).shape[0] for outof in outofs])\n",
    "\n",
    "# print(outofs)"
   ]
  }
 ],
 "metadata": {
  "kernelspec": {
   "display_name": "Python 2",
   "language": "python",
   "name": "python2"
  },
  "language_info": {
   "codemirror_mode": {
    "name": "ipython",
    "version": 2
   },
   "file_extension": ".py",
   "mimetype": "text/x-python",
   "name": "python",
   "nbconvert_exporter": "python",
   "pygments_lexer": "ipython2",
   "version": "2.7.6"
  }
 },
 "nbformat": 4,
 "nbformat_minor": 0
}
