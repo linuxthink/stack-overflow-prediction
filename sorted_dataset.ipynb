{
 "cells": [
  {
   "cell_type": "code",
   "execution_count": 1,
   "metadata": {
    "collapsed": false
   },
   "outputs": [],
   "source": [
    "from __future__ import print_function\n",
    "from pprint import pprint\n",
    "import os\n",
    "import csv\n",
    "import cPickle as pickle\n",
    "from dateutil import parser as dateparser\n",
    "import datetime, time\n",
    "\n",
    "import numpy as np\n",
    "import scipy as sp\n",
    "\n",
    "from feature_label_builder import FeatureLabelBuilder, get_feature_keys\n",
    "from feature_label_builder import data_path, full_path"
   ]
  },
  {
   "cell_type": "code",
   "execution_count": 2,
   "metadata": {
    "collapsed": true
   },
   "outputs": [],
   "source": [
    "# reader = csv.DictReader(open(os.path.join(data_path, 'train_October_9_2012.csv')))\n",
    "# post_times = [int(time.mktime(dateparser.parse(datum['PostCreationDate']).timetuple()))\n",
    "#               for datum in reader]\n",
    "# post_times = np.array(post_times)\n",
    "# pickle.dump(post_times, open(full_path(\"post_times.p\"), \"wb\"),\n",
    "#             protocol=pickle.HIGHEST_PROTOCOL)\n",
    "post_times = np.array(pickle.load(open(full_path(\"post_times.p\"), \"rb\")))\n",
    "sort_arg = np.argsort(post_times)"
   ]
  },
  {
   "cell_type": "code",
   "execution_count": 3,
   "metadata": {
    "collapsed": false
   },
   "outputs": [
    {
     "name": "stdout",
     "output_type": "stream",
     "text": [
      "False\n",
      "True\n"
     ]
    }
   ],
   "source": [
    "def is_sorted(l):\n",
    "    return all(l[i] <= l[i+1] for i in xrange(len(l)-1))\n",
    "\n",
    "print(is_sorted(post_times))\n",
    "print(is_sorted(post_times[sort_arg]))"
   ]
  },
  {
   "cell_type": "code",
   "execution_count": 4,
   "metadata": {
    "collapsed": false
   },
   "outputs": [],
   "source": [
    "(train_xs, train_ys) = pickle.load(open(full_path(\"train_xs_ys_np.p\"), \"rb\"))\n",
    "train_xs = train_xs[sort_arg]\n",
    "train_ys = train_ys[sort_arg]\n",
    "pickle.dump((train_xs, train_ys), open(full_path(\"train_xs_ys_np_sorted.p\"), \"wb\"),\n",
    "            protocol=pickle.HIGHEST_PROTOCOL)"
   ]
  }
 ],
 "metadata": {
  "kernelspec": {
   "display_name": "Python 2",
   "language": "python",
   "name": "python2"
  },
  "language_info": {
   "codemirror_mode": {
    "name": "ipython",
    "version": 2
   },
   "file_extension": ".py",
   "mimetype": "text/x-python",
   "name": "python",
   "nbconvert_exporter": "python",
   "pygments_lexer": "ipython2",
   "version": "2.7.6"
  }
 },
 "nbformat": 4,
 "nbformat_minor": 0
}
