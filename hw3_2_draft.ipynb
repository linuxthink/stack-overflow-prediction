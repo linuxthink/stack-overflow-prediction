{
 "cells": [
  {
   "cell_type": "code",
   "execution_count": null,
   "metadata": {
    "collapsed": true
   },
   "outputs": [],
   "source": [
    "from collections import defaultdict\n",
    "import numpy as np\n",
    "import scipy as sp\n",
    "import cPickle as pickle\n",
    "import time\n",
    "from __future__ import print_function\n",
    "from collections import defaultdict\n",
    "\n",
    "data_root = '/home/linuxthink/data/CSE255/'"
   ]
  },
  {
   "cell_type": "code",
   "execution_count": null,
   "metadata": {
    "collapsed": false
   },
   "outputs": [],
   "source": [
    "start_time = time.time()\n",
    "all_data = pickle.load(open(data_root + \"all_data.pickle\", \"rb\"))\n",
    "print(time.time() - start_time)"
   ]
  },
  {
   "cell_type": "code",
   "execution_count": null,
   "metadata": {
    "collapsed": true
   },
   "outputs": [],
   "source": [
    "num_all = len(all_data)\n",
    "num_train = 900000\n",
    "num_valid = 100000\n",
    "assert num_train + num_valid == num_all"
   ]
  },
  {
   "cell_type": "code",
   "execution_count": null,
   "metadata": {
    "collapsed": false
   },
   "outputs": [],
   "source": [
    "train_data = all_data[:num_train]\n",
    "valid_data = all_data[num_train:]"
   ]
  },
  {
   "cell_type": "code",
   "execution_count": null,
   "metadata": {
    "collapsed": false
   },
   "outputs": [],
   "source": [
    "datum = train_data[0]\n",
    "print(datum)"
   ]
  },
  {
   "cell_type": "code",
   "execution_count": null,
   "metadata": {
    "collapsed": false
   },
   "outputs": [],
   "source": [
    "# 2.1 (version 0) average predictor: using raw data\n",
    "# rating(user, item) = alpha\n",
    "\n",
    "# get averaged rating\n",
    "train_ratings = np.array([d['rating'] for d in train_data]).astype(float)\n",
    "alpha = np.mean(train_ratings)\n",
    "print(train_ratings.shape)\n",
    "print('alpha', alpha)\n",
    "\n",
    "# calculate mse\n",
    "valid_ratings = np.array([d['rating'] for d in valid_data]).astype(float)\n",
    "print(valid_ratings.shape)\n",
    "valid_mse = (1. / num_valid) * np.sum((valid_ratings - alpha) ** 2.0)\n",
    "print('valid_mse', valid_mse)"
   ]
  },
  {
   "cell_type": "code",
   "execution_count": null,
   "metadata": {
    "collapsed": true
   },
   "outputs": [],
   "source": [
    "# version without mapping user_id to user_index\n",
    "# use strings all the time\n",
    "\n",
    "# get all items and users\n",
    "item_ids = sorted(list(set([d['itemID'] for d in all_data])))\n",
    "user_ids = sorted(list(set([d['reviewerID'] for d in all_data])))\n",
    "\n",
    "# build array [user_index, item_index, rating]\n",
    "train_rating_list = [[d['reviewerID'], \n",
    "                      d['itemID'], \n",
    "                      d['rating']] for d in train_data]\n",
    "\n",
    "# build array [user_index, item_index, rating]\n",
    "valid_rating_list = [[d['reviewerID'], \n",
    "                      d['itemID'], \n",
    "                      d['rating']] for d in valid_data]"
   ]
  },
  {
   "cell_type": "code",
   "execution_count": null,
   "metadata": {
    "collapsed": false
   },
   "outputs": [],
   "source": [
    "# 2.1 (version 1) average predictor: using stringly list\n",
    "# get averaged rating\n",
    "ratings = np.array([d[2] for d in train_rating_list])\n",
    "alpha = np.mean(ratings)\n",
    "print('alpha', alpha)\n",
    "\n",
    "# calculate mse\n",
    "valid_ratings = np.array([d[2] for d in valid_rating_list])\n",
    "valid_mse = (1. / num_valid) * np.sum((valid_ratings - alpha) ** 2.0)\n",
    "print('valid_mse', valid_mse)"
   ]
  },
  {
   "cell_type": "code",
   "execution_count": null,
   "metadata": {
    "collapsed": true
   },
   "outputs": [],
   "source": [
    "# map all user_id <-> user_index; item_id <-> item_index\n",
    "\n",
    "# get all items and users\n",
    "item_ids = sorted(list(set([d['itemID'] for d in all_data])))\n",
    "user_ids = sorted(list(set([d['reviewerID'] for d in all_data])))\n",
    "\n",
    "# user and item numbers\n",
    "num_items = len(item_ids)\n",
    "num_users = len(user_ids)\n",
    "\n",
    "# build id <-> index map\n",
    "item_id_map_index = dict()\n",
    "item_index_map_id = dict()\n",
    "for index, item_id in enumerate(item_ids):\n",
    "    item_id_map_index[item_id] = index\n",
    "    item_index_map_id[index] = item_id\n",
    "    \n",
    "user_id_map_index = dict()\n",
    "user_index_map_id = dict()\n",
    "for index, user_id in enumerate(user_ids):\n",
    "    user_id_map_index[user_id] = index\n",
    "    user_index_map_id[index] = user_id\n",
    "\n",
    "# build array [user_index, item_index, rating]\n",
    "train_rating_array = []\n",
    "for d in train_data:\n",
    "    user_index = user_id_map_index[d['reviewerID']]\n",
    "    item_index = item_id_map_index[d['itemID']]\n",
    "    rating = d['rating']\n",
    "    train_rating_array.append([user_index, item_index, rating])\n",
    "train_rating_array = np.array(train_rating_array).astype(int)\n",
    "\n",
    "# build array [user_index, item_index, rating]\n",
    "valid_rating_array = []\n",
    "for d in valid_data:\n",
    "    user_index = user_id_map_index[d['reviewerID']]\n",
    "    item_index = item_id_map_index[d['itemID']]\n",
    "    rating = d['rating']\n",
    "    valid_rating_array.append([user_index, item_index, rating])\n",
    "valid_rating_array = np.array(valid_rating_array).astype(int)"
   ]
  },
  {
   "cell_type": "code",
   "execution_count": null,
   "metadata": {
    "collapsed": false
   },
   "outputs": [],
   "source": [
    "# 2.1 (version 2) average predictor (using index based sorted list)\n",
    "# get averaged rating\n",
    "alpha = np.mean(train_rating_array[:, 2])\n",
    "print('alpha', alpha)\n",
    "\n",
    "# calculate mse\n",
    "valid_ratings = valid_rating_array[:, 2]\n",
    "valid_mse = (1. / num_valid) * np.sum((valid_ratings - alpha) ** 2.0)\n",
    "print('valid_mse', valid_mse)"
   ]
  },
  {
   "cell_type": "code",
   "execution_count": null,
   "metadata": {
    "collapsed": true
   },
   "outputs": [],
   "source": [
    "# build Mapping of Ruis and Rius\n",
    "Ruis = defaultdict(dict)\n",
    "Rius = defaultdict(dict)\n",
    "# Iu = Ruis[user_index].keys() # [the set of items] reviewed by user u\n",
    "# Ui = Ruis[item_index].keys() # [the set of users] reviewed item i\n",
    "\n",
    "for t in train_rating_array:\n",
    "    user_index = t[0]\n",
    "    item_index = t[1]\n",
    "    rating = t[2]\n",
    "    Ruis[user_index][item_index] = rating\n",
    "    Rius[item_index][user_index] = rating"
   ]
  },
  {
   "cell_type": "code",
   "execution_count": null,
   "metadata": {
    "collapsed": false
   },
   "outputs": [],
   "source": [
    "alpha = 0.0\n",
    "beta_us = np.random.normal(0, 0.5, (num_users,))\n",
    "beta_is = np.random.normal(0, 0.5, (num_items,))\n",
    "lam = 1.0"
   ]
  },
  {
   "cell_type": "code",
   "execution_count": null,
   "metadata": {
    "collapsed": false
   },
   "outputs": [],
   "source": [
    "# 2.2 fit baseline model\n",
    "# rating(u, i) = alpha + beta_u + beta_i\n",
    "def get_valid_mse(lam, alpha, beta_us, beta_is, train_rating_array, valid_rating_array):\n",
    "    predicts = alpha + beta_us[valid_rating_array[:, 0]] + beta_is[valid_rating_array[:, 1]]\n",
    "    ratings = valid_rating_array[:, 2].astype(float)\n",
    "    return (1. / num_valid) * np.sum((predicts - ratings) ** 2.0)\n",
    "\n",
    "def get_cost(lam, alpha, beta_us, beta_is, train_rating_array):\n",
    "    predicts = alpha + beta_us[train_rating_array[:, 0]] + beta_is[train_rating_array[:, 1]]\n",
    "    ratings = train_rating_array[:, 2].astype(float)\n",
    "    return np.sum((predicts - ratings) ** 2.) + lam * (np.sum(beta_us ** 2.) + np.sum(beta_is ** 2.))\n",
    "    \n",
    "def alpha_update(lam, alpha, beta_us, beta_is, train_rating_array):\n",
    "    sum_Rui = np.sum(train_rating_array[:, 2])\n",
    "    sum_beta_u = np.sum(beta_us[train_rating_array[:, 0]]) # fancy indexing\n",
    "    sum_beta_i = np.sum(beta_is[train_rating_array[:, 1]]) # fancy indexing\n",
    "    return (sum_Rui - sum_beta_u - sum_beta_i) / num_train\n",
    "\n",
    "def beta_us_update(lam, alpha, beta_us, beta_is, train_rating_array):\n",
    "    new_beta_us = np.zeros_like(beta_us)\n",
    "    for user_index in xrange(num_users):\n",
    "        # [the set of items] reviewed by user u\n",
    "        Iu = Ruis[user_index].keys()\n",
    "        Iu_size = len(Iu)\n",
    "        # sums\n",
    "        sum_Rui = np.sum(Ruis[user_index].values())\n",
    "        sum_alpha = Iu_size * alpha\n",
    "        sum_beta_i = np.sum(beta_is[Iu])\n",
    "        # write result\n",
    "        new_beta_us[user_index] = float(sum_Rui - sum_alpha - sum_beta_i) / (lam + Iu_size)\n",
    "    return new_beta_us\n",
    "\n",
    "def beta_is_update(lam, alpha, beta_us, beta_is, train_rating_array):\n",
    "    new_beta_is = np.zeros_like(beta_is)\n",
    "    for item_index in xrange(num_items):\n",
    "        # [the set of users] reviewd item i\n",
    "        Ui = Rius[item_index].keys()\n",
    "        Ui_size = len(Ui)\n",
    "        # sums\n",
    "        sum_Rui = np.sum(Rius[item_index].values())\n",
    "        sum_alpha = Ui_size * alpha\n",
    "        sum_beta_u = np.sum(beta_us[Ui])\n",
    "        # write result\n",
    "        new_beta_is[item_index] = float(sum_Rui - sum_alpha - sum_beta_u) / (lam + Ui_size)\n",
    "    return new_beta_is"
   ]
  },
  {
   "cell_type": "code",
   "execution_count": null,
   "metadata": {
    "collapsed": false
   },
   "outputs": [],
   "source": [
    "# iterate update put lam = 1\n",
    "lam = 1.0\n",
    "max_iter = 30\n",
    "\n",
    "alpha = 0.0\n",
    "beta_us = np.random.normal(0, 0.5, (num_users,))\n",
    "beta_is = np.random.normal(0, 0.5, (num_items,))\n",
    "\n",
    "for i in xrange(max_iter):\n",
    "    alpha = alpha_update(lam, alpha, beta_us, beta_is, train_rating_array)\n",
    "    beta_us = beta_us_update(lam, alpha, beta_us, beta_is, train_rating_array)\n",
    "    beta_is = beta_is_update(lam, alpha, beta_us, beta_is, train_rating_array)\n",
    "    \n",
    "print(get_cost(lam, alpha, beta_us, beta_is, train_rating_array))\n",
    "print(get_valid_mse(lam, alpha, beta_us, beta_is, train_rating_array, valid_rating_array))"
   ]
  },
  {
   "cell_type": "code",
   "execution_count": null,
   "metadata": {
    "collapsed": false
   },
   "outputs": [],
   "source": [
    "# 2.3 report the user and item id that have the largest and smallest values of beta\n",
    "print('user, largest', user_index_map_id[np.argmax(beta_us)])\n",
    "print('user, smallest', user_index_map_id[np.argmin(beta_us)])\n",
    "\n",
    "print('item, largest', item_index_map_id[np.argmax(beta_is)])\n",
    "print('item, smallest', item_index_map_id[np.argmin(beta_is)])"
   ]
  },
  {
   "cell_type": "code",
   "execution_count": null,
   "metadata": {
    "collapsed": false
   },
   "outputs": [],
   "source": [
    "# 2.4 search for the best lam\n",
    "def train_and_eval(lam, max_iter):\n",
    "    alpha = 0.0\n",
    "    beta_us = np.random.normal(0, 0.5, (num_users,))\n",
    "    beta_is = np.random.normal(0, 0.5, (num_items,))\n",
    "\n",
    "    for i in xrange(max_iter):\n",
    "        alpha = alpha_update(lam, alpha, beta_us, beta_is, train_rating_array)\n",
    "        beta_us = beta_us_update(lam, alpha, beta_us, beta_is, train_rating_array)\n",
    "        beta_is = beta_is_update(lam, alpha, beta_us, beta_is, train_rating_array)\n",
    "    \n",
    "    cost = get_cost(lam, alpha, beta_us, beta_is, train_rating_array)\n",
    "    mse = get_valid_mse(lam, alpha, beta_us, beta_is, train_rating_array, valid_rating_array)\n",
    "    return(cost, mse, alpha, beta_us, beta_is)"
   ]
  },
  {
   "cell_type": "code",
   "execution_count": null,
   "metadata": {
    "collapsed": true
   },
   "outputs": [],
   "source": [
    "lams = [0.001, 0.01, 0.1, 1.0, 10, 100]\n",
    "max_iter = 5\n",
    "\n",
    "results = []\n",
    "for lam in lams:\n",
    "    cost, mse, _, _, _ = train_and_eval(lam, max_iter)\n",
    "    print(lam, cost, mse)\n",
    "    results.append([lam, cost, mse])"
   ]
  },
  {
   "cell_type": "code",
   "execution_count": null,
   "metadata": {
    "collapsed": false
   },
   "outputs": [],
   "source": [
    "# 2.4 do the test set\n",
    "lam = 1.0\n",
    "max_iter = 30\n",
    "cost, mse, alpha, beta_us, beta_is = train_and_eval(lam, max_iter)"
   ]
  },
  {
   "cell_type": "code",
   "execution_count": null,
   "metadata": {
    "collapsed": true
   },
   "outputs": [],
   "source": [
    "# get header_str and user_item_ids to predict\n",
    "with open('pairs_Rating.txt') as f:\n",
    "    # read and strip lines\n",
    "    lines = [l.strip() for l in f.readlines()]\n",
    "    \n",
    "    # stirip out the headers\n",
    "    header_str = lines.pop(0)\n",
    "    \n",
    "    # get a list of user_item_ids\n",
    "    user_item_ids = [l.split('-') for l in lines]\n",
    "    \n",
    "# write to output file\n",
    "f = open('predictions_Rating.txt', 'w')\n",
    "print(header_str, file=f)\n",
    "\n",
    "for user_id, item_id in user_item_ids:\n",
    "    rating = alpha + beta_us[user_id_map_index[user_id]] + beta_is[item_id_map_index[item_id]]\n",
    "    rating = min(5.0, rating)\n",
    "    rating = max(0.0, rating)\n",
    "    print('%s-%s,%s' % (user_id, item_id, rating), file=f)\n",
    "f.close()"
   ]
  }
 ],
 "metadata": {
  "kernelspec": {
   "display_name": "Python 2",
   "language": "python",
   "name": "python2"
  },
  "language_info": {
   "codemirror_mode": {
    "name": "ipython",
    "version": 2
   },
   "file_extension": ".py",
   "mimetype": "text/x-python",
   "name": "python",
   "nbconvert_exporter": "python",
   "pygments_lexer": "ipython2",
   "version": "2.7.6"
  }
 },
 "nbformat": 4,
 "nbformat_minor": 0
}
