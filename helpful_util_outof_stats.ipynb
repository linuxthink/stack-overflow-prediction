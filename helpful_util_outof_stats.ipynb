{
 "cells": [
  {
   "cell_type": "code",
   "execution_count": 95,
   "metadata": {
    "collapsed": false
   },
   "outputs": [],
   "source": [
    "from __future__ import print_function\n",
    "from collections import defaultdict\n",
    "import numpy as np\n",
    "import scipy as sp\n",
    "import cPickle as pickle\n",
    "import time\n",
    "import os\n",
    "\n",
    "data_root = os.path.expanduser(\"~\") + '/data/CSE255/'\n",
    "%matplotlib inline\n",
    "import matplotlib.pyplot as plt"
   ]
  },
  {
   "cell_type": "code",
   "execution_count": 96,
   "metadata": {
    "collapsed": false
   },
   "outputs": [
    {
     "name": "stdout",
     "output_type": "stream",
     "text": [
      "33.5860178471\n"
     ]
    }
   ],
   "source": [
    "start_time = time.time()\n",
    "all_data = pickle.load(open(data_root + \"all_data.pickle\", \"rb\"))\n",
    "print(time.time() - start_time)"
   ]
  },
  {
   "cell_type": "code",
   "execution_count": 97,
   "metadata": {
    "collapsed": false
   },
   "outputs": [],
   "source": [
    "all_size = len(all_data)\n",
    "train_size = 900000\n",
    "# train_size = all_size # uncomment this to produce test\n",
    "valid_size = 100000\n",
    "train_data = all_data[:train_size]\n",
    "valid_data = all_data[all_size - valid_size:]"
   ]
  },
  {
   "cell_type": "code",
   "execution_count": 98,
   "metadata": {
    "collapsed": true
   },
   "outputs": [],
   "source": [
    "train_helpfuls = np.array([d['helpful']['nHelpful'] for d in train_data])\n",
    "train_outofs =  np.array([d['helpful']['outOf'] for d in train_data])"
   ]
  },
  {
   "cell_type": "code",
   "execution_count": 140,
   "metadata": {
    "collapsed": false
   },
   "outputs": [],
   "source": [
    "outofs = sorted(list(set(train_outofs)))\n",
    "outofs = outofs[1:]\n",
    "outofs = np.array(outofs)\n",
    "\n",
    "mean_helpfuls = [np.mean(train_helpfuls[train_outofs == outof]) for outof in outofs]\n",
    "mean_helpfuls = np.array(mean_helpfuls)\n",
    "\n",
    "# stats\n",
    "ratios = mean_helpfuls / outofs\n",
    "outofs_counts = np.array([(train_helpfuls[train_outofs == outof]).shape[0] for outof in outofs])"
   ]
  },
  {
   "cell_type": "code",
   "execution_count": 146,
   "metadata": {
    "collapsed": false
   },
   "outputs": [
    {
     "data": {
      "text/plain": [
       "array([    1,     2,     3,     4,     5,     6,     7,     8,     9,\n",
       "          10,    11,    12,    13,    14,    15,    16,    17,    18,\n",
       "          19,    20,    21,    22,    23,    24,    25,    26,    27,\n",
       "          28,    29,    30,    31,    32,    33,    34,    35,    36,\n",
       "          37,    38,    39,    40,    41,    42,    43,    44,    45,\n",
       "          46,    47,    48,    49,    50,    51,    52,    53,    54,\n",
       "          55,    56,    57,    58,    59,    60,    61,    62,    63,\n",
       "          64,    65,    66,    67,    68,    69,    70,    71,    72,\n",
       "          73,    74,    75,    76,    77,    78,    79,    80,    81,\n",
       "          82,    83,    84,    85,    86,    87,    88,    89,    90,\n",
       "          91,    92,    93,    94,    95,    96,    97,    98,    99,\n",
       "         100,   101,   102,   103,   104,   105,   106,   107,   108,\n",
       "         109,   110,   111,   112,   113,   114,   115,   116,   117,\n",
       "         118,   119,   120,   121,   122,   123,   124,   125,   126,\n",
       "         127,   128,   129,   130,   131,   132,   133,   134,   135,\n",
       "         136,   137,   138,   139,   140,   141,   142,   143,   144,\n",
       "         145,   146,   147,   148,   149,   150,   151,   152,   153,\n",
       "         154,   155,   156,   157,   158,   159,   160,   161,   162,\n",
       "         163,   164,   165,   166,   167,   168,   169,   170,   171,\n",
       "         172,   173,   174,   175,   176,   177,   178,   179,   180,\n",
       "         181,   182,   183,   184,   185,   186,   187,   188,   189,\n",
       "         190,   191,   192,   193,   194,   195,   196,   197,   198,\n",
       "         199,   200,   201,   202,   203,   204,   205,   206,   207,\n",
       "         208,   209,   210,   211,   212,   213,   214,   215,   216,\n",
       "         217,   218,   219,   220,   221,   222,   223,   224,   225,\n",
       "         226,   227,   228,   229,   230,   231,   232,   233,   234,\n",
       "         235,   236,   237,   238,   239,   240,   241,   242,   243,\n",
       "         244,   245,   246,   247,   248,   249,   250,   251,   252,\n",
       "         253,   254,   255,   256,   257,   258,   259,   260,   261,\n",
       "         262,   263,   264,   265,   266,   267,   268,   269,   270,\n",
       "         271,   272,   273,   274,   275,   276,   277,   278,   279,\n",
       "         280,   281,   282,   283,   284,   285,   286,   287,   288,\n",
       "         289,   290,   291,   292,   293,   294,   295,   296,   297,\n",
       "         298,   299,   300,   301,   302,   303,   304,   305,   306,\n",
       "         307,   308,   309,   310,   311,   312,   313,   314,   315,\n",
       "         316,   317,   318,   319,   320,   321,   322,   324,   325,\n",
       "         326,   327,   328,   329,   330,   331,   333,   334,   335,\n",
       "         336,   337,   338,   339,   340,   341,   342,   343,   344,\n",
       "         345,   346,   347,   348,   349,   350,   351,   352,   353,\n",
       "         354,   355,   356,   357,   358,   359,   360,   361,   362,\n",
       "         363,   364,   365,   366,   367,   368,   369,   370,   371,\n",
       "         372,   373,   374,   375,   376,   378,   380,   381,   383,\n",
       "         384,   385,   386,   387,   388,   389,   390,   391,   392,\n",
       "         394,   398,   399,   400,   402,   403,   404,   405,   406,\n",
       "         407,   408,   409,   410,   414,   415,   416,   417,   419,\n",
       "         420,   421,   422,   423,   424,   425,   426,   428,   429,\n",
       "         431,   432,   436,   437,   438,   440,   441,   442,   443,\n",
       "         444,   445,   446,   448,   450,   451,   453,   454,   455,\n",
       "         456,   457,   458,   459,   462,   463,   464,   465,   466,\n",
       "         469,   470,   472,   473,   474,   475,   476,   477,   478,\n",
       "         479,   480,   481,   482,   483,   484,   485,   486,   487,\n",
       "         490,   491,   492,   493,   494,   495,   498,   499,   500,\n",
       "         501,   502,   503,   505,   506,   507,   510,   511,   512,\n",
       "         514,   516,   517,   519,   521,   522,   523,   525,   526,\n",
       "         527,   530,   534,   537,   539,   540,   542,   544,   545,\n",
       "         546,   547,   550,   551,   553,   556,   557,   558,   560,\n",
       "         561,   562,   563,   564,   565,   566,   568,   569,   570,\n",
       "         571,   573,   574,   575,   578,   582,   583,   584,   585,\n",
       "         586,   589,   590,   592,   595,   596,   597,   598,   599,\n",
       "         600,   601,   603,   605,   610,   615,   617,   622,   624,\n",
       "         628,   629,   630,   631,   632,   634,   638,   639,   641,\n",
       "         642,   648,   650,   652,   655,   664,   665,   668,   670,\n",
       "         672,   673,   675,   676,   677,   679,   680,   683,   684,\n",
       "         689,   690,   699,   700,   703,   707,   709,   710,   715,\n",
       "         717,   719,   723,   727,   736,   741,   745,   751,   754,\n",
       "         760,   762,   763,   766,   767,   770,   771,   775,   783,\n",
       "         784,   785,   792,   795,   798,   804,   812,   816,   820,\n",
       "         823,   826,   828,   830,   838,   841,   845,   846,   849,\n",
       "         853,   859,   861,   867,   869,   873,   880,   883,   886,\n",
       "         888,   898,   904,   913,   914,   918,   925,   926,   927,\n",
       "         932,   933,   941,   950,   951,   952,   956,   966,   967,\n",
       "         968,   980,   982,   985,   993,   999,  1000,  1007,  1008,\n",
       "        1012,  1021,  1028,  1048,  1054,  1055,  1056,  1059,  1066,\n",
       "        1089,  1093,  1100,  1108,  1137,  1153,  1165,  1170,  1171,\n",
       "        1173,  1175,  1176,  1200,  1252,  1263,  1277,  1279,  1293,\n",
       "        1319,  1338,  1377,  1392,  1399,  1415,  1419,  1423,  1428,\n",
       "        1454,  1455,  1458,  1462,  1467,  1519,  1548,  1549,  1597,\n",
       "        1624,  1698,  1805,  1845,  1964,  2327,  2487,  2488,  2510,\n",
       "        2575,  2670,  2671,  2755,  2867,  2904,  3038,  3131,  3591,\n",
       "        3735,  3777,  4023,  5302, 24212])"
      ]
     },
     "execution_count": 146,
     "metadata": {},
     "output_type": "execute_result"
    }
   ],
   "source": [
    "outofs"
   ]
  },
  {
   "cell_type": "code",
   "execution_count": 100,
   "metadata": {
    "collapsed": false
   },
   "outputs": [
    {
     "data": {
      "text/plain": [
       "[<matplotlib.lines.Line2D at 0x7f0ff4ea1d10>]"
      ]
     },
     "execution_count": 100,
     "metadata": {},
     "output_type": "execute_result"
    },
    {
     "data": {
      "image/png": "[encoded data removed]",
      "text/plain": [
       "<matplotlib.figure.Figure at 0x7f0fcbf2d1d0>"
      ]
     },
     "metadata": {},
     "output_type": "display_data"
    }
   ],
   "source": [
    "plt.plot(outofs[outofs < 50], outofs_counts[outofs < 50])"
   ]
  },
  {
   "cell_type": "code",
   "execution_count": 101,
   "metadata": {
    "collapsed": false
   },
   "outputs": [
    {
     "data": {
      "text/plain": [
       "array([  7.77026835e-01,   1.40273307e+00,   2.10141529e+00,\n",
       "         2.81474508e+00,   3.54756381e+00,   4.29116466e+00,\n",
       "         5.03623017e+00,   5.78291965e+00,   6.51887540e+00,\n",
       "         7.28212680e+00,   8.10647262e+00,   8.85992986e+00,\n",
       "         9.55085394e+00,   1.03121597e+01,   1.11151705e+01,\n",
       "         1.18904649e+01,   1.25231379e+01,   1.34552314e+01,\n",
       "         1.41936561e+01,   1.47905114e+01,   1.58142077e+01,\n",
       "         1.63763278e+01,   1.74248531e+01,   1.82311234e+01,\n",
       "         1.89447619e+01,   1.95351171e+01,   2.03542654e+01,\n",
       "         2.15300896e+01,   2.19050992e+01,   2.24447592e+01,\n",
       "         2.37572965e+01,   2.42748735e+01,   2.52254237e+01,\n",
       "         2.57775701e+01,   2.69158111e+01,   2.72115385e+01,\n",
       "         2.83677419e+01,   2.84049774e+01,   2.93390663e+01,\n",
       "         3.12184466e+01,   3.16257143e+01,   3.26424051e+01,\n",
       "         3.42012195e+01,   3.29007092e+01,   3.46993464e+01,\n",
       "         3.57204301e+01,   3.57007576e+01,   3.73615385e+01,\n",
       "         3.82788104e+01,   3.81842105e+01,   3.93693694e+01,\n",
       "         4.01606218e+01,   4.02085308e+01,   4.33557692e+01,\n",
       "         4.15720930e+01,   4.50171429e+01,   4.32513369e+01,\n",
       "         4.69470588e+01,   4.70256410e+01,   4.87658228e+01,\n",
       "         4.71721854e+01,   5.04825175e+01,   5.05547445e+01,\n",
       "         5.10875912e+01,   5.34915254e+01,   5.16333333e+01,\n",
       "         5.49328358e+01,   5.13813559e+01,   5.35700935e+01,\n",
       "         5.86880000e+01,   5.64869565e+01,   5.80000000e+01,\n",
       "         5.73010753e+01,   6.05957447e+01,   6.21839080e+01,\n",
       "         6.13913043e+01,   6.18804348e+01,   5.97954545e+01,\n",
       "         6.32473118e+01,   6.25421687e+01,   6.12068966e+01,\n",
       "         6.26206897e+01,   6.74000000e+01,   6.70957447e+01,\n",
       "         6.85568182e+01,   6.87285714e+01,   7.01818182e+01,\n",
       "         7.24400000e+01,   6.98552632e+01,   7.00526316e+01,\n",
       "         6.81269841e+01,   7.00937500e+01,   7.06862745e+01,\n",
       "         7.45689655e+01,   7.73333333e+01,   7.84363636e+01,\n",
       "         7.88529412e+01,   7.97450980e+01,   8.00217391e+01,\n",
       "         8.41458333e+01,   8.47169811e+01,   7.77424242e+01,\n",
       "         8.26896552e+01,   7.94166667e+01,   8.61346154e+01,\n",
       "         9.00750000e+01,   8.78518519e+01,   8.64705882e+01,\n",
       "         9.32391304e+01,   9.08636364e+01,   9.03043478e+01,\n",
       "         8.51463415e+01,   9.35263158e+01,   9.25250000e+01,\n",
       "         9.48409091e+01,   9.22500000e+01,   9.90000000e+01,\n",
       "         9.33255814e+01,   9.45405405e+01,   9.71395349e+01,\n",
       "         9.74054054e+01,   9.74848485e+01,   1.06066667e+02,\n",
       "         1.05694444e+02,   1.02789474e+02,   9.45945946e+01,\n",
       "         9.49411765e+01,   1.01421053e+02,   9.92812500e+01,\n",
       "         1.07551724e+02,   1.07071429e+02,   1.17772727e+02,\n",
       "         1.11727273e+02,   1.11750000e+02,   1.04892857e+02,\n",
       "         1.02037037e+02,   1.10774194e+02,   1.00684211e+02,\n",
       "         1.14480000e+02,   9.75714286e+01,   1.15848485e+02,\n",
       "         1.20850000e+02,   1.25950000e+02,   1.22772727e+02,\n",
       "         1.19240000e+02,   1.15750000e+02,   1.13714286e+02,\n",
       "         1.09923077e+02,   1.16400000e+02,   1.21142857e+02,\n",
       "         1.27733333e+02,   1.37823529e+02,   1.33388889e+02,\n",
       "         1.13037037e+02,   1.19208333e+02,   1.17222222e+02,\n",
       "         1.36045455e+02,   1.25357143e+02,   1.36181818e+02,\n",
       "         1.22142857e+02,   1.38947368e+02,   1.26157895e+02,\n",
       "         1.48666667e+02,   1.28066667e+02,   1.34133333e+02,\n",
       "         1.33263158e+02,   1.46117647e+02,   1.37222222e+02,\n",
       "         1.48461538e+02,   1.43684211e+02,   1.24950000e+02,\n",
       "         1.56454545e+02,   1.39571429e+02,   1.31428571e+02,\n",
       "         1.48695652e+02,   1.56000000e+02,   1.57733333e+02,\n",
       "         1.62333333e+02,   1.56266667e+02,   1.29100000e+02,\n",
       "         1.65200000e+02,   1.38090909e+02,   1.61916667e+02,\n",
       "         1.47714286e+02,   1.57555556e+02,   1.45500000e+02,\n",
       "         1.28857143e+02,   1.55166667e+02,   1.68375000e+02,\n",
       "         1.47125000e+02,   1.71375000e+02,   1.59111111e+02,\n",
       "         1.72000000e+02,   1.63428571e+02,   1.58250000e+02,\n",
       "         1.56818182e+02,   1.53416667e+02,   1.63800000e+02,\n",
       "         1.71300000e+02,   1.57833333e+02,   1.75100000e+02,\n",
       "         1.73500000e+02,   1.79000000e+02,   1.66000000e+02,\n",
       "         1.72900000e+02,   1.54071429e+02,   1.69615385e+02,\n",
       "         1.53750000e+02,   1.95571429e+02,   1.65833333e+02,\n",
       "         1.84000000e+02,   1.90444444e+02,   1.61000000e+02,\n",
       "         1.70888889e+02,   1.87928571e+02,   1.63461538e+02,\n",
       "         1.74800000e+02,   1.93400000e+02,   1.95600000e+02,\n",
       "         1.95250000e+02,   1.80700000e+02,   2.02000000e+02,\n",
       "         1.84714286e+02,   1.81571429e+02,   1.80111111e+02,\n",
       "         1.70625000e+02,   2.09600000e+02,   2.05500000e+02,\n",
       "         1.81500000e+02,   2.09166667e+02,   2.11222222e+02,\n",
       "         2.14800000e+02,   2.01000000e+02,   2.15000000e+02,\n",
       "         1.71800000e+02,   2.08571429e+02,   2.02500000e+02,\n",
       "         1.43400000e+02,   2.15800000e+02,   2.04454545e+02,\n",
       "         2.19363636e+02,   1.68750000e+02,   1.69833333e+02,\n",
       "         1.94000000e+02,   2.05600000e+02,   2.26250000e+02,\n",
       "         2.26500000e+02,   2.17875000e+02,   2.10250000e+02,\n",
       "         2.33000000e+02,   2.29800000e+02,   2.27181818e+02,\n",
       "         1.70333333e+02,   1.66333333e+02,   1.81555556e+02,\n",
       "         2.13200000e+02,   1.53000000e+02,   2.18000000e+02,\n",
       "         2.44333333e+02,   2.32666667e+02,   2.08666667e+02,\n",
       "         2.37500000e+02,   2.29800000e+02,   2.35500000e+02,\n",
       "         2.30857143e+02,   1.79666667e+02,   2.55666667e+02,\n",
       "         2.30333333e+02,   2.29750000e+02,   2.06000000e+02,\n",
       "         2.50000000e+02,   2.42250000e+02,   2.03250000e+02,\n",
       "         2.52500000e+02,   2.50444444e+02,   2.38750000e+02,\n",
       "         2.37428571e+02,   2.20000000e+02,   2.50600000e+02,\n",
       "         2.07800000e+02,   2.31000000e+02,   2.11333333e+02,\n",
       "         1.54500000e+02,   2.28200000e+02,   2.25857143e+02,\n",
       "         2.55666667e+02,   2.58250000e+02,   2.63500000e+02,\n",
       "         2.51600000e+02,   2.59400000e+02,   2.63500000e+02,\n",
       "         2.62000000e+02,   2.67250000e+02,   2.11000000e+02,\n",
       "         2.44333333e+02,   2.69750000e+02,   2.73250000e+02,\n",
       "         2.81400000e+02,   2.15833333e+02,   2.67000000e+02,\n",
       "         2.75333333e+02,   2.24833333e+02,   2.34000000e+02,\n",
       "         2.90000000e+02,   2.72500000e+02,   2.71666667e+02,\n",
       "         2.83000000e+02,   2.62250000e+02,   2.44000000e+02,\n",
       "         2.93000000e+02,   2.83000000e+02,   2.90666667e+02,\n",
       "         2.77333333e+02,   2.93333333e+02,   1.05000000e+02,\n",
       "         2.94000000e+02,   2.34400000e+02,   2.56857143e+02,\n",
       "         2.70500000e+02,   2.67000000e+02,   2.95666667e+02,\n",
       "         2.85000000e+02,   2.26800000e+02,   2.95000000e+02,\n",
       "         2.36500000e+02,   2.95000000e+02,   2.75333333e+02,\n",
       "         2.85500000e+02,   2.47500000e+02,   3.13000000e+02,\n",
       "         2.87500000e+02,   3.23000000e+02,   3.03000000e+02,\n",
       "         3.08800000e+02,   2.97000000e+02,   2.46666667e+02,\n",
       "         2.86333333e+02,   3.14000000e+02,   3.00500000e+02,\n",
       "         3.22500000e+02,   2.79000000e+02,   3.04000000e+02,\n",
       "         2.27666667e+02,   2.76000000e+02,   2.40125000e+02,\n",
       "         3.11000000e+02,   3.05000000e+02,   3.31000000e+02,\n",
       "         3.37000000e+02,   3.25000000e+02,   3.23000000e+02,\n",
       "         1.55500000e+02,   3.00250000e+02,   3.37000000e+02,\n",
       "         2.92000000e+02,   3.42333333e+02,   3.10000000e+02,\n",
       "         3.42666667e+02,   2.46250000e+02,   2.37333333e+02,\n",
       "         3.47000000e+02,   3.38500000e+02,   2.82000000e+02,\n",
       "         3.35500000e+02,   3.51333333e+02,   2.70000000e+02,\n",
       "         3.28000000e+02,   3.46000000e+02,   3.01500000e+02,\n",
       "         3.52666667e+02,   3.66000000e+02,   3.34500000e+02,\n",
       "         3.63000000e+02,   3.33000000e+02,   2.73000000e+02,\n",
       "         3.38000000e+02,   3.52500000e+02,   3.18666667e+02,\n",
       "         3.68000000e+02,   3.45250000e+02,   3.15333333e+02,\n",
       "         3.08000000e+02,   3.51333333e+02,   3.52666667e+02,\n",
       "         3.73000000e+02,   3.52000000e+02,   3.39500000e+02,\n",
       "         3.62000000e+02,   3.22000000e+02,   3.58000000e+02,\n",
       "         3.59250000e+02,   3.72000000e+02,   3.69333333e+02,\n",
       "         3.79000000e+02,   5.80000000e+01,   3.72400000e+02,\n",
       "         3.79500000e+02,   3.95000000e+02,   3.00000000e+02,\n",
       "         3.37000000e+02,   4.07000000e+02,   3.51000000e+02,\n",
       "         3.95000000e+02,   3.86000000e+02,   4.01000000e+02,\n",
       "         3.52000000e+02,   3.60000000e+02,   3.67500000e+02,\n",
       "         3.55000000e+02,   3.71000000e+02,   3.63000000e+02,\n",
       "         3.40000000e+01,   3.32000000e+02,   4.10000000e+02,\n",
       "         3.97000000e+02,   4.12000000e+02,   2.19500000e+02,\n",
       "         3.90000000e+02,   3.91000000e+02,   3.55000000e+02,\n",
       "         4.11000000e+02,   3.67000000e+02,   4.19000000e+02,\n",
       "         3.73000000e+02,   3.95500000e+02,   4.09500000e+02,\n",
       "         3.62000000e+02,   3.43000000e+02,   3.89666667e+02,\n",
       "         3.40000000e+01,   4.17500000e+02,   4.27500000e+02,\n",
       "         4.30000000e+02,   3.81000000e+02,   3.88333333e+02,\n",
       "         4.39000000e+02,   4.18000000e+02,   3.99000000e+02,\n",
       "         4.26000000e+02,   4.06000000e+02,   3.61000000e+02,\n",
       "         3.78000000e+02,   4.30666667e+02,   4.28000000e+02,\n",
       "         4.44500000e+02,   4.48000000e+02,   4.09000000e+02,\n",
       "         4.32000000e+02,   4.50666667e+02,   3.08000000e+02,\n",
       "         4.22000000e+02,   4.32000000e+02,   4.04000000e+02,\n",
       "         4.48000000e+02,   4.53000000e+02,   4.58333333e+02,\n",
       "         3.73000000e+02,   2.79000000e+02,   3.56666667e+02,\n",
       "         4.44000000e+02,   4.63000000e+02,   6.40000000e+01,\n",
       "         4.32500000e+02,   3.85000000e+02,   4.45000000e+02,\n",
       "         4.72000000e+02,   4.52000000e+02,   4.49000000e+02,\n",
       "         1.50000000e+02,   4.13000000e+02,   4.73000000e+02,\n",
       "         4.39000000e+02,   3.92000000e+02,   3.90000000e+01,\n",
       "         4.96000000e+02,   4.59000000e+02,   4.60000000e+02,\n",
       "         4.61000000e+02,   4.37000000e+02,   4.97000000e+02,\n",
       "         4.75666667e+02,   4.64000000e+02,   4.85000000e+02,\n",
       "         4.90000000e+02,   4.24333333e+02,   4.15000000e+02,\n",
       "         5.12000000e+02,   4.92000000e+02,   4.68333333e+02,\n",
       "         5.10000000e+02,   4.74000000e+02,   3.98000000e+02,\n",
       "         5.14000000e+02,   4.86500000e+02,   4.85000000e+02,\n",
       "         5.10750000e+02,   4.83000000e+02,   4.48000000e+02,\n",
       "         4.39000000e+02,   4.84000000e+02,   5.11000000e+02,\n",
       "         3.99000000e+02,   5.03000000e+02,   4.64500000e+02,\n",
       "         4.55000000e+02,   4.95000000e+02,   5.12000000e+02,\n",
       "         5.47000000e+02,   5.33000000e+02,   5.38000000e+02,\n",
       "         3.98000000e+02,   4.68500000e+02,   4.40000000e+02,\n",
       "         5.34500000e+02,   5.28000000e+02,   4.22000000e+02,\n",
       "         5.32000000e+02,   5.21000000e+02,   4.92000000e+02,\n",
       "         5.55000000e+02,   5.61500000e+02,   5.37500000e+02,\n",
       "         5.15000000e+02,   5.19500000e+02,   5.08500000e+02,\n",
       "         5.12000000e+02,   4.38500000e+02,   5.73000000e+02,\n",
       "         5.89000000e+02,   5.52000000e+02,   5.65000000e+02,\n",
       "         5.28000000e+02,   5.81000000e+02,   5.61500000e+02,\n",
       "         5.13000000e+02,   5.72000000e+02,   5.70000000e+02,\n",
       "         6.01000000e+02,   5.82000000e+02,   3.06000000e+02,\n",
       "         5.61000000e+02,   3.46000000e+02,   4.48000000e+02,\n",
       "         6.06000000e+02,   5.20000000e+02,   4.35000000e+02,\n",
       "         5.96000000e+02,   5.43500000e+02,   5.70000000e+02,\n",
       "         5.98000000e+02,   6.37000000e+02,   5.86500000e+02,\n",
       "         5.38000000e+02,   6.36000000e+02,   3.56000000e+02,\n",
       "         6.14000000e+02,   6.20000000e+02,   6.17000000e+02,\n",
       "         5.77000000e+02,   6.26000000e+02,   5.71000000e+02,\n",
       "         6.27000000e+02,   6.12000000e+02,   5.65000000e+02,\n",
       "         5.78000000e+02,   6.21000000e+02,   5.42000000e+02,\n",
       "         5.78000000e+02,   6.60000000e+02,   6.33500000e+02,\n",
       "         6.41000000e+02,   6.63000000e+02,   6.89000000e+02,\n",
       "         4.08000000e+02,   2.78000000e+02,   6.45000000e+02,\n",
       "         6.59000000e+02,   6.62000000e+02,   5.96000000e+02,\n",
       "         6.55000000e+02,   5.51000000e+02,   5.64000000e+02,\n",
       "         6.63000000e+02,   6.97000000e+02,   5.22000000e+02,\n",
       "         7.22000000e+02,   6.40000000e+02,   6.91000000e+02,\n",
       "         7.46000000e+02,   6.28000000e+02,   7.28000000e+02,\n",
       "         6.46000000e+02,   6.70000000e+02,   7.18000000e+02,\n",
       "         7.00000000e+02,   6.63000000e+02,   7.06000000e+02,\n",
       "         7.72000000e+02,   5.45000000e+02,   7.64000000e+02,\n",
       "         6.74000000e+02,   6.75000000e+02,   7.17000000e+02,\n",
       "         7.88000000e+02,   7.79000000e+02,   7.97000000e+02,\n",
       "         7.06000000e+02,   7.52000000e+02,   7.28500000e+02,\n",
       "         7.75000000e+02,   8.25000000e+02,   6.15500000e+02,\n",
       "         7.83000000e+02,   7.49000000e+02,   8.23000000e+02,\n",
       "         8.04000000e+02,   6.84000000e+02,   8.16000000e+02,\n",
       "         8.46000000e+02,   7.43000000e+02,   6.97000000e+02,\n",
       "         3.94000000e+02,   8.26000000e+02,   7.62000000e+02,\n",
       "         8.36000000e+02,   7.94000000e+02,   8.33000000e+02,\n",
       "         8.19000000e+02,   9.00000000e+01,   8.18000000e+02,\n",
       "         7.59000000e+02,   7.87000000e+02,   9.05500000e+02,\n",
       "         8.00000000e+02,   8.62000000e+02,   8.55000000e+02,\n",
       "         8.88000000e+02,   7.09000000e+02,   9.15000000e+02,\n",
       "         6.94000000e+02,   8.47000000e+02,   8.72000000e+02,\n",
       "         7.74000000e+02,   9.34000000e+02,   8.32000000e+02,\n",
       "         8.35000000e+02,   9.81000000e+02,   9.30000000e+02,\n",
       "         9.60000000e+02,   8.85000000e+02,   8.55000000e+02,\n",
       "         8.79000000e+02,   1.00200000e+03,   9.00000000e+02,\n",
       "         1.00600000e+03,   6.16000000e+02,   1.00200000e+03,\n",
       "         1.01300000e+03,   9.39000000e+02,   9.96000000e+02,\n",
       "         1.07800000e+03,   9.65000000e+02,   9.61000000e+02,\n",
       "         9.59000000e+02,   1.05700000e+03,   1.09800000e+03,\n",
       "         1.10900000e+03,   1.11000000e+03,   1.11600000e+03,\n",
       "         1.15400000e+03,   1.12400000e+03,   5.28000000e+02,\n",
       "         1.25200000e+03,   1.23400000e+03,   1.22100000e+03,\n",
       "         1.28800000e+03,   1.23000000e+03,   1.32000000e+03,\n",
       "         1.27700000e+03,   1.32100000e+03,   1.34500000e+03,\n",
       "         1.11600000e+03,   1.24300000e+03,   1.29400000e+03,\n",
       "         1.34300000e+03,   1.25400000e+03,   1.36500000e+03,\n",
       "         1.31500000e+03,   1.18300000e+03,   1.48000000e+03,\n",
       "         1.48200000e+03,   1.49700000e+03,   1.57100000e+03,\n",
       "         1.43000000e+03,   1.59700000e+03,   4.76000000e+02,\n",
       "         1.49600000e+03,   1.83600000e+03,   2.18800000e+03,\n",
       "         2.37200000e+03,   1.91300000e+03,   1.40200000e+03,\n",
       "         2.34900000e+03,   1.55800000e+03,   2.29200000e+03,\n",
       "         2.26600000e+03,   2.08500000e+03,   2.36200000e+03,\n",
       "         2.48900000e+03,   2.87800000e+03,   3.37200000e+03,\n",
       "         3.02800000e+03,   2.55800000e+03,   2.96700000e+03,\n",
       "         5.05700000e+03,   2.33110000e+04])"
      ]
     },
     "execution_count": 101,
     "metadata": {},
     "output_type": "execute_result"
    }
   ],
   "source": [
    "mean_helpfuls"
   ]
  },
  {
   "cell_type": "code",
   "execution_count": 148,
   "metadata": {
    "collapsed": false
   },
   "outputs": [
    {
     "data": {
      "text/plain": [
       "[<matplotlib.lines.Line2D at 0x7f0fc5dffb10>]"
      ]
     },
     "execution_count": 148,
     "metadata": {},
     "output_type": "execute_result"
    },
    {
     "data": {
      "image/png": "[encoded data removed]",
      "text/plain": [
       "<matplotlib.figure.Figure at 0x7f0fc5a520d0>"
      ]
     },
     "metadata": {},
     "output_type": "display_data"
    }
   ],
   "source": [
    "plt.plot(outofs[outofs < 500], mean_helpfuls[outofs < 500])"
   ]
  },
  {
   "cell_type": "code",
   "execution_count": 103,
   "metadata": {
    "collapsed": false
   },
   "outputs": [
    {
     "data": {
      "text/plain": [
       "[<matplotlib.lines.Line2D at 0x7f0faaf83050>]"
      ]
     },
     "execution_count": 103,
     "metadata": {},
     "output_type": "execute_result"
    },
    {
     "data": {
      "image/png": "[encoded data removed]",
      "text/plain": [
       "<matplotlib.figure.Figure at 0x7f0faadf41d0>"
      ]
     },
     "metadata": {},
     "output_type": "display_data"
    }
   ],
   "source": [
    "plt.plot(outofs[outofs < 50], ratios[outofs < 50])"
   ]
  },
  {
   "cell_type": "code",
   "execution_count": 104,
   "metadata": {
    "collapsed": false
   },
   "outputs": [
    {
     "data": {
      "text/plain": [
       "[<matplotlib.lines.Line2D at 0x7f0ff4c30310>]"
      ]
     },
     "execution_count": 104,
     "metadata": {},
     "output_type": "execute_result"
    },
    {
     "data": {
      "image/png": "[encoded data removed]",
      "text/plain": [
       "<matplotlib.figure.Figure at 0x7f0faae3b110>"
      ]
     },
     "metadata": {},
     "output_type": "display_data"
    }
   ],
   "source": [
    "plt.plot(outofs[outofs < 2000], ratios[outofs < 2000])"
   ]
  },
  {
   "cell_type": "code",
   "execution_count": 105,
   "metadata": {
    "collapsed": false
   },
   "outputs": [
    {
     "data": {
      "text/plain": [
       "[<matplotlib.lines.Line2D at 0x7f0fab0c5cd0>]"
      ]
     },
     "execution_count": 105,
     "metadata": {},
     "output_type": "execute_result"
    },
    {
     "data": {
      "image/png": "[encoded data removed]",
      "text/plain": [
       "<matplotlib.figure.Figure at 0x7f0faadc6dd0>"
      ]
     },
     "metadata": {},
     "output_type": "display_data"
    }
   ],
   "source": [
    "plt.plot(outofs[outofs < 2000], mean_helpfuls[outofs < 2000])"
   ]
  },
  {
   "cell_type": "code",
   "execution_count": 110,
   "metadata": {
    "collapsed": false
   },
   "outputs": [
    {
     "data": {
      "text/plain": [
       "array([   1,    2,    3,    4,    5,    6,    7,    8,    9,   10,   11,\n",
       "         12,   13,   14,   15,   16,   17,   18,   19,   20,   21,   22,\n",
       "         23,   24,   25,   26,   27,   28,   29,   30,   31,   32,   33,\n",
       "         34,   35,   36,   37,   38,   39,   40,   41,   42,   43,   44,\n",
       "         45,   46,   47,   48,   49,   50,   51,   52,   53,   54,   55,\n",
       "         56,   57,   58,   59,   60,   61,   62,   63,   64,   65,   66,\n",
       "         67,   68,   69,   70,   71,   72,   73,   74,   75,   76,   77,\n",
       "         78,   79,   80,   81,   82,   83,   84,   85,   86,   87,   88,\n",
       "         89,   90,   91,   92,   93,   94,   95,   96,   97,   98,   99,\n",
       "        100,  101,  102,  103,  104,  105,  106,  107,  108,  109,  110,\n",
       "        111,  112,  113,  114,  115,  116,  117,  118,  119,  120,  121,\n",
       "        122,  123,  124,  125,  126,  127,  128,  129,  130,  131,  132,\n",
       "        133,  134,  135,  136,  137,  138,  139,  140,  141,  142,  143,\n",
       "        144,  145,  146,  147,  148,  149,  150,  151,  152,  153,  154,\n",
       "        155,  156,  157,  158,  159,  160,  161,  162,  163,  164,  165,\n",
       "        166,  167,  168,  169,  170,  171,  172,  173,  174,  175,  176,\n",
       "        177,  178,  179,  180,  181,  182,  183,  184,  185,  186,  187,\n",
       "        188,  189,  190,  191,  192,  193,  194,  195,  196,  197,  198,\n",
       "        199,  200,  201,  202,  203,  204,  205,  206,  207,  208,  209,\n",
       "        210,  211,  212,  213,  214,  215,  216,  217,  218,  219,  220,\n",
       "        221,  222,  223,  224,  225,  226,  227,  228,  229,  230,  231,\n",
       "        232,  233,  234,  235,  236,  237,  238,  239,  240,  241,  242,\n",
       "        243,  244,  245,  246,  247,  248,  249,  250,  251,  252,  253,\n",
       "        254,  255,  256,  257,  258,  259,  260,  261,  262,  263,  264,\n",
       "        265,  266,  267,  268,  269,  270,  271,  272,  273,  274,  275,\n",
       "        276,  277,  278,  279,  280,  281,  282,  283,  284,  285,  286,\n",
       "        287,  288,  289,  290,  291,  292,  293,  294,  295,  296,  297,\n",
       "        298,  299,  300,  301,  302,  303,  304,  305,  306,  307,  308,\n",
       "        309,  310,  311,  312,  313,  314,  315,  316,  317,  318,  319,\n",
       "        320,  321,  322,  324,  325,  326,  327,  328,  329,  330,  331,\n",
       "        333,  334,  335,  336,  337,  338,  339,  340,  341,  342,  343,\n",
       "        344,  345,  346,  347,  348,  349,  350,  351,  352,  353,  354,\n",
       "        355,  356,  357,  358,  359,  360,  361,  362,  363,  364,  365,\n",
       "        366,  367,  368,  369,  370,  371,  372,  373,  374,  375,  376,\n",
       "        378,  380,  381,  383,  384,  385,  386,  387,  388,  389,  390,\n",
       "        391,  392,  394,  398,  399,  400,  402,  403,  404,  405,  406,\n",
       "        407,  408,  409,  410,  414,  415,  416,  417,  419,  420,  421,\n",
       "        422,  423,  424,  425,  426,  428,  429,  431,  432,  436,  437,\n",
       "        438,  440,  441,  442,  443,  444,  445,  446,  448,  450,  451,\n",
       "        453,  454,  455,  456,  457,  458,  459,  462,  463,  464,  465,\n",
       "        466,  469,  470,  472,  473,  474,  475,  476,  477,  478,  479,\n",
       "        480,  481,  482,  483,  484,  485,  486,  487,  490,  491,  492,\n",
       "        493,  494,  495,  498,  499,  500,  501,  502,  503,  505,  506,\n",
       "        507,  510,  511,  512,  514,  516,  517,  519,  521,  522,  523,\n",
       "        525,  526,  527,  530,  534,  537,  539,  540,  542,  544,  545,\n",
       "        546,  547,  550,  551,  553,  556,  557,  558,  560,  561,  562,\n",
       "        563,  564,  565,  566,  568,  569,  570,  571,  573,  574,  575,\n",
       "        578,  582,  583,  584,  585,  586,  589,  590,  592,  595,  596,\n",
       "        597,  598,  599,  600,  601,  603,  605,  610,  615,  617,  622,\n",
       "        624,  628,  629,  630,  631,  632,  634,  638,  639,  641,  642,\n",
       "        648,  650,  652,  655,  664,  665,  668,  670,  672,  673,  675,\n",
       "        676,  677,  679,  680,  683,  684,  689,  690,  699,  700,  703,\n",
       "        707,  709,  710,  715,  717,  719,  723,  727,  736,  741,  745,\n",
       "        751,  754,  760,  762,  763,  766,  767,  770,  771,  775,  783,\n",
       "        784,  785,  792,  795,  798,  804,  812,  816,  820,  823,  826,\n",
       "        828,  830,  838,  841,  845,  846,  849,  853,  859,  861,  867,\n",
       "        869,  873,  880,  883,  886,  888,  898,  904,  913,  914,  918,\n",
       "        925,  926,  927,  932,  933,  941,  950,  951,  952,  956,  966,\n",
       "        967,  968,  980,  982,  985,  993,  999, 1000, 1007, 1008, 1012,\n",
       "       1021, 1028, 1048, 1054, 1055, 1056, 1059, 1066, 1089, 1093, 1100,\n",
       "       1108, 1137, 1153, 1165, 1170, 1171, 1173, 1175, 1176, 1200, 1252,\n",
       "       1263, 1277, 1279, 1293, 1319, 1338, 1377, 1392, 1399, 1415, 1419,\n",
       "       1423, 1428, 1454, 1455, 1458, 1462, 1467, 1519, 1548, 1549, 1597,\n",
       "       1624, 1698, 1805, 1845, 1964])"
      ]
     },
     "execution_count": 110,
     "metadata": {},
     "output_type": "execute_result"
    }
   ],
   "source": [
    "outofs[outofs < 2000]"
   ]
  },
  {
   "cell_type": "code",
   "execution_count": 114,
   "metadata": {
    "collapsed": false
   },
   "outputs": [
    {
     "data": {
      "text/plain": [
       "array([ 0.26371191])"
      ]
     },
     "execution_count": 114,
     "metadata": {},
     "output_type": "execute_result"
    }
   ],
   "source": [
    "ratios[outofs == 1805]"
   ]
  },
  {
   "cell_type": "code",
   "execution_count": 115,
   "metadata": {
    "collapsed": true
   },
   "outputs": [],
   "source": [
    "for d in train_data:\n",
    "    if int(d['helpful']['outOf']) == 1805:\n",
    "        break"
   ]
  },
  {
   "cell_type": "code",
   "execution_count": 122,
   "metadata": {
    "collapsed": false
   },
   "outputs": [],
   "source": [
    "bad_collect = []\n",
    "for d in train_data:\n",
    "    if d['reviewerID'] == 'U690082877':\n",
    "        bad_collect.append(d)"
   ]
  },
  {
   "cell_type": "code",
   "execution_count": 127,
   "metadata": {
    "collapsed": false
   },
   "outputs": [],
   "source": [
    "bad_outofs = [d['helpful']['outOf'] for d in bad_collect]\n",
    "bad_helpfuls = [d['helpful']['nHelpful'] for d in bad_collect]"
   ]
  },
  {
   "cell_type": "code",
   "execution_count": 132,
   "metadata": {
    "collapsed": false
   },
   "outputs": [
    {
     "name": "stdout",
     "output_type": "stream",
     "text": [
      "[(7, 4), (12, 10), (43, 25), (43, 25), (39, 26), (97, 88), (5, 3), (276, 238), (4, 2), (86, 81), (1, 1), (31, 21), (17, 13), (66, 56), (5, 4), (8, 7), (17, 17), (1, 1), (21, 20), (3, 3), (5, 3), (4, 4), (1, 1), (11, 11), (4, 3), (171, 121), (5, 5), (44, 22), (40, 32), (6, 6), (37, 22), (2, 2), (5, 5), (1, 1), (7, 6), (7, 6), (7, 6), (29, 13), (5, 4), (44, 36), (16, 10), (9, 7), (10, 9), (4, 4), (22, 20), (26, 14), (148, 140), (3, 1), (10, 9), (13, 11), (32, 29), (14, 12), (9, 4), (12, 9), (1805, 476), (4, 3), (51, 28), (3, 2), (50, 37), (0, 0), (61, 44), (3, 2), (525, 451), (6, 6), (1, 1), (28, 17), (21, 13), (8, 5), (6, 6), (14, 9), (186, 66), (487, 425), (6, 3), (18, 12), (66, 63), (52, 28), (79, 49), (15, 14), (8, 8), (17, 11), (3, 3), (4, 2), (157, 150), (3, 2), (771, 646), (5, 5), (29, 20), (90, 87), (4, 4), (173, 110), (9, 5)]\n"
     ]
    }
   ],
   "source": [
    "print(zip(bad_outofs, bad_helpfuls))"
   ]
  },
  {
   "cell_type": "code",
   "execution_count": 125,
   "metadata": {
    "collapsed": false
   },
   "outputs": [
    {
     "data": {
      "text/plain": [
       "'U690082877'"
      ]
     },
     "execution_count": 125,
     "metadata": {},
     "output_type": "execute_result"
    }
   ],
   "source": []
  },
  {
   "cell_type": "code",
   "execution_count": 133,
   "metadata": {
    "collapsed": false
   },
   "outputs": [
    {
     "name": "stdout",
     "output_type": "stream",
     "text": [
      "[   1    2    3    4    5    6    7    8    9   10   11   12   13   14   15\n",
      "   16   17   18   19   20   21   22   23   24   25   26   27   28   29   30\n",
      "   31   32   33   34   35   36   37   38   39   40   41   42   43   44   45\n",
      "   46   47   48   49   50   51   52   53   54   55   56   57   58   59   60\n",
      "   61   62   63   64   65   66   67   68   69   70   71   72   73   74   75\n",
      "   76   77   78   79   80   81   82   83   84   85   86   87   88   89   90\n",
      "   91   92   93   94   95   96   97   98   99  100  101  104  105  106  107\n",
      "  108  109  111  112  114  116  117  118  119  120  121  122  123  124  125\n",
      "  126  127  128  129  130  131  132  133  134  135  136  137  139  140  141\n",
      "  142  143  144  146  147  148  149  151  153  154  155  156  157  158  160\n",
      "  161  163  164  165  166  168  170  171  174  175  177  178  179  186  187\n",
      "  188  189  191  192  195  197  200  201  202  203  204  206  209  210  212\n",
      "  214  218  221  222  224  227  230  238  239  241  244  246  248  255  259\n",
      "  269  272  274  276  280  281  291  294  298  308  310  311  316  320  329\n",
      "  333  338  340  344  354  363  375  378  385  398  412  439  452  456  459\n",
      "  497  523  525  527  545  618  648  672  724  789  866 1060 1336 1660 2386]\n"
     ]
    }
   ],
   "source": [
    "# the max outof in test set is 2386\n",
    "\n",
    "test_data = pickle.load(open(data_root + \"helpful_data.pickle\", \"rb\"))\n",
    "\n",
    "outofs =  np.array([d['helpful']['outOf'] for d in test_data])\n",
    "\n",
    "outofs = sorted(list(set(outofs)))\n",
    "outofs = outofs[1:]\n",
    "outofs = np.array(outofs)\n",
    "\n",
    "outofs_counts = np.array([(train_helpfuls[train_outofs == outof]).shape[0] for outof in outofs])\n",
    "\n",
    "print(outofs)"
   ]
  },
  {
   "cell_type": "code",
   "execution_count": 137,
   "metadata": {
    "collapsed": false
   },
   "outputs": [],
   "source": [
    "for d in test_data:\n",
    "    if d['reviewerID'] == 'U690082877':\n",
    "        break"
   ]
  },
  {
   "cell_type": "code",
   "execution_count": 138,
   "metadata": {
    "collapsed": false
   },
   "outputs": [
    {
     "data": {
      "text/plain": [
       "{'category': [['Books']],\n",
       " 'helpful': {'outOf': 7},\n",
       " 'itemID': 'I861095863',\n",
       " 'rating': 5.0,\n",
       " 'reviewText': 'This is a wonderful book about a very serious topic that too many people will misread.  Sowell is very clear about his topic and what he means by the word \"intellectual\" in his title.  No, it is not just about people who use their brains for a living.  For the purposes of this book he is examining the practices, claims, and effects of those whose main output is ideas and whose criteria of success rests in the approval and acclaim of their peers.  So, scientists who are measured against the data their experiments produce, doctors who are measured against their ability to objectively treat patients, and engineers who are judged by the success of their structures, machines, and the devices they create are not intellectuals for the purposes of this book.  They are very intelligent, to be sure, but their tie to objective measures is what is important.  So many professors, politicians, and media types make claim to intellectual brilliance, but their only measure is that others agree with their claim.  And, too often, the more outlandish their ideas the more the draw the attention and applause of their peers.  There is no objective measure to back up those claims.  And when they do make objective claims and those outcomes are measured, the sad realities are explained away.  These kinds of intellectuals are almost never, in their own eyes, wrong no matter how much disaster follows in their wake.Sowell lays out his argument carefully and with detailed evidence for each of his claims.  Of course, this will not stop his critics from making emotional non-argument arguments in condemning him and this book.  He begins by examining what knowledge is and some strange ways intellectuals tend to use it.  As just one example, intellectuals often do have great knowledge and expertise in specialized areas.  However, their assumption that this makes them more expert in mundane areas of life than the average person is false.  Regular everyday folks are not abstractions and know a great deal more about the realities of their specific circumstances than teams of intellectuals in government bureaucracies or analysts in the many redundant \"studies\" departments at our many universities.He then takes us through how intellectuals misuse economics and how they hold onto old notions that have been long disproved.  We then follow him into a discovery of how these mistaken notions in economics feed into social visions that make convenient theories but break down quickly in reality.  This leads Sowell to explain the way intellectuals handle reality when it contradicts their theories.  Do they abandon the theory and the false principles on which it stood?  No.  They create an optional reality and use propaganda in classrooms, media, and politics to enforce it and punish anyone who points out their nakedness.  For after all, the important thing for many of these intellectuals is how their positions allow them to feel their own intellectual and moral superiority.  And to challenge their beliefs is to challenge their personal integrity, so we challengers must be swept away.Sowell then shows us the damage this divorce from reality has caused to hundreds of millions of lives through ridiculous notions about the law.  In fact, we now see criminals protected when their would be victims defend themselves and injure the predator.  The more elaborate the social theories behind the implementation of the laws the greater the financial and social disaster that follows.  Yet actual experience demonstrates that simple laws with a surer the connection between bad acts and punishment result in a lower crime rate.War is such an important topic that Sowell spends two chapter examining the roles intellectuals played leading into and during World War I, including American Progressives and intellectuals Teddy Roosevelt and Woodrow Wilson.  The second chapter looks at the way intellectuals flipped to pacifism and how France taught its next generation to view all soldiers as victims.  Then Sowell examines how this led to France\\'s failure to stop Hitler in the Rhineland and later led to the deaths of tens of millions of people around the world.  Neville Chamberlain\\'s famous \"Peace in Our Time\" negotiation with Hitler also receives a detailed examination of its roots and consequences.  This is fascinating material and should be read very carefully.  I have friends who are pacifists and they have a very hard time dealing with the real world consequences of their sweet natures in the face of people who do not reciprocate their kindnesses.The concluding chapter is worth the price of the whole book.  But it helps to have read all the preceding material because you will better see and understand the conclusions Sowell draws.  He has shown us their use of verbal virtuosity in shaping debates rather than in clarifying issues.  He demonstrates their non-argument arguments.  We see the use of abstract people and countries standing in for real people and nations and statistical categories than how real lives are experienced.  Sowell shows how the vision of the (self) anointed imposes itself on our lives and notes \"Just as a physical body can continue to live, despite containing a certain amount of microorganisms whose prevalence would destroy it, so a society can survive a certain amount of forces of disintegration within it.  But that is very different from saying that there is no limit to the amount, audacity and ferocity of those disintegrative forces which a society can survive, without at least the will to resist.\"May we wake up and resist.  Reading this book will help us.  And after you have read it, please share it with others (or buy them their own copy).You might also be interested in Sowell\\'s:Dismantling America: and other controversial essaysReviewed by Craig Matteson, Saline, MI',\n",
       " 'reviewTime': '08 30, 2010',\n",
       " 'reviewerID': 'U690082877',\n",
       " 'summary': 'An important book I hope everyone reads and discusses.',\n",
       " 'unixReviewTime': 1283126400}"
      ]
     },
     "execution_count": 138,
     "metadata": {},
     "output_type": "execute_result"
    }
   ],
   "source": [
    "d"
   ]
  },
  {
   "cell_type": "code",
   "execution_count": 108,
   "metadata": {
    "collapsed": false
   },
   "outputs": [],
   "source": [
    "# outofs =  np.array([d['helpful']['outOf'] for d in valid_data])\n",
    "\n",
    "# outofs = sorted(list(set(outofs)))\n",
    "# outofs = outofs[1:]\n",
    "# outofs = np.array(outofs)\n",
    "\n",
    "# outofs_counts = np.array([(train_helpfuls[train_outofs == outof]).shape[0] for outof in outofs])\n",
    "\n",
    "# print(outofs)"
   ]
  }
 ],
 "metadata": {
  "kernelspec": {
   "display_name": "Python 2",
   "language": "python",
   "name": "python2"
  },
  "language_info": {
   "codemirror_mode": {
    "name": "ipython",
    "version": 2
   },
   "file_extension": ".py",
   "mimetype": "text/x-python",
   "name": "python",
   "nbconvert_exporter": "python",
   "pygments_lexer": "ipython2",
   "version": "2.7.6"
  }
 },
 "nbformat": 4,
 "nbformat_minor": 0
}
