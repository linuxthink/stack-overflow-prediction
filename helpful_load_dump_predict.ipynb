{
 "cells": [
  {
   "cell_type": "code",
   "execution_count": null,
   "metadata": {
    "collapsed": false
   },
   "outputs": [],
   "source": [
    "from __future__ import print_function\n",
    "from collections import defaultdict\n",
    "import numpy as np\n",
    "import scipy as sp\n",
    "import cPickle as pickle\n",
    "import time\n",
    "from pprint import pprint\n",
    "import os\n",
    "\n",
    "from util_feature import predict_helpful\n",
    "from helpful_load_regressor_predict import LoadRegressorPredictWriter"
   ]
  },
  {
   "cell_type": "code",
   "execution_count": null,
   "metadata": {
    "collapsed": false,
    "scrolled": true
   },
   "outputs": [],
   "source": [
    "model_root = 'models_dump/'\n",
    "\n",
    "# predict all unpredicted files\n",
    "for model_name in os.listdir(model_root):\n",
    "    if model_name.endswith(\".pickle\"):\n",
    "        base_name = os.path.splitext(model_name)[0]\n",
    "        \n",
    "        model_path = model_root + base_name + '.pickle'\n",
    "        output_path = model_root + base_name + '.txt'\n",
    "        \n",
    "        if not os.path.isfile(output_path):\n",
    "            # predict\n",
    "            print(output_path)\n",
    "            predictor = LoadRegressorPredictWriter(model_path, output_path)\n",
    "            predictor.run()"
   ]
  }
 ],
 "metadata": {
  "kernelspec": {
   "display_name": "Python 2",
   "language": "python",
   "name": "python2"
  },
  "language_info": {
   "codemirror_mode": {
    "name": "ipython",
    "version": 2
   },
   "file_extension": ".py",
   "mimetype": "text/x-python",
   "name": "python",
   "nbconvert_exporter": "python",
   "pygments_lexer": "ipython2",
   "version": "2.7.6"
  }
 },
 "nbformat": 4,
 "nbformat_minor": 0
}
