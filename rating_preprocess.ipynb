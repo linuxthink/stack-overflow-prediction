{
 "cells": [
  {
   "cell_type": "code",
   "execution_count": 1,
   "metadata": {
    "collapsed": true
   },
   "outputs": [],
   "source": [
    "from __future__ import print_function\n",
    "from collections import defaultdict\n",
    "import numpy as np\n",
    "import scipy as sp\n",
    "import cPickle as pickle\n",
    "import time\n",
    "from collections import defaultdict"
   ]
  },
  {
   "cell_type": "code",
   "execution_count": 2,
   "metadata": {
    "collapsed": false
   },
   "outputs": [
    {
     "name": "stdout",
     "output_type": "stream",
     "text": [
      "19.2086129189\n"
     ]
    }
   ],
   "source": [
    "# laod raw data\n",
    "start_time = time.time()\n",
    "all_data = pickle.load(open(\"all_data.pickle\", \"rb\"))\n",
    "print(time.time() - start_time)"
   ]
  },
  {
   "cell_type": "code",
   "execution_count": 3,
   "metadata": {
    "collapsed": true
   },
   "outputs": [],
   "source": [
    "# get train and test set\n",
    "train_data = all_data[:900000]\n",
    "valid_data = all_data[900000:]"
   ]
  },
  {
   "cell_type": "code",
   "execution_count": 4,
   "metadata": {
    "collapsed": true
   },
   "outputs": [],
   "source": [
    "# pre-process 0: build id <-> index infastructure\n",
    "\n",
    "# get all items and users\n",
    "user_ids = sorted(list(set([d['reviewerID'] for d in all_data])))\n",
    "item_ids = sorted(list(set([d['itemID'] for d in all_data])))\n",
    "\n",
    "# build id <-> index map\n",
    "user_id_map_index = dict()\n",
    "user_index_map_id = dict()\n",
    "for index, user_id in enumerate(user_ids):\n",
    "    user_id_map_index[user_id] = index\n",
    "    user_index_map_id[index] = user_id\n",
    "\n",
    "item_id_map_index = dict()\n",
    "item_index_map_id = dict()\n",
    "for index, item_id in enumerate(item_ids):\n",
    "    item_id_map_index[item_id] = index\n",
    "    item_index_map_id[index] = item_id\n",
    "\n",
    "pickle.dump((user_index_map_id, item_index_map_id), \n",
    "            open(\"id_index_map.feature\", \"wb\"),\n",
    "            protocol=pickle.HIGHEST_PROTOCOL)"
   ]
  },
  {
   "cell_type": "code",
   "execution_count": 5,
   "metadata": {
    "collapsed": true
   },
   "outputs": [],
   "source": [
    "# pre-process 1: build train_rating_array, valid_rating_array\n",
    "\n",
    "# build array [user_index, item_index, rating]\n",
    "train_rating_array = []\n",
    "for d in train_data:\n",
    "    user_index = user_id_map_index[d['reviewerID']]\n",
    "    item_index = item_id_map_index[d['itemID']]\n",
    "    rating = d['rating']\n",
    "    train_rating_array.append([user_index, item_index, rating])\n",
    "train_rating_array = np.array(train_rating_array).astype(int)\n",
    "\n",
    "# build array [user_index, item_index, rating]\n",
    "valid_rating_array = []\n",
    "for d in valid_data:\n",
    "    user_index = user_id_map_index[d['reviewerID']]\n",
    "    item_index = item_id_map_index[d['itemID']]\n",
    "    rating = d['rating']\n",
    "    valid_rating_array.append([user_index, item_index, rating])\n",
    "valid_rating_array = np.array(valid_rating_array).astype(int)\n",
    "\n",
    "# build array [user_index, item_index, rating]\n",
    "all_rating_array = []\n",
    "for d in all_data:\n",
    "    user_index = user_id_map_index[d['reviewerID']]\n",
    "    item_index = item_id_map_index[d['itemID']]\n",
    "    rating = d['rating']\n",
    "    all_rating_array.append([user_index, item_index, rating])\n",
    "all_rating_array = np.array(all_rating_array).astype(int)\n",
    "\n",
    "pickle.dump((train_rating_array, valid_rating_array, all_rating_array), \n",
    "            open(\"train_valid_all_rating_array.feature\", \"wb\"),\n",
    "            protocol=pickle.HIGHEST_PROTOCOL)"
   ]
  }
 ],
 "metadata": {
  "kernelspec": {
   "display_name": "Python 2",
   "language": "python",
   "name": "python2"
  },
  "language_info": {
   "codemirror_mode": {
    "name": "ipython",
    "version": 2
   },
   "file_extension": ".py",
   "mimetype": "text/x-python",
   "name": "python",
   "nbconvert_exporter": "python",
   "pygments_lexer": "ipython2",
   "version": "2.7.6"
  }
 },
 "nbformat": 4,
 "nbformat_minor": 0
}
