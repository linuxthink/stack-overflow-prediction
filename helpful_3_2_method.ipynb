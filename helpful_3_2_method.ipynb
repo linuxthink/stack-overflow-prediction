{
 "cells": [
  {
   "cell_type": "code",
   "execution_count": null,
   "metadata": {
    "collapsed": true
   },
   "outputs": [],
   "source": [
    "# my version of the algorithm used in the baseline\n",
    "\n",
    "from collections import defaultdict\n",
    "import numpy as np\n",
    "import scipy as sp\n",
    "import cPickle as pickle\n",
    "import time\n",
    "import os\n",
    "from __future__ import print_function\n",
    "\n",
    "data_root = os.path.expanduser(\"~\") + '/data/CSE255/'"
   ]
  },
  {
   "cell_type": "code",
   "execution_count": null,
   "metadata": {
    "collapsed": false
   },
   "outputs": [],
   "source": [
    "start_time = time.time()\n",
    "all_data = pickle.load(open(data_root + \"all_data.pickle\", \"rb\"))\n",
    "print(time.time() - start_time)"
   ]
  },
  {
   "cell_type": "code",
   "execution_count": null,
   "metadata": {
    "collapsed": true
   },
   "outputs": [],
   "source": [
    "all_size = len(all_data)\n",
    "train_size = 900000\n",
    "# train_size = all_size\n",
    "valid_size = 100000\n",
    "train_data = all_data[:train_size]\n",
    "valid_data = all_data[all_size - valid_size:]"
   ]
  },
  {
   "cell_type": "code",
   "execution_count": null,
   "metadata": {
    "collapsed": true
   },
   "outputs": [],
   "source": [
    "# utility functions\n",
    "def get_mae(helpfuls, helpfuls_predict):\n",
    "    return np.sum(np.fabs(helpfuls_predict - helpfuls.astype(float))) / helpfuls.shape[0]\n",
    "\n",
    "def get_valid_mae(valid_data, alpha, beta_us, beta_is):\n",
    "    helpfuls = np.array([float(d['helpful']['nHelpful']) for d in valid_data])\n",
    "    helpfuls_predict = np.array([predict_helpful(d, alpha, beta_us, beta_is) for d in valid_data])\n",
    "    return get_mae(helpfuls, helpfuls_predict)"
   ]
  },
  {
   "cell_type": "code",
   "execution_count": null,
   "metadata": {
    "collapsed": false
   },
   "outputs": [],
   "source": [
    "# pre-process 0: build id <-> index infastructure\n",
    "\n",
    "# get all items and users\n",
    "item_ids = sorted(list(set([d['itemID'] for d in all_data])))\n",
    "user_ids = sorted(list(set([d['reviewerID'] for d in all_data])))\n",
    "\n",
    "# user and item numbers\n",
    "num_items = len(item_ids)\n",
    "num_users = len(user_ids)\n",
    "\n",
    "# build id <-> index map\n",
    "item_id_map_index = dict()\n",
    "item_index_map_id = dict()\n",
    "for index, item_id in enumerate(item_ids):\n",
    "    item_id_map_index[item_id] = index\n",
    "    item_index_map_id[index] = item_id\n",
    "    \n",
    "user_id_map_index = dict()\n",
    "user_index_map_id = dict()\n",
    "for index, user_id in enumerate(user_ids):\n",
    "    user_id_map_index[user_id] = index\n",
    "    user_index_map_id[index] = user_id"
   ]
  },
  {
   "cell_type": "code",
   "execution_count": null,
   "metadata": {
    "collapsed": true
   },
   "outputs": [],
   "source": [
    "# pre-process 1: build train_ratio_array, valid_ratio_array\n",
    "\n",
    "def get_ratio(d):\n",
    "    return float(d['helpful']['nHelpful']) / float(d['helpful']['outOf'])\n",
    "\n",
    "# build array [user_index, item_index, ratio]\n",
    "train_ratio_array = []\n",
    "for d in train_data:\n",
    "    user_index = user_id_map_index[d['reviewerID']]\n",
    "    item_index = item_id_map_index[d['itemID']]\n",
    "    if float(d['helpful']['outOf']) != 0:\n",
    "        ratio = get_ratio(d)\n",
    "        train_ratio_array.append([user_index, item_index, ratio])\n",
    "train_ratio_array = np.array(train_ratio_array)\n",
    "\n",
    "# build array [user_index, item_index, ratio]\n",
    "valid_ratio_array = []\n",
    "for d in valid_data:\n",
    "    user_index = user_id_map_index[d['reviewerID']]\n",
    "    item_index = item_id_map_index[d['itemID']]\n",
    "    if float(d['helpful']['outOf']) != 0:\n",
    "        ratio = get_ratio(d)\n",
    "        valid_ratio_array.append([user_index, item_index, ratio])\n",
    "valid_ratio_array = np.array(valid_ratio_array)\n",
    "\n",
    "# build array [user_index, item_index, ratio]\n",
    "all_ratio_array = []\n",
    "for d in all_data:\n",
    "    user_index = user_id_map_index[d['reviewerID']]\n",
    "    item_index = item_id_map_index[d['itemID']]\n",
    "    if float(d['helpful']['outOf']) != 0:\n",
    "        ratio = get_ratio(d)\n",
    "        all_ratio_array.append([user_index, item_index, ratio])\n",
    "all_ratio_array = np.array(all_ratio_array)"
   ]
  },
  {
   "cell_type": "code",
   "execution_count": null,
   "metadata": {
    "collapsed": true
   },
   "outputs": [],
   "source": [
    "# utility and update functions\n",
    "\n",
    "def get_valid_mse(lam, alpha, beta_us, beta_is, ratio_array, valid_ratio_array):\n",
    "    predicts = alpha + beta_us[valid_ratio_array[:, 0].astype(int)] + beta_is[valid_ratio_array[:, 1].astype(int)]\n",
    "    ratios = valid_ratio_array[:, 2].astype(float)\n",
    "    return (1. / valid_ratio_array.shape[0]) * np.sum((predicts - ratios) ** 2.0)\n",
    "\n",
    "def get_cost(lam, alpha, beta_us, beta_is, train_ratio_array, Ruis, Rius):\n",
    "    predicts = alpha + beta_us[train_ratio_array[:, 0].astype(int)] + beta_is[train_ratio_array[:, 1].astype(int)]\n",
    "    ratios = train_ratio_array[:, 2].astype(float)\n",
    "    return np.sum((predicts - ratios) ** 2.) + lam * (np.sum(beta_us ** 2.) + np.sum(beta_is ** 2.))\n",
    "\n",
    "def alpha_update(lam, alpha, beta_us, beta_is, train_ratio_array, Ruis, Rius):\n",
    "    sum_Rui = np.sum(train_ratio_array[:, 2])\n",
    "    sum_beta_u = np.sum(beta_us[train_ratio_array[:, 0].astype(int)]) # fancy indexing\n",
    "    sum_beta_i = np.sum(beta_is[train_ratio_array[:, 1].astype(int)]) # fancy indexing\n",
    "    return (sum_Rui - sum_beta_u - sum_beta_i) / train_ratio_array.shape[0]\n",
    "\n",
    "def beta_us_update(lam, alpha, beta_us, beta_is, train_ratio_array, Ruis, Rius):\n",
    "    new_beta_us = np.zeros_like(beta_us)\n",
    "    for user_index in xrange(num_users):\n",
    "        # [the set of items] reviewed by user u\n",
    "        Iu = Ruis[user_index].keys()\n",
    "        Iu_size = len(Iu)\n",
    "        # sums\n",
    "        sum_Rui = np.sum(Ruis[user_index].values())\n",
    "        sum_alpha = Iu_size * alpha\n",
    "        sum_beta_i = np.sum(beta_is[Iu])\n",
    "        # write result\n",
    "        new_beta_us[user_index] = float(sum_Rui - sum_alpha - sum_beta_i) / (lam + Iu_size)\n",
    "    return new_beta_us\n",
    "\n",
    "def beta_is_update(lam, alpha, beta_us, beta_is, train_ratio_array, Ruis, Rius):\n",
    "    new_beta_is = np.zeros_like(beta_is)\n",
    "    for item_index in xrange(num_items):\n",
    "        # [the set of users] reviewd item i\n",
    "        Ui = Rius[item_index].keys()\n",
    "        Ui_size = len(Ui)\n",
    "        # sums\n",
    "        sum_Rui = np.sum(Rius[item_index].values())\n",
    "        sum_alpha = Ui_size * alpha\n",
    "        sum_beta_u = np.sum(beta_us[Ui])\n",
    "        # write result\n",
    "        new_beta_is[item_index] = float(sum_Rui - sum_alpha - sum_beta_u) / (lam + Ui_size)\n",
    "    return new_beta_is\n",
    "\n",
    "def train_and_eval(max_iter,\n",
    "                   lam, alpha, beta_us, beta_is,\n",
    "                   train_ratio_array, valid_ratio_array, valid_data,\n",
    "                   print_step = False):\n",
    "    # print init valid mae\n",
    "    print('init valid mae', get_valid_mae(valid_data, alpha, beta_us, beta_is))\n",
    "\n",
    "    # build Mapping of Ruis and Rius\n",
    "    Ruis = defaultdict(dict)\n",
    "    Rius = defaultdict(dict)\n",
    "\n",
    "    # Notes:\n",
    "    # Iu = Ruis[user_index].keys() # [the set of items] reviewed by user u\n",
    "    # Ui = Ruis[item_index].keys() # [the set of users] reviewed item i\n",
    "\n",
    "    for t in train_ratio_array:\n",
    "        user_index = t[0]\n",
    "        item_index = t[1]\n",
    "        ratio = t[2]\n",
    "        Ruis[user_index][item_index] = ratio\n",
    "        Rius[item_index][user_index] = ratio\n",
    "\n",
    "    # train on this dataset\n",
    "    for i in xrange(max_iter):\n",
    "        alpha = alpha_update(lam, alpha, beta_us, beta_is, train_ratio_array, Ruis, Rius)\n",
    "        print('alpha valid mae', get_valid_mae(valid_data, alpha, beta_us, beta_is))\n",
    "        beta_us = beta_us_update(lam, alpha, beta_us, beta_is, train_ratio_array, Ruis, Rius)\n",
    "        print('beta_us valid mae', get_valid_mae(valid_data, alpha, beta_us, beta_is))\n",
    "        beta_is = beta_is_update(lam, alpha, beta_us, beta_is, train_ratio_array, Ruis, Rius)\n",
    "        print('beta_is valid mae', get_valid_mae(valid_data, alpha, beta_us, beta_is))\n",
    "        if print_step:\n",
    "            cost = get_cost(lam, alpha, beta_us, beta_is, train_ratio_array, Ruis, Rius)\n",
    "            valid_mse = get_valid_mse(lam, alpha, beta_us, beta_is,\n",
    "                                      train_ratio_array, valid_ratio_array)\n",
    "            valid_mae = get_valid_mae(valid_data, alpha, beta_us, beta_is)\n",
    "            print(i, alpha, np.mean(beta_us), np.mean(beta_is), cost, valid_mse, valid_mae)\n",
    "\n",
    "    cost = get_cost(lam, alpha, beta_us, beta_is, train_ratio_array, Ruis, Rius)\n",
    "    valid_mse = get_valid_mse(lam, alpha, beta_us, beta_is, train_ratio_array, valid_ratio_array)\n",
    "\n",
    "    return(cost, valid_mse, alpha, beta_us, beta_is)\n",
    "\n",
    "def predict_helpful(d, alpha, beta_us, beta_is):\n",
    "    user_id = d['reviewerID']\n",
    "    item_id = d['itemID']\n",
    "    outof = float(d['helpful']['outOf'])\n",
    "    ratio = alpha + beta_us[user_id_map_index[user_id]] + beta_is[item_id_map_index[item_id]]\n",
    "    ratio = min(5.0, ratio)\n",
    "    ratio = max(0.0, ratio)\n",
    "    helpful_predict = ratio * outof\n",
    "    \n",
    "    return helpful_predict"
   ]
  },
  {
   "cell_type": "code",
   "execution_count": null,
   "metadata": {
    "collapsed": false
   },
   "outputs": [],
   "source": [
    "# fit linear model: ratio(u, i) = alpha + beta_u + beta_i\n",
    "\n",
    "# parameters\n",
    "max_iter = 30\n",
    "lam = 1.0\n",
    "alpha = 0.7704\n",
    "beta_us = np.random.normal(0, 0.5, (num_users,))\n",
    "beta_is = np.random.normal(0, 0.5, (num_items,))\n",
    "\n",
    "cost, valid_mse, alpha, beta_us, beta_is = train_and_eval(max_iter, \n",
    "                                                          lam, alpha, beta_us, beta_is, \n",
    "                                                          train_ratio_array, valid_ratio_array, valid_data,\n",
    "                                                          print_step=True)"
   ]
  },
  {
   "cell_type": "code",
   "execution_count": null,
   "metadata": {
    "collapsed": false
   },
   "outputs": [],
   "source": [
    "# simulate alpha, beta_us, beta_is by hand\n",
    "\n",
    "# get global average\n",
    "train_helpfuls = np.array([d['helpful']['nHelpful'] for d in train_data])\n",
    "train_outofs =  np.array([d['helpful']['outOf'] for d in train_data])\n",
    "train_avg_ratio = np.sum(train_helpfuls) / np.sum(train_outofs.astype(float))\n",
    "\n",
    "# get average for a user\n",
    "users_outof = dict()\n",
    "users_helpful = dict()\n",
    "\n",
    "for d in train_data:\n",
    "    user_id = d['reviewerID']\n",
    "    users_outof[user_id] = users_outof.get(user_id, 0.0) + float(d['helpful']['outOf'])\n",
    "    users_helpful[user_id] = users_helpful.get(user_id, 0.0) + float(d['helpful']['nHelpful'])\n",
    "    \n",
    "users_ratio = dict()\n",
    "for user_id in users_outof:\n",
    "    if users_outof[user_id] != 0:\n",
    "        users_ratio[user_id] = users_helpful[user_id] / users_outof[user_id]\n",
    "    else:\n",
    "        users_outof[user_id] = train_avg_ratio\n",
    "\n",
    "# simulate!\n",
    "alpha = train_avg_ratio\n",
    "beta_us = np.zeros((num_users,))\n",
    "beta_is = np.zeros((num_items,))\n",
    "\n",
    "for user_id, ratio_value in users_ratio.iteritems():\n",
    "    beta_us[user_id_map_index[user_id]] = ratio_value - alpha\n",
    "    \n",
    "# get valid mae\n",
    "print(get_valid_mae(valid_data, alpha, beta_us, beta_is))\n",
    "print(get_valid_mae(train_data, alpha, beta_us, beta_is))"
   ]
  },
  {
   "cell_type": "code",
   "execution_count": null,
   "metadata": {
    "collapsed": false
   },
   "outputs": [],
   "source": [
    "# with the initialized value, do update\n",
    "# doesn't quite work, since objective not the same\n",
    "max_iter = 30\n",
    "lam = 1.0\n",
    "\n",
    "cost, valid_mse, alpha, beta_us, beta_is = train_and_eval(max_iter, \n",
    "                                                          lam, alpha, beta_us, beta_is, \n",
    "                                                          train_ratio_array, valid_ratio_array, valid_data,\n",
    "                                                          print_step=True)"
   ]
  }
 ],
 "metadata": {
  "kernelspec": {
   "display_name": "Python 2",
   "language": "python",
   "name": "python2"
  },
  "language_info": {
   "codemirror_mode": {
    "name": "ipython",
    "version": 2
   },
   "file_extension": ".py",
   "mimetype": "text/x-python",
   "name": "python",
   "nbconvert_exporter": "python",
   "pygments_lexer": "ipython2",
   "version": "2.7.6"
  }
 },
 "nbformat": 4,
 "nbformat_minor": 0
}
