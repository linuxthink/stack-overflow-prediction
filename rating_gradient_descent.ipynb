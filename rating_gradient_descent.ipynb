{
 "cells": [
  {
   "cell_type": "code",
   "execution_count": 50,
   "metadata": {
    "collapsed": true
   },
   "outputs": [],
   "source": [
    "from __future__ import print_function\n",
    "from collections import defaultdict\n",
    "import numpy as np\n",
    "import scipy as sp\n",
    "import cPickle as pickle\n",
    "import time\n",
    "from collections import defaultdict"
   ]
  },
  {
   "cell_type": "code",
   "execution_count": 51,
   "metadata": {
    "collapsed": false
   },
   "outputs": [
    {
     "name": "stdout",
     "output_type": "stream",
     "text": [
      "15.4132521152\n"
     ]
    }
   ],
   "source": [
    "# laod raw data\n",
    "start_time = time.time()\n",
    "all_data = pickle.load(open(\"all_data.pickle\", \"rb\"))\n",
    "print(time.time() - start_time)"
   ]
  },
  {
   "cell_type": "code",
   "execution_count": 52,
   "metadata": {
    "collapsed": true
   },
   "outputs": [],
   "source": [
    "# get train and test set\n",
    "train_data = all_data[:900000]\n",
    "valid_data = all_data[900000:]"
   ]
  },
  {
   "cell_type": "code",
   "execution_count": 53,
   "metadata": {
    "collapsed": true
   },
   "outputs": [],
   "source": [
    "# pre-process 0: build id <-> index infastructure\n",
    "\n",
    "# get all items and users\n",
    "user_ids = sorted(list(set([d['reviewerID'] for d in all_data])))\n",
    "item_ids = sorted(list(set([d['itemID'] for d in all_data])))\n",
    "\n",
    "# user and item numbers\n",
    "num_users = len(user_ids)\n",
    "num_items = len(item_ids)\n",
    "\n",
    "# build id <-> index map\n",
    "item_id_map_index = dict()\n",
    "item_index_map_id = dict()\n",
    "for index, item_id in enumerate(item_ids):\n",
    "    item_id_map_index[item_id] = index\n",
    "    item_index_map_id[index] = item_id\n",
    "    \n",
    "user_id_map_index = dict()\n",
    "user_index_map_id = dict()\n",
    "for index, user_id in enumerate(user_ids):\n",
    "    user_id_map_index[user_id] = index\n",
    "    user_index_map_id[index] = user_id"
   ]
  },
  {
   "cell_type": "code",
   "execution_count": 54,
   "metadata": {
    "collapsed": true
   },
   "outputs": [],
   "source": [
    "# pre-process 1: build train_rating_array, valid_rating_array\n",
    "\n",
    "# build array [user_index, item_index, rating]\n",
    "train_rating_array = []\n",
    "for d in train_data:\n",
    "    user_index = user_id_map_index[d['reviewerID']]\n",
    "    item_index = item_id_map_index[d['itemID']]\n",
    "    rating = d['rating']\n",
    "    train_rating_array.append([user_index, item_index, rating])\n",
    "train_rating_array = np.array(train_rating_array).astype(int)\n",
    "\n",
    "# build array [user_index, item_index, rating]\n",
    "valid_rating_array = []\n",
    "for d in valid_data:\n",
    "    user_index = user_id_map_index[d['reviewerID']]\n",
    "    item_index = item_id_map_index[d['itemID']]\n",
    "    rating = d['rating']\n",
    "    valid_rating_array.append([user_index, item_index, rating])\n",
    "valid_rating_array = np.array(valid_rating_array).astype(int)\n",
    "\n",
    "# build array [user_index, item_index, rating]\n",
    "all_rating_array = []\n",
    "for d in all_data:\n",
    "    user_index = user_id_map_index[d['reviewerID']]\n",
    "    item_index = item_id_map_index[d['itemID']]\n",
    "    rating = d['rating']\n",
    "    all_rating_array.append([user_index, item_index, rating])\n",
    "all_rating_array = np.array(all_rating_array).astype(int)"
   ]
  },
  {
   "cell_type": "code",
   "execution_count": 80,
   "metadata": {
    "collapsed": true
   },
   "outputs": [],
   "source": [
    "def get_mse(ratings, ratings_predict):\n",
    "    return np.mean((np.array(ratings).astype('float') - \n",
    "                    np.array(ratings_predict).astype('float')) ** 2.)\n",
    "\n",
    "def get_rmse(ratings, ratings_predict):\n",
    "    return get_mse(ratings, ratings_predict) ** 0.5"
   ]
  },
  {
   "cell_type": "code",
   "execution_count": 81,
   "metadata": {
    "collapsed": false
   },
   "outputs": [],
   "source": [
    "# global variableds\n",
    "K = 5\n",
    "lam = 0.1\n",
    "alpha = np.mean(train_rating_array[:, 2])\n",
    "user_num = len(user_ids)\n",
    "item_num = len(item_ids)"
   ]
  },
  {
   "cell_type": "code",
   "execution_count": 82,
   "metadata": {
    "collapsed": true
   },
   "outputs": [],
   "source": [
    "def init_theta(K):\n",
    "    beta_users = np.random.normal(0, 0.5, (user_num, ))\n",
    "    beta_items = np.random.normal(0, 0.5, (item_num, ))\n",
    "    gamma_users = np.random.normal(0, 0.5, (user_num, K))\n",
    "    gamma_items = np.random.normal(0, 0.5, (item_num, K))\n",
    "    return pack(beta_users, beta_items, gamma_users, gamma_items)\n",
    "\n",
    "def pack(beta_users, beta_items, gamma_users, gamma_items):\n",
    "    return np.concatenate((beta_users.ravel(),\n",
    "                           beta_items.ravel(),\n",
    "                           gamma_users.ravel(),\n",
    "                           gamma_items.ravel()))\n",
    "\n",
    "def unpack(theta):\n",
    "    curr_ind = 0\n",
    "    beta_users = theta[curr_ind : curr_ind + user_num]\n",
    "    curr_ind += user_num\n",
    "    beta_items = theta[curr_ind : curr_ind + item_num]\n",
    "    curr_ind += item_num\n",
    "    gamma_users = theta[curr_ind : curr_ind + user_num * K].reshape((user_num, K))\n",
    "    curr_ind += user_num * K\n",
    "    gamma_items = theta[curr_ind :].reshape((item_num, K))\n",
    "    return [beta_users, beta_items, gamma_users, gamma_items]"
   ]
  },
  {
   "cell_type": "code",
   "execution_count": 83,
   "metadata": {
    "collapsed": true
   },
   "outputs": [],
   "source": [
    "# init thea\n",
    "theta = init_theta(K) # all parameters\n",
    "\n",
    "# check pack and unpack function\n",
    "[a, b, c, d] = unpack(theta)\n",
    "theta_new = pack(a,b,c,d)\n",
    "assert(np.array_equal(theta, theta_new))"
   ]
  },
  {
   "cell_type": "code",
   "execution_count": 84,
   "metadata": {
    "collapsed": true
   },
   "outputs": [],
   "source": [
    "def objective(theta):\n",
    "    [beta_users, beta_items, gamma_users, gamma_items] = unpack(theta)\n",
    "    cost = 0.0\n",
    "    for datum in train_rating_array:\n",
    "        user_index = datum[0]\n",
    "        item_index = datum[1]\n",
    "        cost += (float(alpha)\n",
    "                 + beta_users[user_index]\n",
    "                 + beta_items[item_index]\n",
    "                 + np.dot(gamma_users[user_index], gamma_items[item_index])\n",
    "                 - float(datum[2])\n",
    "                ) ** 2.0\n",
    "    cost += lam * (np.linalg.norm(theta) ** 2.0)\n",
    "    return 0.5 * cost"
   ]
  },
  {
   "cell_type": "code",
   "execution_count": 85,
   "metadata": {
    "collapsed": false
   },
   "outputs": [],
   "source": [
    "def gradient(theta):\n",
    "    # unpack\n",
    "    [beta_users, beta_items, gamma_users, gamma_items] = unpack(theta)\n",
    "    # init gradient buffers\n",
    "    beta_users_grad = np.zeros((user_num, ))\n",
    "    beta_items_grad = np.zeros((item_num, ))\n",
    "    gamma_users_grad = np.zeros((user_num, K))\n",
    "    gamma_items_grad = np.zeros((item_num, K))\n",
    "    # accumulate gradients\n",
    "    for datum in train_rating_array:\n",
    "        user_index = datum[0]\n",
    "        item_index = datum[1]\n",
    "        prediction = (float(alpha)\n",
    "                      + beta_users[user_index]\n",
    "                      + beta_items[item_index]\n",
    "                      + np.dot(gamma_users[user_index], gamma_items[item_index]))\n",
    "        common_offset = (prediction - float(datum[2]))\n",
    "\n",
    "        beta_users_grad[user_index] += common_offset\n",
    "        beta_items_grad[item_index] += common_offset\n",
    "        gamma_users_grad[user_index] += common_offset * gamma_items[item_index]\n",
    "        gamma_items_grad[item_index] += common_offset * gamma_users[user_index]\n",
    "    # pack\n",
    "    grad = pack(beta_users_grad,\n",
    "                beta_items_grad,\n",
    "                gamma_users_grad,\n",
    "                gamma_items_grad)\n",
    "    # reguilization gradient\n",
    "    grad = grad + lam * theta\n",
    "    return grad"
   ]
  },
  {
   "cell_type": "code",
   "execution_count": 86,
   "metadata": {
    "collapsed": true
   },
   "outputs": [],
   "source": [
    "def predict_one_rating(user_index, item_index, theta):\n",
    "    user_index = int(user_index)\n",
    "    item_index = int(item_index)\n",
    "    [beta_users, beta_items, gamma_users, gamma_items] = unpack(theta)\n",
    "    \n",
    "    # user\n",
    "    beta_user = beta_users[user_index]\n",
    "    gamma_user = gamma_users[user_index]\n",
    "    \n",
    "    # item\n",
    "    beta_item = beta_items[item_index]\n",
    "    gamma_item = gamma_items[item_index]\n",
    "    \n",
    "    return alpha + beta_user + beta_item + np.dot(gamma_user, gamma_item)"
   ]
  },
  {
   "cell_type": "code",
   "execution_count": 87,
   "metadata": {
    "collapsed": true
   },
   "outputs": [],
   "source": [
    "def test_and_get_rmse(data, theta):\n",
    "    ratings_predict = [predict_one_rating(user_index, item_index, theta) \n",
    "                       for user_index, item_index in data[:, :2]]\n",
    "    ratings = data[:, 2]\n",
    "    return get_rmse(ratings_predict, ratings)"
   ]
  },
  {
   "cell_type": "code",
   "execution_count": 88,
   "metadata": {
    "collapsed": true
   },
   "outputs": [],
   "source": [
    "def progress_callback(theta):\n",
    "    print(\"train rmse:\", test_and_get_rmse(train_rating_array, theta))\n",
    "    print(\"valid rmse:\", test_and_get_rmse(valid_rating_array, theta))"
   ]
  },
  {
   "cell_type": "code",
   "execution_count": 89,
   "metadata": {
    "collapsed": false
   },
   "outputs": [
    {
     "name": "stdout",
     "output_type": "stream",
     "text": [
      "train rmse: 1.29650094144\n",
      "valid rmse: 1.30389540733\n",
      "train rmse: 1.17836835016\n",
      "valid rmse: 1.20858732859\n",
      "train rmse: 1.06475543159\n",
      "valid rmse: 1.12014975647\n",
      "train rmse: 0.998287729727\n",
      "valid rmse: 1.07068844843\n",
      "train rmse: 0.928642141916\n",
      "valid rmse: 1.02719702524\n",
      "train rmse: 0.871930025005\n",
      "valid rmse: 0.979331873854\n",
      "train rmse: 0.855027444141\n",
      "valid rmse: 0.966213190552\n",
      "train rmse: 0.829484229965\n",
      "valid rmse: 0.948542254602\n",
      "train rmse: 0.825875629486\n",
      "valid rmse: 0.956138577208\n",
      "train rmse: 0.789287216926\n",
      "valid rmse: 0.924402873369\n",
      "train rmse: 0.779613289794\n",
      "valid rmse: 0.917921912801\n",
      "train rmse: 0.768115943628\n",
      "valid rmse: 0.912069557618\n",
      "train rmse: 0.752295422855\n",
      "valid rmse: 0.904906905998\n",
      "train rmse: 0.74411602731\n",
      "valid rmse: 0.903449279289\n",
      "train rmse: 0.728953255333\n",
      "valid rmse: 0.899319134626\n",
      "train rmse: 0.722057614637\n",
      "valid rmse: 0.897911046667\n",
      "train rmse: 0.714289723952\n",
      "valid rmse: 0.897876705598\n",
      "train rmse: 0.706690318592\n",
      "valid rmse: 0.898989272496\n",
      "train rmse: 0.699305539342\n",
      "valid rmse: 0.90543487661\n",
      "train rmse: 0.688181748621\n",
      "valid rmse: 0.910968353106\n",
      "train rmse: 0.682246733008\n",
      "valid rmse: 0.91277678036\n",
      "train rmse: 0.674718940827\n",
      "valid rmse: 0.916846714708\n",
      "train rmse: 0.668057453007\n",
      "valid rmse: 0.927188375091\n",
      "train rmse: 0.659561694158\n",
      "valid rmse: 0.933004051503\n"
     ]
    },
    {
     "ename": "KeyboardInterrupt",
     "evalue": "",
     "output_type": "error",
     "traceback": [
      "\u001b[1;31m---------------------------------------------------------------------------\u001b[0m",
      "\u001b[1;31mKeyboardInterrupt\u001b[0m                         Traceback (most recent call last)",
      "\u001b[1;32m<ipython-input-89-311ed0847278>\u001b[0m in \u001b[0;36m<module>\u001b[1;34m()\u001b[0m\n\u001b[0;32m      5\u001b[0m                \u001b[0mjac\u001b[0m\u001b[1;33m=\u001b[0m\u001b[0mgradient\u001b[0m\u001b[1;33m,\u001b[0m\u001b[1;33m\u001b[0m\u001b[0m\n\u001b[0;32m      6\u001b[0m                \u001b[0moptions\u001b[0m\u001b[1;33m=\u001b[0m\u001b[1;33m{\u001b[0m\u001b[1;34m'disp'\u001b[0m\u001b[1;33m:\u001b[0m \u001b[0mTrue\u001b[0m\u001b[1;33m,\u001b[0m \u001b[1;34m'maxiter'\u001b[0m\u001b[1;33m:\u001b[0m \u001b[1;36m30\u001b[0m\u001b[1;33m}\u001b[0m\u001b[1;33m,\u001b[0m\u001b[1;33m\u001b[0m\u001b[0m\n\u001b[1;32m----> 7\u001b[1;33m                callback=progress_callback)\n\u001b[0m\u001b[0;32m      8\u001b[0m \u001b[1;31m# res = minimize(objective,\u001b[0m\u001b[1;33m\u001b[0m\u001b[1;33m\u001b[0m\u001b[0m\n\u001b[0;32m      9\u001b[0m \u001b[1;31m#                theta,\u001b[0m\u001b[1;33m\u001b[0m\u001b[1;33m\u001b[0m\u001b[0m\n",
      "\u001b[1;32m/local/home/AD/y1lao/.virtualenvs/amazon/local/lib/python2.7/site-packages/scipy/optimize/_minimize.pyc\u001b[0m in \u001b[0;36mminimize\u001b[1;34m(fun, x0, args, method, jac, hess, hessp, bounds, constraints, tol, callback, options)\u001b[0m\n\u001b[0;32m    442\u001b[0m     \u001b[1;32melif\u001b[0m \u001b[0mmeth\u001b[0m \u001b[1;33m==\u001b[0m \u001b[1;34m'l-bfgs-b'\u001b[0m\u001b[1;33m:\u001b[0m\u001b[1;33m\u001b[0m\u001b[0m\n\u001b[0;32m    443\u001b[0m         return _minimize_lbfgsb(fun, x0, args, jac, bounds,\n\u001b[1;32m--> 444\u001b[1;33m                                 callback=callback, **options)\n\u001b[0m\u001b[0;32m    445\u001b[0m     \u001b[1;32melif\u001b[0m \u001b[0mmeth\u001b[0m \u001b[1;33m==\u001b[0m \u001b[1;34m'tnc'\u001b[0m\u001b[1;33m:\u001b[0m\u001b[1;33m\u001b[0m\u001b[0m\n\u001b[0;32m    446\u001b[0m         return _minimize_tnc(fun, x0, args, jac, bounds, callback=callback,\n",
      "\u001b[1;32m/local/home/AD/y1lao/.virtualenvs/amazon/local/lib/python2.7/site-packages/scipy/optimize/lbfgsb.pyc\u001b[0m in \u001b[0;36m_minimize_lbfgsb\u001b[1;34m(fun, x0, args, jac, bounds, disp, maxcor, ftol, gtol, eps, maxfun, maxiter, iprint, callback, **unknown_options)\u001b[0m\n\u001b[0;32m    318\u001b[0m                 \u001b[1;31m# minimization routine wants f and g at the current x\u001b[0m\u001b[1;33m\u001b[0m\u001b[1;33m\u001b[0m\u001b[0m\n\u001b[0;32m    319\u001b[0m                 \u001b[1;31m# Overwrite f and g:\u001b[0m\u001b[1;33m\u001b[0m\u001b[1;33m\u001b[0m\u001b[0m\n\u001b[1;32m--> 320\u001b[1;33m                 \u001b[0mf\u001b[0m\u001b[1;33m,\u001b[0m \u001b[0mg\u001b[0m \u001b[1;33m=\u001b[0m \u001b[0mfunc_and_grad\u001b[0m\u001b[1;33m(\u001b[0m\u001b[0mx\u001b[0m\u001b[1;33m)\u001b[0m\u001b[1;33m\u001b[0m\u001b[0m\n\u001b[0m\u001b[0;32m    321\u001b[0m         \u001b[1;32melif\u001b[0m \u001b[0mtask_str\u001b[0m\u001b[1;33m.\u001b[0m\u001b[0mstartswith\u001b[0m\u001b[1;33m(\u001b[0m\u001b[1;34mb'NEW_X'\u001b[0m\u001b[1;33m)\u001b[0m\u001b[1;33m:\u001b[0m\u001b[1;33m\u001b[0m\u001b[0m\n\u001b[0;32m    322\u001b[0m             \u001b[1;31m# new iteration\u001b[0m\u001b[1;33m\u001b[0m\u001b[1;33m\u001b[0m\u001b[0m\n",
      "\u001b[1;32m/local/home/AD/y1lao/.virtualenvs/amazon/local/lib/python2.7/site-packages/scipy/optimize/lbfgsb.pyc\u001b[0m in \u001b[0;36mfunc_and_grad\u001b[1;34m(x)\u001b[0m\n\u001b[0;32m    269\u001b[0m     \u001b[1;32melse\u001b[0m\u001b[1;33m:\u001b[0m\u001b[1;33m\u001b[0m\u001b[0m\n\u001b[0;32m    270\u001b[0m         \u001b[1;32mdef\u001b[0m \u001b[0mfunc_and_grad\u001b[0m\u001b[1;33m(\u001b[0m\u001b[0mx\u001b[0m\u001b[1;33m)\u001b[0m\u001b[1;33m:\u001b[0m\u001b[1;33m\u001b[0m\u001b[0m\n\u001b[1;32m--> 271\u001b[1;33m             \u001b[0mf\u001b[0m \u001b[1;33m=\u001b[0m \u001b[0mfun\u001b[0m\u001b[1;33m(\u001b[0m\u001b[0mx\u001b[0m\u001b[1;33m,\u001b[0m \u001b[1;33m*\u001b[0m\u001b[0margs\u001b[0m\u001b[1;33m)\u001b[0m\u001b[1;33m\u001b[0m\u001b[0m\n\u001b[0m\u001b[0;32m    272\u001b[0m             \u001b[0mg\u001b[0m \u001b[1;33m=\u001b[0m \u001b[0mjac\u001b[0m\u001b[1;33m(\u001b[0m\u001b[0mx\u001b[0m\u001b[1;33m,\u001b[0m \u001b[1;33m*\u001b[0m\u001b[0margs\u001b[0m\u001b[1;33m)\u001b[0m\u001b[1;33m\u001b[0m\u001b[0m\n\u001b[0;32m    273\u001b[0m             \u001b[1;32mreturn\u001b[0m \u001b[0mf\u001b[0m\u001b[1;33m,\u001b[0m \u001b[0mg\u001b[0m\u001b[1;33m\u001b[0m\u001b[0m\n",
      "\u001b[1;32m/local/home/AD/y1lao/.virtualenvs/amazon/local/lib/python2.7/site-packages/scipy/optimize/optimize.pyc\u001b[0m in \u001b[0;36mfunction_wrapper\u001b[1;34m(*wrapper_args)\u001b[0m\n\u001b[0;32m    283\u001b[0m     \u001b[1;32mdef\u001b[0m \u001b[0mfunction_wrapper\u001b[0m\u001b[1;33m(\u001b[0m\u001b[1;33m*\u001b[0m\u001b[0mwrapper_args\u001b[0m\u001b[1;33m)\u001b[0m\u001b[1;33m:\u001b[0m\u001b[1;33m\u001b[0m\u001b[0m\n\u001b[0;32m    284\u001b[0m         \u001b[0mncalls\u001b[0m\u001b[1;33m[\u001b[0m\u001b[1;36m0\u001b[0m\u001b[1;33m]\u001b[0m \u001b[1;33m+=\u001b[0m \u001b[1;36m1\u001b[0m\u001b[1;33m\u001b[0m\u001b[0m\n\u001b[1;32m--> 285\u001b[1;33m         \u001b[1;32mreturn\u001b[0m \u001b[0mfunction\u001b[0m\u001b[1;33m(\u001b[0m\u001b[1;33m*\u001b[0m\u001b[1;33m(\u001b[0m\u001b[0mwrapper_args\u001b[0m \u001b[1;33m+\u001b[0m \u001b[0margs\u001b[0m\u001b[1;33m)\u001b[0m\u001b[1;33m)\u001b[0m\u001b[1;33m\u001b[0m\u001b[0m\n\u001b[0m\u001b[0;32m    286\u001b[0m \u001b[1;33m\u001b[0m\u001b[0m\n\u001b[0;32m    287\u001b[0m     \u001b[1;32mreturn\u001b[0m \u001b[0mncalls\u001b[0m\u001b[1;33m,\u001b[0m \u001b[0mfunction_wrapper\u001b[0m\u001b[1;33m\u001b[0m\u001b[0m\n",
      "\u001b[1;32m<ipython-input-84-24c7adcc62c7>\u001b[0m in \u001b[0;36mobjective\u001b[1;34m(theta)\u001b[0m\n\u001b[0;32m      9\u001b[0m                  \u001b[1;33m+\u001b[0m \u001b[0mbeta_items\u001b[0m\u001b[1;33m[\u001b[0m\u001b[0mitem_index\u001b[0m\u001b[1;33m]\u001b[0m\u001b[1;33m\u001b[0m\u001b[0m\n\u001b[0;32m     10\u001b[0m                  \u001b[1;33m+\u001b[0m \u001b[0mnp\u001b[0m\u001b[1;33m.\u001b[0m\u001b[0mdot\u001b[0m\u001b[1;33m(\u001b[0m\u001b[0mgamma_users\u001b[0m\u001b[1;33m[\u001b[0m\u001b[0muser_index\u001b[0m\u001b[1;33m]\u001b[0m\u001b[1;33m,\u001b[0m \u001b[0mgamma_items\u001b[0m\u001b[1;33m[\u001b[0m\u001b[0mitem_index\u001b[0m\u001b[1;33m]\u001b[0m\u001b[1;33m)\u001b[0m\u001b[1;33m\u001b[0m\u001b[0m\n\u001b[1;32m---> 11\u001b[1;33m                  \u001b[1;33m-\u001b[0m \u001b[0mfloat\u001b[0m\u001b[1;33m(\u001b[0m\u001b[0mdatum\u001b[0m\u001b[1;33m[\u001b[0m\u001b[1;36m2\u001b[0m\u001b[1;33m]\u001b[0m\u001b[1;33m)\u001b[0m\u001b[1;33m\u001b[0m\u001b[0m\n\u001b[0m\u001b[0;32m     12\u001b[0m                 ) ** 2.0\n\u001b[0;32m     13\u001b[0m     \u001b[0mcost\u001b[0m \u001b[1;33m+=\u001b[0m \u001b[0mlam\u001b[0m \u001b[1;33m*\u001b[0m \u001b[1;33m(\u001b[0m\u001b[0mnp\u001b[0m\u001b[1;33m.\u001b[0m\u001b[0mlinalg\u001b[0m\u001b[1;33m.\u001b[0m\u001b[0mnorm\u001b[0m\u001b[1;33m(\u001b[0m\u001b[0mtheta\u001b[0m\u001b[1;33m)\u001b[0m \u001b[1;33m**\u001b[0m \u001b[1;36m2.0\u001b[0m\u001b[1;33m)\u001b[0m\u001b[1;33m\u001b[0m\u001b[0m\n",
      "\u001b[1;31mKeyboardInterrupt\u001b[0m: "
     ]
    }
   ],
   "source": [
    "from scipy.optimize import minimize\n",
    "res = minimize(objective, \n",
    "               theta, \n",
    "               method='L-BFGS-B', \n",
    "               jac=gradient, \n",
    "               options={'disp': True, 'maxiter': 30},\n",
    "               callback=progress_callback)\n",
    "# res = minimize(objective, \n",
    "#                theta, \n",
    "#                method='L-BFGS-B', \n",
    "#                jac=gradient, \n",
    "#                options={'disp': True, 'maxiter': 200})"
   ]
  },
  {
   "cell_type": "code",
   "execution_count": null,
   "metadata": {
    "collapsed": true
   },
   "outputs": [],
   "source": []
  }
 ],
 "metadata": {
  "kernelspec": {
   "display_name": "Python 2",
   "language": "python",
   "name": "python2"
  },
  "language_info": {
   "codemirror_mode": {
    "name": "ipython",
    "version": 2
   },
   "file_extension": ".py",
   "mimetype": "text/x-python",
   "name": "python",
   "nbconvert_exporter": "python",
   "pygments_lexer": "ipython2",
   "version": "2.7.6"
  }
 },
 "nbformat": 4,
 "nbformat_minor": 0
}
