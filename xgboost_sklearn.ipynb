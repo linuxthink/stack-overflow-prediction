{
 "cells": [
  {
   "cell_type": "code",
   "execution_count": 4,
   "metadata": {
    "collapsed": true
   },
   "outputs": [],
   "source": [
    "from __future__ import print_function\n",
    "from pprint import pprint\n",
    "import os\n",
    "import csv\n",
    "import cPickle as pickle\n",
    "\n",
    "import numpy as np\n",
    "import scipy as sp\n",
    "\n",
    "from feature_label_builder import FeatureLabelBuilder, get_feature_keys\n",
    "from feature_label_builder import data_path, full_path\n",
    "from util_eval import multiclass_log_loss, multiclass_accuracy\n",
    "\n",
    "import xgboost as xgb\n",
    "\n",
    "import matplotlib\n",
    "import matplotlib.pyplot as plt\n",
    "%matplotlib inline"
   ]
  },
  {
   "cell_type": "code",
   "execution_count": 2,
   "metadata": {
    "collapsed": true
   },
   "outputs": [],
   "source": [
    "# load data\n",
    "(all_xs, all_ys) = pickle.load(open(full_path(\"train_37_xs_ys_np_sorted.p\"), \"rb\"))\n",
    "all_ys = all_ys - 1.0\n",
    "\n",
    "# set up split portion of train and test data\n",
    "test_percentage = 0.01\n",
    "all_num = len(all_ys)\n",
    "train_num = int(round((1. - test_percentage) * all_num))\n",
    "test_num = all_num - train_num\n",
    "\n",
    "# prepare train and test dataset\n",
    "train_xs = all_xs[:train_num]\n",
    "train_ys = all_ys[:train_num]\n",
    "test_xs = all_xs[train_num:]\n",
    "test_ys = all_ys[train_num:]\n",
    "\n",
    "# convert to xgb matrix\n",
    "dtrain = xgb.DMatrix(train_xs, label=train_ys)\n",
    "dtest = xgb.DMatrix(test_xs, label=test_ys)"
   ]
  },
  {
   "cell_type": "code",
   "execution_count": 3,
   "metadata": {
    "collapsed": false
   },
   "outputs": [
    {
     "name": "stderr",
     "output_type": "stream",
     "text": [
      "[0]\tvalidation_0-mlogloss:1.381235\tvalidation_1-mlogloss:1.385584\n",
      "[1]\tvalidation_0-mlogloss:1.202544\tvalidation_1-mlogloss:1.217052\n"
     ]
    },
    {
     "data": {
      "text/plain": [
       "XGBClassifier(base_score=0.5, colsample_bylevel=1, colsample_bytree=1,\n",
       "       gamma=0, learning_rate=0.1, max_delta_step=0, max_depth=3,\n",
       "       min_child_weight=1, missing=None, n_estimators=2, nthread=4,\n",
       "       objective='multi:softprob', reg_alpha=0, reg_lambda=1,\n",
       "       scale_pos_weight=1, seed=0, silent=False, subsample=0.0001)"
      ]
     },
     "execution_count": 3,
     "metadata": {},
     "output_type": "execute_result"
    }
   ],
   "source": [
    "# params = {'bst:max_depth': 5,\n",
    "#           'bst:eta': 0.1,\n",
    "#           'silent': 0,\n",
    "#           'objective': 'multi:softprob',\n",
    "#           'num_class': 5,\n",
    "#           'nthread': 16, # change this!\n",
    "#           'eval_metric': 'mlogloss',\n",
    "#           'subsample': 0.01}\n",
    "\n",
    "classifier = xgb.XGBClassifier(max_depth=3,\n",
    "                               learning_rate=0.1,\n",
    "                               n_estimators=2,\n",
    "                               silent=False,\n",
    "                               objective='multi:softprob',\n",
    "                               nthread=4,\n",
    "                               subsample=0.0001)\n",
    "classifier.fit(train_xs, train_ys,\n",
    "               eval_set=[(train_xs, train_ys), (test_xs, test_ys)], \n",
    "               eval_metric='mlogloss', \n",
    "               verbose=True)"
   ]
  },
  {
   "cell_type": "code",
   "execution_count": null,
   "metadata": {
    "collapsed": true
   },
   "outputs": [],
   "source": []
  }
 ],
 "metadata": {
  "kernelspec": {
   "display_name": "Python 2",
   "language": "python",
   "name": "python2"
  },
  "language_info": {
   "codemirror_mode": {
    "name": "ipython",
    "version": 2
   },
   "file_extension": ".py",
   "mimetype": "text/x-python",
   "name": "python",
   "nbconvert_exporter": "python",
   "pygments_lexer": "ipython2",
   "version": "2.7.6"
  }
 },
 "nbformat": 4,
 "nbformat_minor": 0
}
