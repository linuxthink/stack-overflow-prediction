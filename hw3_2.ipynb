{
 "cells": [
  {
   "cell_type": "code",
   "execution_count": 2,
   "metadata": {
    "collapsed": true
   },
   "outputs": [],
   "source": [
    "from collections import defaultdict\n",
    "import numpy as np\n",
    "import scipy as sp\n",
    "import cPickle as pickle\n",
    "import time\n",
    "from __future__ import print_function\n",
    "from collections import defaultdict"
   ]
  },
  {
   "cell_type": "code",
   "execution_count": 3,
   "metadata": {
    "collapsed": false
   },
   "outputs": [
    {
     "name": "stdout",
     "output_type": "stream",
     "text": [
      "19.0522539616\n"
     ]
    }
   ],
   "source": [
    "# laod raw data\n",
    "start_time = time.time()\n",
    "all_data = pickle.load(open(\"all_data.pickle\", \"rb\"))\n",
    "print(time.time() - start_time)"
   ]
  },
  {
   "cell_type": "code",
   "execution_count": 4,
   "metadata": {
    "collapsed": true
   },
   "outputs": [],
   "source": [
    "# get train and test set\n",
    "num_all = len(all_data)\n",
    "# train_data = all_data[:100000]\n",
    "train_data = all_data[:900000]\n",
    "valid_data = all_data[900000:]"
   ]
  },
  {
   "cell_type": "code",
   "execution_count": 5,
   "metadata": {
    "collapsed": true
   },
   "outputs": [],
   "source": [
    "# pre-process 0: build id <-> index infastructure\n",
    "\n",
    "# get all items and users\n",
    "item_ids = sorted(list(set([d['itemID'] for d in all_data])))\n",
    "user_ids = sorted(list(set([d['reviewerID'] for d in all_data])))\n",
    "\n",
    "# user and item numbers\n",
    "num_items = len(item_ids)\n",
    "num_users = len(user_ids)\n",
    "\n",
    "# build id <-> index map\n",
    "item_id_map_index = dict()\n",
    "item_index_map_id = dict()\n",
    "for index, item_id in enumerate(item_ids):\n",
    "    item_id_map_index[item_id] = index\n",
    "    item_index_map_id[index] = item_id\n",
    "    \n",
    "user_id_map_index = dict()\n",
    "user_index_map_id = dict()\n",
    "for index, user_id in enumerate(user_ids):\n",
    "    user_id_map_index[user_id] = index\n",
    "    user_index_map_id[index] = user_id"
   ]
  },
  {
   "cell_type": "code",
   "execution_count": 6,
   "metadata": {
    "collapsed": true
   },
   "outputs": [],
   "source": [
    "# pre-process 1: build train_rating_array, valid_rating_array\n",
    "\n",
    "# build array [user_index, item_index, rating]\n",
    "train_rating_array = []\n",
    "for d in train_data:\n",
    "    user_index = user_id_map_index[d['reviewerID']]\n",
    "    item_index = item_id_map_index[d['itemID']]\n",
    "    rating = d['rating']\n",
    "    train_rating_array.append([user_index, item_index, rating])\n",
    "train_rating_array = np.array(train_rating_array).astype(int)\n",
    "\n",
    "# build array [user_index, item_index, rating]\n",
    "valid_rating_array = []\n",
    "for d in valid_data:\n",
    "    user_index = user_id_map_index[d['reviewerID']]\n",
    "    item_index = item_id_map_index[d['itemID']]\n",
    "    rating = d['rating']\n",
    "    valid_rating_array.append([user_index, item_index, rating])\n",
    "valid_rating_array = np.array(valid_rating_array).astype(int)\n",
    "\n",
    "# build array [user_index, item_index, rating]\n",
    "all_rating_array = []\n",
    "for d in all_data:\n",
    "    user_index = user_id_map_index[d['reviewerID']]\n",
    "    item_index = item_id_map_index[d['itemID']]\n",
    "    rating = d['rating']\n",
    "    all_rating_array.append([user_index, item_index, rating])\n",
    "all_rating_array = np.array(all_rating_array).astype(int)"
   ]
  },
  {
   "cell_type": "code",
   "execution_count": 7,
   "metadata": {
    "collapsed": true
   },
   "outputs": [],
   "source": [
    "# pre-process 2: # utility and update functions\n",
    "def get_valid_mse(lam, alpha, beta_us, beta_is, rating_array, valid_rating_array):\n",
    "    predicts = alpha + beta_us[valid_rating_array[:, 0]] + beta_is[valid_rating_array[:, 1]]\n",
    "    ratings = valid_rating_array[:, 2].astype(float)\n",
    "    return (1. / valid_rating_array.shape[0]) * np.sum((predicts - ratings) ** 2.0)\n",
    "\n",
    "def get_cost(lam, alpha, beta_us, beta_is, rating_array, Ruis, Rius):\n",
    "    predicts = alpha + beta_us[rating_array[:, 0]] + beta_is[rating_array[:, 1]]\n",
    "    ratings = rating_array[:, 2].astype(float)\n",
    "    return np.sum((predicts - ratings) ** 2.) + lam * (np.sum(beta_us ** 2.) + np.sum(beta_is ** 2.))\n",
    "    \n",
    "def alpha_update(lam, alpha, beta_us, beta_is, rating_array, Ruis, Rius):\n",
    "    sum_Rui = np.sum(rating_array[:, 2])\n",
    "    sum_beta_u = np.sum(beta_us[rating_array[:, 0]]) # fancy indexing\n",
    "    sum_beta_i = np.sum(beta_is[rating_array[:, 1]]) # fancy indexing\n",
    "    return (sum_Rui - sum_beta_u - sum_beta_i) / rating_array.shape[0]\n",
    "\n",
    "def beta_us_update(lam, alpha, beta_us, beta_is, rating_array, Ruis, Rius):\n",
    "    new_beta_us = np.zeros_like(beta_us)\n",
    "    for user_index in xrange(num_users):\n",
    "        # [the set of items] reviewed by user u\n",
    "        Iu = Ruis[user_index].keys()\n",
    "        Iu_size = len(Iu)\n",
    "        # sums\n",
    "        sum_Rui = np.sum(Ruis[user_index].values())\n",
    "        sum_alpha = Iu_size * alpha\n",
    "        sum_beta_i = np.sum(beta_is[Iu])\n",
    "        # write result\n",
    "        new_beta_us[user_index] = float(sum_Rui - sum_alpha - sum_beta_i) / (lam + Iu_size)\n",
    "    return new_beta_us\n",
    "\n",
    "def beta_is_update(lam, alpha, beta_us, beta_is, rating_array, Ruis, Rius):\n",
    "    new_beta_is = np.zeros_like(beta_is)\n",
    "    for item_index in xrange(num_items):\n",
    "        # [the set of users] reviewd item i\n",
    "        Ui = Rius[item_index].keys()\n",
    "        Ui_size = len(Ui)\n",
    "        # sums\n",
    "        sum_Rui = np.sum(Rius[item_index].values())\n",
    "        sum_alpha = Ui_size * alpha\n",
    "        sum_beta_u = np.sum(beta_us[Ui])\n",
    "        # write result\n",
    "        new_beta_is[item_index] = float(sum_Rui - sum_alpha - sum_beta_u) / (lam + Ui_size)\n",
    "    return new_beta_is\n",
    "\n",
    "def train_and_eval(max_iter, \n",
    "                   lam, alpha, beta_us, beta_is, \n",
    "                   rating_array, valid_rating_array,\n",
    "                   print_step = False):\n",
    "    \n",
    "    # build Mapping of Ruis and Rius\n",
    "    Ruis = defaultdict(dict)\n",
    "    Rius = defaultdict(dict)\n",
    "    # Iu = Ruis[user_index].keys() # [the set of items] reviewed by user u\n",
    "    # Ui = Ruis[item_index].keys() # [the set of users] reviewed item i\n",
    "    for t in rating_array:\n",
    "        user_index = t[0]\n",
    "        item_index = t[1]\n",
    "        rating = t[2]\n",
    "        Ruis[user_index][item_index] = rating\n",
    "        Rius[item_index][user_index] = rating\n",
    "    \n",
    "    # train on this dataset\n",
    "    for i in xrange(max_iter):\n",
    "        alpha = alpha_update(lam, alpha, beta_us, beta_is, rating_array, Ruis, Rius)\n",
    "        beta_us = beta_us_update(lam, alpha, beta_us, beta_is, rating_array, Ruis, Rius)\n",
    "        beta_is = beta_is_update(lam, alpha, beta_us, beta_is, rating_array, Ruis, Rius)\n",
    "        if print_step:\n",
    "            cost = get_cost(lam, alpha, beta_us, beta_is, rating_array, Ruis, Rius)\n",
    "            valid_mse = get_valid_mse(lam, alpha, beta_us, beta_is, \n",
    "                                      rating_array, valid_rating_array)\n",
    "            print(i, cost, valid_mse)\n",
    "    \n",
    "    cost = get_cost(lam, alpha, beta_us, beta_is, rating_array, Ruis, Rius)\n",
    "    valid_mse = get_valid_mse(lam, alpha, beta_us, beta_is, rating_array, valid_rating_array)\n",
    "    \n",
    "    return(cost, valid_mse, alpha, beta_us, beta_is)"
   ]
  },
  {
   "cell_type": "code",
   "execution_count": 8,
   "metadata": {
    "collapsed": false
   },
   "outputs": [
    {
     "name": "stdout",
     "output_type": "stream",
     "text": [
      "alpha 4.21898777778\n",
      "valid_mse 0.969062751573\n"
     ]
    }
   ],
   "source": [
    "# 3.5 average predictor (using index based sorted list)\n",
    "# get averaged rating\n",
    "alpha = np.mean(train_rating_array[:, 2])\n",
    "print('alpha', alpha)\n",
    "\n",
    "# calculate mse\n",
    "valid_ratings = valid_rating_array[:, 2]\n",
    "valid_mse = (1. / valid_rating_array.shape[0]) * np.sum((valid_ratings - alpha) ** 2.0)\n",
    "print('valid_mse', valid_mse)"
   ]
  },
  {
   "cell_type": "code",
   "execution_count": 9,
   "metadata": {
    "collapsed": false
   },
   "outputs": [],
   "source": [
    "# # 3.6 fit baseline model: rating(u, i) = alpha + beta_u + beta_i\n",
    "\n",
    "# # set training\n",
    "# max_iter = 30\n",
    "\n",
    "# # parameters\n",
    "# lam = 1.0\n",
    "# alpha = 0.0\n",
    "# beta_us = np.random.normal(0, 0.5, (num_users,))\n",
    "# beta_is = np.random.normal(0, 0.5, (num_items,))\n",
    "\n",
    "# cost, valid_mse, alpha, beta_us, beta_is = train_and_eval(max_iter, \n",
    "#                                                           lam, alpha, beta_us, beta_is, \n",
    "#                                                           train_rating_array, valid_rating_array,\n",
    "#                                                           print_step=True)\n",
    "# print(cost, valid_mse)"
   ]
  },
  {
   "cell_type": "code",
   "execution_count": 10,
   "metadata": {
    "collapsed": false
   },
   "outputs": [],
   "source": [
    "# # 3.7 report the user and item id that have the largest and smallest values of beta\n",
    "# print('user, largest', user_index_map_id[np.argmax(beta_us)])\n",
    "# print('user, smallest', user_index_map_id[np.argmin(beta_us)])\n",
    "\n",
    "# print('item, largest', item_index_map_id[np.argmax(beta_is)])\n",
    "# print('item, smallest', item_index_map_id[np.argmin(beta_is)])"
   ]
  },
  {
   "cell_type": "code",
   "execution_count": 11,
   "metadata": {
    "collapsed": false
   },
   "outputs": [],
   "source": [
    "# # 3.8 search for the best lam\n",
    "# lams = [0.001, 0.01, 0.1, 1.0, 10, 100]\n",
    "# max_iter = 30\n",
    "\n",
    "# # init variables\n",
    "# alpha = 0.0\n",
    "# beta_us = np.random.normal(0, 0.5, (num_users,))\n",
    "# beta_is = np.random.normal(0, 0.5, (num_items,))\n",
    "\n",
    "# results = []\n",
    "# for lam in lams:\n",
    "#     cost, mse, _, _, _ = train_and_eval(max_iter, \n",
    "#                                         lam, alpha, beta_us, beta_is, \n",
    "#                                         train_rating_array, valid_rating_array,\n",
    "#                                         print_step=True)\n",
    "#     print(lam, cost, mse)\n",
    "#     results.append([lam, cost, mse])"
   ]
  },
  {
   "cell_type": "code",
   "execution_count": 12,
   "metadata": {
    "collapsed": false
   },
   "outputs": [
    {
     "name": "stdout",
     "output_type": "stream",
     "text": [
      "0 622849.73205 0.612895306398\n",
      "1 606249.192095 0.596753368409\n",
      "2 605568.764076 0.595845565023\n",
      "3 605443.983258 0.595622084013\n",
      "4 605407.1365 0.595532575653\n",
      "5 605393.102107 0.595485618904\n",
      "6 605386.472208 0.595456392733\n",
      "7 605382.672363 0.595436155627\n",
      "8 605380.1385 0.595421215662\n",
      "9 605378.265278 0.595409760391\n",
      "10 605376.786488 0.595400775068\n",
      "11 605375.569054 0.595393626291\n",
      "12 605374.538378 0.595387884822\n",
      "13 605373.648657 0.595383242554\n",
      "14 605372.869788 0.595379469655\n",
      "15 605372.180956 0.595376390259\n",
      "16 605371.567168 0.595373867498\n",
      "17 605371.01724 0.595371793607\n",
      "18 605370.522558 0.595370083033\n",
      "19 605370.076293 0.595368667445\n",
      "20 605369.672886 0.595367492012\n",
      "21 605369.307702 0.595366512574\n",
      "22 605368.976801 0.595365693458\n",
      "23 605368.676777 0.595365005773\n",
      "24 605368.404646 0.59536442607\n",
      "25 605368.157769 0.595363935279\n",
      "26 605367.933788 0.595363517863\n",
      "27 605367.73059 0.595363161145\n",
      "28 605367.546267 0.595362854761\n",
      "29 605367.379097 0.595362590231\n",
      "605367.379097 0.595362590231\n"
     ]
    }
   ],
   "source": [
    "# now train on all data\n",
    "max_iter = 30\n",
    "\n",
    "# init variables\n",
    "lam = 1.0\n",
    "alpha = 0.0\n",
    "beta_us = np.random.normal(0, 0.5, (num_users,))\n",
    "beta_is = np.random.normal(0, 0.5, (num_items,))\n",
    "\n",
    "cost, mse, alpha, beta_us, beta_is = train_and_eval(max_iter, \n",
    "                                                    lam, alpha, beta_us, beta_is, \n",
    "                                                    all_rating_array, valid_rating_array,\n",
    "                                                    print_step=True)\n",
    "print(cost, mse)"
   ]
  },
  {
   "cell_type": "code",
   "execution_count": 13,
   "metadata": {
    "collapsed": false
   },
   "outputs": [],
   "source": [
    "pickle.dump((alpha, beta_us, beta_is), open( \"alpha_beta_init.feature\", \"wb\"))"
   ]
  },
  {
   "cell_type": "code",
   "execution_count": 14,
   "metadata": {
    "collapsed": true
   },
   "outputs": [],
   "source": [
    "# get header_str and user_item_ids to predict\n",
    "with open('pairs_Rating.txt') as f:\n",
    "    # read and strip lines\n",
    "    lines = [l.strip() for l in f.readlines()]\n",
    "    # stirip out the headers\n",
    "    header_str = lines.pop(0)\n",
    "    # get a list of user_item_ids\n",
    "    user_item_ids = [l.split('-') for l in lines]\n",
    "    \n",
    "# write to output file\n",
    "f = open('predictions_Rating.txt', 'w')\n",
    "print(header_str, file=f)\n",
    "for user_id, item_id in user_item_ids:\n",
    "    rating = alpha + beta_us[user_id_map_index[user_id]] + beta_is[item_id_map_index[item_id]]\n",
    "    rating = min(5.0, rating)\n",
    "    rating = max(0.0, rating)\n",
    "    print('%s-%s,%s' % (user_id, item_id, rating), file=f)\n",
    "f.close()"
   ]
  }
 ],
 "metadata": {
  "kernelspec": {
   "display_name": "Python 2",
   "language": "python",
   "name": "python2"
  },
  "language_info": {
   "codemirror_mode": {
    "name": "ipython",
    "version": 2
   },
   "file_extension": ".py",
   "mimetype": "text/x-python",
   "name": "python",
   "nbconvert_exporter": "python",
   "pygments_lexer": "ipython2",
   "version": "2.7.6"
  }
 },
 "nbformat": 4,
 "nbformat_minor": 0
}
